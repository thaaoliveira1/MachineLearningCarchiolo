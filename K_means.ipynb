{
 "cells": [
  {
   "attachments": {},
   "cell_type": "markdown",
   "metadata": {},
   "source": [
    "# K means"
   ]
  },
  {
   "attachments": {},
   "cell_type": "markdown",
   "metadata": {},
   "source": [
    "K-means clustering can be used in NLP sentiment analysis to identify groups of words or phrases that have similar sentiment scores. This can help to better understand the sentiment expressed in a given text.\n",
    "\n",
    "To use K-means clustering for sentiment analysis, one approach is to first extract features from the text, such as the frequency of certain words or phrases, or the sentiment scores of individual words. These features can then be used to create a matrix representation of the text data, with each row representing a document or sentence, and each column representing a feature.\n",
    "\n",
    "The K-means algorithm can then be applied to this matrix to group together documents or sentences with similar feature values. For example, K-means can be used to cluster together positive or negative sentiment words or phrases in a given text.\n",
    "\n",
    "After the clustering is completed, the sentiment scores of the clusters can be calculated by averaging the sentiment scores of the individual words or phrases in each cluster. This can provide a more nuanced understanding of the sentiment expressed in the text, as well as help to identify specific topics or aspects of the text that are associated with positive or negative sentiment."
   ]
  },
  {
   "cell_type": "code",
   "execution_count": 4,
   "metadata": {},
   "outputs": [],
   "source": [
    "# Import necessary libraries\n",
    "import pandas as pd\n",
    "from sklearn.feature_extraction.text import TfidfVectorizer\n",
    "from sklearn.cluster import KMeans"
   ]
  },
  {
   "cell_type": "code",
   "execution_count": 5,
   "metadata": {},
   "outputs": [
    {
     "name": "stderr",
     "output_type": "stream",
     "text": [
      "C:\\Users\\Bita\\AppData\\Local\\Temp\\ipykernel_4572\\3876859935.py:3: FutureWarning: The squeeze argument has been deprecated and will be removed in a future version. Append .squeeze(\"columns\") to the call to squeeze.\n",
      "\n",
      "\n",
      "  y_train = pd.read_csv('y_train.csv', squeeze=True, encoding=DATASET_ENCODING)[:-1]\n",
      "C:\\Users\\Bita\\AppData\\Local\\Temp\\ipykernel_4572\\3876859935.py:4: FutureWarning: The squeeze argument has been deprecated and will be removed in a future version. Append .squeeze(\"columns\") to the call to squeeze.\n",
      "\n",
      "\n",
      "  y_test = pd.read_csv('y_test.csv', squeeze=True, encoding=DATASET_ENCODING)[:-1]\n",
      "C:\\Users\\Bita\\AppData\\Local\\Temp\\ipykernel_4572\\3876859935.py:5: FutureWarning: The squeeze argument has been deprecated and will be removed in a future version. Append .squeeze(\"columns\") to the call to squeeze.\n",
      "\n",
      "\n",
      "  X_test = pd.read_csv('X_test.csv', squeeze=True, encoding=DATASET_ENCODING)[:-1]\n",
      "C:\\Users\\Bita\\AppData\\Local\\Temp\\ipykernel_4572\\3876859935.py:6: FutureWarning: The squeeze argument has been deprecated and will be removed in a future version. Append .squeeze(\"columns\") to the call to squeeze.\n",
      "\n",
      "\n",
      "  X_train = pd.read_csv('X_train.csv', squeeze=True, encoding=DATASET_ENCODING)[:-1]\n"
     ]
    }
   ],
   "source": [
    "#Load csv files\n",
    "DATASET_ENCODING = \"ISO-8859-1\"\n",
    "y_train = pd.read_csv('y_train.csv', squeeze=True, encoding=DATASET_ENCODING)[:-1]\n",
    "y_test = pd.read_csv('y_test.csv', squeeze=True, encoding=DATASET_ENCODING)[:-1]\n",
    "X_test = pd.read_csv('X_test.csv', squeeze=True, encoding=DATASET_ENCODING)[:-1]\n",
    "X_train = pd.read_csv('X_train.csv', squeeze=True, encoding=DATASET_ENCODING)[:-1]\n",
    "\n",
    "X_train.fillna('', inplace=True)\n",
    "X_test.fillna('', inplace=True)\n",
    "\n",
    "y_test = y_test.replace(4,1)\n",
    "y_train = y_train.replace(4,1)\n",
    "\n",
    "# Load data\n",
    "data = pd.read_csv('x_train.csv')"
   ]
  },
  {
   "cell_type": "code",
   "execution_count": 6,
   "metadata": {},
   "outputs": [
    {
     "name": "stdout",
     "output_type": "stream",
     "text": [
      "Document  0 is in cluster  0\n",
      "Document  1 is in cluster  0\n",
      "Document  2 is in cluster  1\n",
      "Document  3 is in cluster  0\n",
      "Document  4 is in cluster  0\n",
      "Document  5 is in cluster  0\n"
     ]
    },
    {
     "name": "stderr",
     "output_type": "stream",
     "text": [
      "c:\\Users\\Bita\\anaconda3\\lib\\site-packages\\sklearn\\cluster\\_kmeans.py:870: FutureWarning: The default value of `n_init` will change from 10 to 'auto' in 1.4. Set the value of `n_init` explicitly to suppress the warning\n",
      "  warnings.warn(\n"
     ]
    }
   ],
   "source": [
    "# Vectorize the text data using TF-IDF\n",
    "vectorizer = TfidfVectorizer(stop_words='english')\n",
    "tfidf = vectorizer.fit_transform(X_train)\n",
    "\n",
    "# Perform K-means clustering on the vectorized data\n",
    "kmeans = KMeans(n_clusters=2, random_state=0)\n",
    "kmeans.fit(tfidf)\n",
    "\n",
    "# Print the cluster labels for each document\n",
    "for i, label in enumerate(kmeans.labels_):\n",
    "    print(\"Document \", i, \"is in cluster \", label)"
   ]
  }
 ],
 "metadata": {
  "kernelspec": {
   "display_name": "base",
   "language": "python",
   "name": "python3"
  },
  "language_info": {
   "codemirror_mode": {
    "name": "ipython",
    "version": 3
   },
   "file_extension": ".py",
   "mimetype": "text/x-python",
   "name": "python",
   "nbconvert_exporter": "python",
   "pygments_lexer": "ipython3",
   "version": "3.9.13"
  },
  "orig_nbformat": 4
 },
 "nbformat": 4,
 "nbformat_minor": 2
}
