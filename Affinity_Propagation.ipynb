{
 "cells": [
  {
   "attachments": {},
   "cell_type": "markdown",
   "metadata": {},
   "source": [
    "# Affinity Propagation"
   ]
  },
  {
   "attachments": {},
   "cell_type": "markdown",
   "metadata": {},
   "source": [
    "Affinity Propagation is a clustering algorithm used in natural language processing (NLP) for sentiment analysis which is another unsupervised machine learning algorithm. In contrast to K-means clustering, Affinity Propagation Algorithm does not require the number of clusters to be specified beforehand. Instead, it uses a message-passing algorithm to identify exemplars, or data points that are representative of their clusters. Each data point is assigned a responsibility score and an availability score, which are used to update the exemplars until convergence.\n",
    "\n",
    "Affinity Propagation is a clustering algorithm used in natural language processing (NLP) for sentiment analysis. Clustering algorithms group similar objects together based on a certain similarity metric. In the case of sentiment analysis, the objects are textual documents or sentences, and the similarity metric is based on the sentiment expressed in the text.\n",
    "\n",
    "Affinity Propagation is particularly useful for sentiment analysis because it does not require the number of clusters to be predefined, which can be difficult to determine in advance. Instead, it automatically determines the number of clusters by finding the most representative data points, known as exemplars, for each cluster.\n",
    "\n",
    "The algorithm works by iteratively passing messages between data points until a set of exemplars is identified that best represent the entire data set. These exemplars can then be used to assign new data points to the appropriate cluster.\n",
    "\n",
    "Overall, Affinity Propagation is a powerful tool for sentiment analysis in NLP because it can automatically identify the most representative data points for each cluster without requiring a priori knowledge of the number of clusters."
   ]
  },
  {
   "cell_type": "code",
   "execution_count": 8,
   "metadata": {},
   "outputs": [],
   "source": [
    "# Import necessary libraries\n",
    "from sklearn.feature_extraction.text import TfidfVectorizer\n",
    "from sklearn.cluster import AffinityPropagation\n",
    "import pandas as pd\n",
    "from sklearn import metrics\n"
   ]
  },
  {
   "cell_type": "code",
   "execution_count": 2,
   "metadata": {},
   "outputs": [
    {
     "name": "stderr",
     "output_type": "stream",
     "text": [
      "C:\\Users\\Thamires\\AppData\\Local\\Temp\\ipykernel_13284\\3876859935.py:3: FutureWarning: The squeeze argument has been deprecated and will be removed in a future version. Append .squeeze(\"columns\") to the call to squeeze.\n",
      "\n",
      "\n",
      "  y_train = pd.read_csv('y_train.csv', squeeze=True, encoding=DATASET_ENCODING)[:-1]\n",
      "C:\\Users\\Thamires\\AppData\\Local\\Temp\\ipykernel_13284\\3876859935.py:4: FutureWarning: The squeeze argument has been deprecated and will be removed in a future version. Append .squeeze(\"columns\") to the call to squeeze.\n",
      "\n",
      "\n",
      "  y_test = pd.read_csv('y_test.csv', squeeze=True, encoding=DATASET_ENCODING)[:-1]\n",
      "C:\\Users\\Thamires\\AppData\\Local\\Temp\\ipykernel_13284\\3876859935.py:5: FutureWarning: The squeeze argument has been deprecated and will be removed in a future version. Append .squeeze(\"columns\") to the call to squeeze.\n",
      "\n",
      "\n",
      "  X_test = pd.read_csv('X_test.csv', squeeze=True, encoding=DATASET_ENCODING)[:-1]\n",
      "C:\\Users\\Thamires\\AppData\\Local\\Temp\\ipykernel_13284\\3876859935.py:6: FutureWarning: The squeeze argument has been deprecated and will be removed in a future version. Append .squeeze(\"columns\") to the call to squeeze.\n",
      "\n",
      "\n",
      "  X_train = pd.read_csv('X_train.csv', squeeze=True, encoding=DATASET_ENCODING)[:-1]\n"
     ]
    }
   ],
   "source": [
    "#Load csv files\n",
    "DATASET_ENCODING = \"ISO-8859-1\"\n",
    "df = pd.read_csv('sampled_twitter_data.csv', squeeze=True, encoding=DATASET_ENCODING)[:-1]\n",
    "y_train = pd.read_csv('y_train.csv', squeeze=True, encoding=DATASET_ENCODING)[:-1]\n",
    "y_test = pd.read_csv('y_test.csv', squeeze=True, encoding=DATASET_ENCODING)[:-1]\n",
    "X_test = pd.read_csv('X_test.csv', squeeze=True, encoding=DATASET_ENCODING)[:-1]\n",
    "X_train = pd.read_csv('X_train.csv', squeeze=True, encoding=DATASET_ENCODING)[:-1]\n",
    "\n",
    "X_train.fillna('', inplace=True)\n",
    "X_test.fillna('', inplace=True)"
   ]
  },
  {
   "cell_type": "code",
   "execution_count": 6,
   "metadata": {},
   "outputs": [
    {
     "name": "stdout",
     "output_type": "stream",
     "text": [
      "Number of clusters: 13\n",
      "Cluster 7:\n",
      "['live folk singer bus folk type dancing people laughed', 'last hrs team sad', 'yay friday relaxing low key weekend planned', 'apparently needed luck', 'many people g iphones want sell maybe limit white iphones dont even know much', 'bgirlshorty lakers fan', 'atty ronnie geron posted news isabela raids pgmas fb wall', 'okay ill try later', 'way hot softball today wish bye week going sweating buckets', 'cant sleep got mind miss hopefully work luv miss shane', 'edenettienne omg hate miami weather sunny freaking hot hell yesterday amp today horrid even lost power morning', 'jonasbrothers new music video excited cant wait', 'kissfmnightshow prob im going watch online thats possible right lol show totally sucked', 'leannebennett got reco yet well done impressed dont give intend reach literary heights', 'bawldguy jeff youre sounding like red sox fan', 'ddlovato sana claus tru pretty', 'parliaments', 'wish understood slang', 'sin shes going look great hun good luck', 'german book books expensive', 'supermaryg dont write much days', 'bought shoes', 'ive outdone time ending middle someone elses drama didnt even anything', 'via buddyskakun woof woof colder today walky', 'workman lol good thinking', 'cant get work done nice weather glastonbury right maybe next year', 'u cant cry spilled milkspilled coffee another story', 'im gonna get hooked thisthanks albert', 'teachtech makes feel better im going year either', 'rip brother benjamin wilkes jr love miss', 'blackbiscuits prefer coffee kalhua tia maria used drink monthly poetry grp made poetry better', 'jensenackles absolutely love supernatural friend going convention next year', 'cotieno ready ever cant stop sneezing though might allergic mondays somebody tell boss hows looking', 'banillaface ill try bwahhahahahah lol', 'watching mall cop', 'eating pizza listening love parachute amazing', 'aleener dont know closed eyes', 'right distracted loadingreadyrun wiki ive decided start getting weirdofilms video stuff', 'crrystalbabe im visiting summer', 'following perthaisa guys could shifty worth following regardless', 'yodaroubaos tail httpyfrogcompj', 'im brian shouldnt god indecisive hates', 'shout new followers im random im married man name music last name hiphop tweet stalking allowed', 'httptwitpiccomhepu great shoot start day thanks guys', 'aplusk schweet actual good news lately', 'abnertheowl im watching', 'allanasaur skool jam class comp thingy win nooo bradies mine', 'feeling good time bedthank god frrriiiday mee', 'shahbaa aliafattouch know need blackberry ps zanzibar im jealous', 'lightstalking yeah started bad time dont worry things health freedom still living', 'finally trading yesterdays music ipod ive hunting downtheir itunes love david', 'mikevandike shes milesa away wanting gorgeous man', 'fangirl carl asked many laps bob said ill tell laps dont worry aka shut drive', 'seriog tried allows chars numbers underscore ill go jankowarpspeed', 'dangit cute guys taken gay', 'im going miss california', 'lostdeejay whoa horse cowboy whip kinky', 'lornajh ah let know goes love hope life treating well xxx', 'awesome british airways guy didnt charge bag kg security decided swab everything rucksack', 'dominos cheaper tuesday im eating pizza', 'cadykansas someone used turn signal hope got video blog', 'need coffee cant take sleepless nights guess im missing someone', 'sup peeps lol im back', 'roelants believe may think differently widgets near future', 'stevenroy dont camp thats girly product appreciate solution though ta prob hair already grown', 'chainsawraven thanks bro', 'badabam sry didnt feel well therell another change believe hope ffk fun lots inspiring input', 'doesnt know time workout tonight', 'bradj get isle man', 'still dancin groogrux king', 'disturbed purse stolen car gas station trip vegas start', 'nah crashed', 'thinking lots thing', 'colorblindfish blue wow', 'daisymsph morning u leave back cali know havent seen eachothr', 'miss using twitter', 'worst back ache ever cant even go home', 'mattantonczyk room obviously yeast infection andor infestation haha', 'taking school play rumplestiltkin way seriously need kids find center focus lol im great day', 'kazzba really bad weather surprisingly sunny', 'xsarahx might able go beths party thingy isnt party', 'kevinedwardsjr aight follow u sorry late answer still dont clue twitter works', 'ecoute un street cd de mobb deep brand new', 'finishing sum hw gnna watch movie cos go skool late moro yaaay', 'kbreuner reminds response artists think silently heads asked work free', 'massagemichael lol dont camera take pic work cell doesnt allow upload pics sure', 'violetjazz tomorrows good practice', 'thanks miss cybernight juss need extra atmosphere work school iis', 'matt get voted american idol', 'heck going twitter last days slow bad gateways time outs error messages eaten tweets', 'changed profile photo hope looks nice', 'allievalde pop balloon next earor water balloon head', 'im feeling good today', 'hopefully chachi feels better tomorrow', 'mcherrywv hello found buttercup', 'realizes cant listen fastmoving sports games radio dont know terminology amp dont know players hah lakers', 'still sunny lavly im inside cos im lobstery even forehead eh kyloooo', 'wheres mike cash cash pictures', 'mikecane wordpad st century still isnt', 'maverickwoman saved chrctrs scored name interesting also rule rule live quotomit needless wordsquot', 'kazeyuusha huh n dnt member h n myk idk wat happened stpped talkin', 'belted dark congregation reason think got back upstairs neighbors sound system', 'hi everyone', 'madoox hi nice meet', 'longzheng standard many quotstandardsquot html funny anymore', 'stephorton haha ya supposed mean lol chance wish', 'goodnight thanks party boysummer', 'woke helloooooooo whats whats new tweeting side things', 'teamtalk bet Ã¯Â¿Â½ pompey lose bet get Ã¯Â¿Â½ cashback easy httptinyurlcomcslat', 'airbus recorders may never found httpeditioncnncomworldamericasfranceplanememorialindexhtml', 'robmargel go dinosaur park combe martin great fully animatronic trex', 'mishnan sorry didnt reply sooner lawrence welk snli like chasing cars', 'haiiiss lonely holidayy', 'new art piece im wrking fun httpbitlygmhug let know u think', 'stay positive today guys peaceee ill back later x x', 'dcwusmc didnt manage run walk dog awhile amp rockin dance session blood flowing sure lol', 'smozer cant get link work send private message gr', 'omarion invite', 'use cyberduck well icon duck sold httptinyurlcomlgrkuq', 'wondering spend day waste half alrd', 'hilaryaduff song happy one favorites songz', 'chrystinasayers chrys hey loveeee hows everything going im pumped girlicious store world love', 'good morninggggg little sunshines', 'shamazipan morning seem cheery im work soon u shouldgo streak silverburn', 'retrorazor selective make sure go fb apps disable twitter app avoids doubleposting', 'sriramvenkit much packaging amp little product raison dÃ£Âªtre us look ugc media fix', 'curlyminx august shes planned im driving start school sept', 'superkaylo monkey island interview find httpmylocmezqg', 'kellykelkool lol next thing knew', 'jevus im sorry miss much wanted know', 'gyaaaah car electrical fault driving til monday cinema seesomething', 'got work need caffeine robot vs monster httptwitpiccommr innocent wombat caught middle', 'jcrawfud dammit didnt time check iphone os morning get sleepy yrold school', 'stinky yo girl exciting transformed time', 'perused fieldnotes website good bad must return work', 'slept like half hour shit im running late', 'moochergirl hi survey seems working', 'plurlife account', 'thomasgudgeon looks good', 'dorkydeanna dane cook suck joke theif', 'twilightsnuggle hunnie miss u write msn', 'sirfamous aww long ya vaka', 'laurenzettler dont even k move house cant donate anyone else sorry', 'gloooooria say hi hometown really os count like times kept going crosseyed', 'rits guess unite taking much many others lives lately', 'sufficiency saw something similar today mama goose goslings', 'allensjk thanks affiliate link ill pass thanks', 'blue tits painting almost finished gonna take break go grab sun', 'yay wasnt blocked magnusholmgren', 'nottingham visiting uk online centres saw one really great one go digit meadows website blog later', 'aww crap missed live action aqua teen ill watch online later', 'less followers today', 'leavin work bbl', 'lhudgens makes think im twitter spammer im low twitterring im sorry hurt chance', 'iceicebabyice yo following mistake longest im still', 'omg gonna take years get mri scan', 'vainparadise hope didnt already know answerhaha loss', 'aboy machines', 'mjnewham cool movie u goin see need sort site might redesign broke uni', 'mums away barcelona today lucky need holiday seriously', 'aw im crying right aw', 'httpbitlymqfhg url updated come ovah', 'mmm life boring house days dog hubby', 'aliciali yes say ten con call', 'httptwitpiccomwqo lots bdays wk quick stop', 'would love thank new followers many follow write huge thanks talk soon', 'xsophxgx yea exactly good day school', 'chan hi thanks following today birthday', 'soooone day beach completely fried', 'cant believe nadal french open happy federer ur turn', 'hope one attached super long hair cut inches week', 'want boyfriend', 'nickbernstein understand usual awakening time poetry im', 'burn scar ugly', 'right gona vote tom head work bad times', 'ok really need go bed stop playing around twitter adding new friends hello new people', 'home away', 'beautifful thanks ill hang dont trip also relay message', 'httptwitpiccomjepw hmmm leather work', 'guy elevator said day without oatmeal like day without sunshine dudeur life must rock', 'missing prince charming ran away glass shoe', 'thuyhiendv lÃ¡ÂºÂ§n sau thi lÃ¡ÂºÂ¡i tiÃ¡ÂºÂ¿p cho thÃ¡ÂºÂ§y sÃ¡Â»Â£ em nhÃ£Â¡', 'erniess last official lunch class officers graduate tomorrow', 'nauseated doorhanging', 'king dog watches tv ha ha ha ha', 'jonasbrothers album awesome ddd world war iii awesome props nick', 'oops homeworks lazy', 'thisisdavina follow', 'concludes weekend texas back oklahomo go', 'bkoolmees dam hehe hours left week anyway', 'lisalavie beauty', 'real update breakfast downstairs fairly sure smell french toast win dad made enough fingers crossed', 'earth awake early oh yeahschool im tired school', 'hopes zacks mom makes home ok shes really losing way goodnight people', 'dgrubbs wish joining', 'perfect outside work', 'ate packets sugarfeeling like could jump high see stephanie lives', 'wanna go see fucked august may fly solo one bad times', 'morning yay school tomorrow noooo', 'victoriatweed opted corona mistake headache got million times worse', 'conditioning', 'would rather twitterpating husband twitterbut hes right', 'getting ready work huff huff', 'im waiting cousin cuz borrowed laptop', 'guess ima bad girl oh well supa tired another nap stalk lt', 'jamieoflove bret feel bad', 'jaredpadalecki welcome madness twitterland', 'delete songs ipod cause darn thing full', 'girlwithnoname hi lol didnt mean get quiet signed offlike scgirl married twitter', 'http sdetail details young woman killed today iran prayers', 'thebostonian Ã¯Â\\x84Ã®Â¹ Ã®Â\\xadÃ®ÂºÃ®Â±Ã®Â½Ã®Â±', 'great mondayam work need new schedule', 'babyboomergeek think best twitter tool like tweet later http', 'chelseaplayboy well get sydney virtual hug twitterhugz xo', 'well im vid storei little list suggested movies good think need cough lollies well', 'friends wants join crusade animal help stuff need someone go httpbitlyhmcae', 'got back nandos mmmm feels like stomach gunna burst foood', 'im dork believe dont know anything replies anyway love couple replies hope therell', 'lazyshoveldj lol yes mi ive run mi far week th workout love makes feel good', 'watched old slideshow kids prek omg freaking cute grow fast', 'pleaseee stop rollercoaster', 'thabaddestofny shit de nada chica problemo yeah knew somethin cuz like damn flyy p', 'ughhh omg forgot make card tonight dad papa gotta get', 'neilfws ive miro user quite time really like even though dont time watch much want', 'nikkimorris lol couple last night trying educate mates power twitter twas bad example', 'hollywoodmaids miss soooo much neeeddd see soon asap muah', 'awe sunday morning cannot believe going monday morning soon', 'back miami today', 'fherchie voting david first day new school mmm thats kinda scary lol hope ull make new friends immediately', 'every time lay outside read nice lazy afternoon bugs come want feast', 'loves new apartment ibiza lovely flatmates currently helping babysit cutest little girl ever', 'drjeffersnboggs welcome', 'gardenglen would think halfpounder would quoton rollquot', 'yesterday history tomorrows mystery today gift thats called present', 'pheobo lol shutup get free hangs backstage suck haha', 'siamusic sia favorite artist ever', 'katie herzig tweeted tattoo quotjenny lynnquot lyrics check httpyfrogcomjoj check music', 'fhillypino idk mannnnnnnn think tis fault', 'namenick thanks audioboo mention', 'yay chatting cute boy heheheheh', 'modernecohomes busy organizing shipments neocon id love catch next week ill email', 'back monday tomorrow weekends really fly', 'soonerviking good nirhgt friend pleasant dreams', 'marcgrandmaison omfg thats monitor lusting ages swivel portriat dont ended getting acer', 'nikiluv whats wrong', 'damn tomorrow scares shit hate prof suppose doesnt like', 'tommcfly made crie', 'taking care sick kid', 'kencamp mine', 'col think worth drive would hella go im still babysitting', 'taylorblue omigosh saw pic thats thats sooo wrong', 'gonna second cup coffee run store get gatorade hubby looking great today', 'rumovonzamonien dont wanna talk things gone', 'mileycyrus httptwitpiccompfv nice masks youre gorgeous miley', 'fnadzirah arent replying msn', 'repierce one piercings morining hate take work', 'heidrik im addicted music beautiful wonderful songs', 'blueeyedlady ok paralyzed make vent', 'jimmietryon server os bn administering linux servers years desktop another story stickin dual boot', 'im sure ugh want isaac know im sorry omg wish arms', 'thelibber let rain later', 'getmark hope get enjoy im stby til time usu wakeup plus im w cpt', 'watching naked show called eloquent beauty damn rancid cabin fever', 'tommcfly recording going well cant wait new album xo', 'hair ugh everything happening didnt plan need moment silence start using profane language', 'damni want wittyand get frustratedjust sit trying thinkand nothingdoes mean im quotsimplequot minded', 'pollyesther lets sayit didnt take hrs finish work hope fun', 'got try himalayan kitchen tonight walychee jfoodie bigbadpig chrishall amp vivian ono', 'fotensity httptwitpiccomfudt coolyou soem amazing work', 'yshieebe thanks went well', 'stephenkruiser im sorry hear dog', 'revsion revision looking forward exams', 'cunderwo taking personal wellness onlinefigure may well online uni anyways nothing nica', 'grantelectric im pretty sure ill show beach park since live like mins away', 'lufdxb ah see nope dubai old great song', 'backcommakatie tell mama back fam road trip gross', 'xdouble shoppen funny good', 'eviepolden seriously shit come right doorstep didnt', 'thelexvision u get sing twist hair song', 'tysiphonehelp take dont wanna deal', 'mediamavenmyrna thanks much kind words', 'httptwitpiccomm talking peter london makes miss london last summer much', 'great weekend far missing brian though spending rest weekend mom birthday', 'working gov project', 'wah want project natal httpplurkcompye', 'miragabi thank miraaaaaaaaaaa', 'want underwater camera', 'notmyweekend number need okay thats seriously shitty', 'headed mission hill small house party allston celebrate fes st wonderbar sounds like good night', 'susan sarandon guest late night w jimmy fallon tonight mother lover come hes former snl cast member', 'even rain relay life seems success', 'justjenzz startrek awesome lot said michelle said shouldnt watch ittt worth watching', 'dcsdmack good morning luv', 'work three hours feels like six', 'dellhomeuk appear Ã¯Â¿Â½ ive got acer aspire one tide', 'windblown photo shoot shops legacy soooo tired watching sex city reruns', 'oh yeah grand morning visit http shockmagcom', 'ttaasshhaa new ahp', 'collington youre welcome', 'put new song myspace called quotrubiks cubequot stop website arent busy id like honest opinion', 'chem going marys later meg billy coming', 'savagestar would cute', 'dont member leave comment httpbudurlcooneshot', 'yeah never made outside go covers hit streets morrow', 'loves reading spiderman comics continuously', 'blackcalalilly sorry beating u lol', 'internet connection today granny speed', 'sawickis oh hope feels better poor little guy', 'twibeshelp bugno icon follow reply direct message u place cursor profile pix twitter icon appears', 'pezgurl eeee yes saw prompt hoped someone would write', 'guess stick web tonight', 'anna im sure much though', 'gawdr lol use', 'giffen events may th andth details scom Ã¯Â¿Â½Ã¯Â¿Â½if come definitely introduce', 'follow dont want speak', 'never mind phish', 'ferretfreakx much fun tonight im totally stealing pictures upload hehehe', 'sicklythis fare well wish lucky sleepz', 'omgosh freaking miss atlanta soo much im moving back', 'going disneyland tonight', 'leology chapter rest week', 'finally home fight bff ever im like sad cuz dont know fault', 'wowits warm whats going chicago okwell im going enjoy one say anything maybe itll stay', 'someone somewhere didnt like slidon httpbitlyicbfj', 'ill return favour love song x', 'elviejon ya watched hbo couple days ago dont know name something hbo also', 'demilynn omg thtv coming back u hear gaaaa cant wait', 'wait', 'luciaeslucia good morning hope great weekend', 'werewolfembry', 'nvidia card giving fits pulled pevm hard time believing', 'eeeeeevonnnnn unhappy meant say camp fun ah', 'debbiefletcher see dinner photos send', 'im soooo thirsty want slush puppie would rather fabulous clearly havent got one though boooooo', 'crystas maybe swimming', 'fan rain bank holidays', 'peterfacinelli im gutted im working tomorrow night wont get see show', 'retroxbby aja miss da shittt outta graphics isnt anymore', 'wake tomorro x early morning train calicut gonna enjoy cousins couple days', 'fishtaco hey follow kassie', 'im sick tired hearing las vegas bad ex bad memories bad bad bad yet seems haunt fml', 'debralopez thanks amp feel better', 'justt woke tiredddd ill talk jantzen', 'time play delete game', 'lady asked casheir quotarent men work herequot waited herhave nice dayand burn hell', 'pmatty ahhhh thats shit dont want leave love going rooft', 'mariajechelon prob im glad youre enjoyin', 'want watch movie awards shown mtv', 'ell im still trying figure code lol im glad fun', 'jenniferwylie ahhh shouldnt pumpkin got new bed takes almost room literally bedroom', 'top mirrorloves amazing video services shout travdave', 'geoffdicks morning pleasant dreams wake whats plans day', 'tonight amazing spending night teoamike cristian tatum meeting people hahahaha mikes surfing', 'liinduhhh serious biff', 'lizyap front cover beth photo paper glossy n stuff aunts got lyk printers joke multimedia', 'bretthoof niga got', 'secondstomars im going best friend really sucks im working shes agreed rub gets back', 'gum wall camberwell httptwitpiccomtyy', 'nicolerichie wanted watch movie tonight one rent boo', 'effort time put relationships people learn enough trust anyone', 'gym work whilst watching wweat least wwrestling know im watching fake amp quotfor entertainment purposes onlyquot', 'fergmaster yeah twas wish show still miss watching', 'like french fries', 'ok couldnt nasty instead im eating sushi', 'awesome day surfing relaxing eating good food lovely lady liz dinner movie one best days ever', 'gkidny loves ny im boston', 'hes def getting fia guaranteed job least months httptinyurlcomkku', 'xcocochanel know ahah comedy xd', 'davidxo wanna lol', 'spent dollars wally world dont feel better', 'sore throat saturday gonna radd jazperabellera stormvincent abhorredlife monicatvu trracy', 'niquedashit thats right girl stay positive', 'csulaiman youre welcome', 'chrisjakob okey ahh u r idiot', 'yeah made hour half leaving look new apartments funn place crappy lol', 'deciding use twitter often follow everyone one chinese tonight whats favorite dish', 'misspella youre welcome ask anythingim always looking ideas forum posts youre certainly spamming', 'twitter isnt going phone anymore', 'awes sorta half asleep man srry guy cant wak', 'carmend hey', 'pauljchambers one', 'grilled steak tummy upset', 'playing pc game ownageeeeeeeeeeeeeeeeeeeeeee', 'caitb good luck', 'sisters birthday todayamp shes new york misss', 'got fucking bootcamp', 'save im feeling alone miss one guy ya kno', 'jasperblu think emp', 'im bored care tlk', 'aaargh want update myspace offline maintenance', 'neck hurts', 'one one tomorrow', 'least made smile even funny', 'god war looks awesome march', 'intuitube called daddy nobodies father', 'mdavid course thought leaders follow real experts', 'makinitmatter would cut circulation lol', 'aakb bethy nasty thing ignoring us thats gonna get ha nighters soo sorry', 'jasmines made pasta caprese salad love made cake dropped clots waste', 'need donations pls support easy u even maybanku httpbitlyeqzr', 'charlidean httptwitpiccomjmr going', 'judge people outer apperancespelling makes sad', 'jd really really really wish u give mp code mrjosh olin please despert', 'jgall well think youve got tough look froahs status ouch lol make alive promise', 'stellery stellery oh hai friday night im probably going log alt avoid raiding', 'supposed work really bad stomach pains dont know', 'sonnykissjay goodnight sleep well love p', 'really sucks im dads phone one battery thing left', 'southernbets understand completly xx', 'wowjust got done watching making te bandvery dramatic shed tear', 'current moment musical theater least favorite thing ever', 'awesome weekend great last hooray dc', 'seeing', 'rutitoottoots ah well problem appreciate personal touch though x', 'mcm origin live score update nsw vs qld converted origin qld', 'today could quotthe dayquot gulp flight imminent unluckiest pilot world regular pilot andy hot office meeting', 'kristenstewart show tv tonight britain cant find good luck though xx', 'oooh headache starting much computer maybe', 'thanks help', 'capital fm ball anyone knows anybody spare tickets could pleeease let know im desperate go', 'reinstalling desktop machine window open hearing birds making loud noises fighting closes window', 'tomwilliamsaxd heey sorry late reply lol im great cant waait tour come back tommy', 'day washing hoovering ironing planned', 'finrz plus show week sweet', 'take sweeettt nap', 'back work tomorrow two weeks idea whats happened hols lol', 'everyones get today', 'love mom yo amo mi mama thank mommy ti amo con tutto il mio cuore happy mothers day', 'annaantell zoo late', 'goin bed dreaming man alex skarsgard birthday mins get present bffhehe', 'look andy hurley wall andyhurleyday', 'omg happnd', 'mrspinkyivory knoww girl game tho lebron beastin thought bad', 'quotpatchouli oil amp incense surge popularity thes amps mostly among devotees free love amp hippie lifestylesquot', 'tryin print stupid assignment due month ago', 'madaboutbooks reading wtlf minute want read lost riders copies alice english library', 'musya xxaxxxaxaxaxaxaxxaxa never used cook tasty restaurant know specially trained people work', 'nightgown makes extra busty oh totally sprained ankle fml', 'going back brasil year', 'wazl right', 'school day done Ã¢Â\\x80Â¦ lets work', 'england cricket team need spend tomorrow throwing stumps never mind lions england rugby tomorrow', 'bye cor', 'love fridays fish fry frozen drinks heaven earth', 'great day yesterday good win forest celebratory staying drinks trip unsuccesful bbq Ã¯Â¿ stellas scream', 'retrorewind slap anything jordan knightplease thank', 'kdubbb whys funny', 'shruthibalan oh right thanks giving perspective', 'princesssuperc sounds fun safe', 'dougiemcfly argentina wont dry dont worry hahahaha kisses brazil', 'really need get sleep earlier lol', 'watched slumdog last night good im eating playing kingdom hearts may still little boy heart hahah', 'wzzmypantz hours assessments due tomorrow', 'andysowards lol man well im glad still time drop hang us buddy', 'got new battery half problem connectors need replaced still without car', 'nevershoutcyrus humour good company hahahey got another verse yaisiah check outits purty darn sweet', 'loving fact friday another beautiful day get go home see parents tonight', 'miss kitty went vet fixed today dont get back morning house wont tonight', 'buddhadoggirl poor thing xx', 'another dayyy school cat day', 'swiftor nice playing games fat princess littlebigplanet yesterday always feel left play', 'yaseminx yeah isnt fab', 'jaw really dropped heard heartless kris allen someones multiply site kris getting ltsgtfamousltsgtmainstream', 'monee oh someone specialim smiling', 'home time revise yay', 'working flu need soup', 'minnymich haha yeah main lethon melmie lvl warlock owned ill make one dragonmaw though', 'pakistan enough win sure sa need run rate doable', 'learning use subversion made first commit google code project im excited', 'sarahdownsouth picture makes look puffy need better lighting', 'mothersday sux', 'itsillakirono im fine dear', 'shoo ok ok mam jus angry', 'crazymokes ive done silversmithing remember piece molten metal rolls floor dont grab', 'looking forward seeing two blues players playing today days match go halfpenny powell', 'thomasfiss love thomasi always respect support decisionand ill miss youre gonna amazing things lt', 'new cod looks awesome cos xbox play new maps steve metal gear solid comn way tooo', 'wish least one person could talk anything watching alpha dog tonight tomorrow instead', 'actually hate decorating quite frustrating', 'realised bright outside still tiredpacking tomorrow', 'studying chapter quotorganizational agilityquot amp', 'cant believe june one month pope brothers', 'minatsuchan nice understanding worry dont want hurting feelings', 'starting new job seattle today', 'faith strength relationship', 'mystakool want sleep', 'hate physics', 'msrivercity good tho sparkdawgmusic family', 'thehza classic tr convertible roadster totaled one night drunk woman huge buick parked street gfs sob', 'train beautiful morning', 'watching gossip girl', 'church work johnny rockets tired kings dominion yesterday', 'b trying save cash next months vacation', 'marc ummm see really wanna dance loser', 'matkearney awesome sorry missed houston private party come back play show', 'problem getting professional jobfinding dressy work clothes days weeks', 'oh well added world cup tix days confirm day age', 'rell definitely', 'aerliss yes', 'snedwan sky news says air france quotlost hopequot theyre giving anything away', 'pooped work', 'afrockaday haha im actually making coffee right thanks sweet comment hope lovely weekend', 'thejoestory wellare twittering', 'inrsoul ooh sounds good belindaang doubt meet tomorrow', 'xbox died stress relief depressing middle moving new apartment ugh someone cheer', 'im going lakers honestly dont see orlando defeated sighhh much man power team', 'tommcfly tom love tweets please say quothiquot germany would make life germanylovesmcfly Ã¢Â\\x99Â¥', 'thereju yupit response smelly visual got comment loli want come uk soonthrow party dj u dhol', 'quotwhen see beauty around youlet detail remind lift head praisequot got home', 'wrightgirl hi thanks return hug blessed weekend', 'justgiving website appears please keep trying want give donation cancer research uk', 'sanders bohlke stage sadly didnt bring enough gear', 'birthday party', 'twattwitt bonjour', 'im upset didnt make american idol', 'brianlittrell welcome twitter', 'overground haha amazingly amazing anyone us watch jimmy kimmel tonight', 'pbadstibner good balanceused martial arts', 'looks nice window', 'got big girl cable today im booked solid weeks wont get watch next year sometime waaaa poor', 'little sister collar bone broken', 'check articles httpbitlyafrd', 'wow fucking sunset love city', 'valber wen u go us dont really choice ill go means wont get house', 'wtfboth caitlin kupono bottom hoping praying kayla evanwith respective partners b safe', 'icyflower yeah since way easier get', 'watching britains got talent sad songs bring tear eye lmao', 'stenyagustaf drink hot tea rasa peppermint hot lemon squash yum ntar sore throatnya aga berkurang dikit', 'figuring use new phone x', 'also friends sitting lap benches taken life still sad least wasnt abandoned', 'studying chemistry adit', 'ihuntmidgets butbutbut', 'looking show turn brain mush doesnt hurt anymore good free online ones know', 'nicholasbraun miss days would reply', 'craving cheese omelette thanks dcl', 'melrauc amazing job video', 'getting pulled overnot good ending tonightespecially poor bf', 'reatlas clean', 'still ship yesterday hoping leave somewhat early today', 'phone w katty clock moring staying alive phil collins hairline xd', 'thinkreferrals best thing contact affiliate trying plug', 'look like raw meat pink', 'heartmileycyrus lol', 'cashitoho sorry ruining', 'one building last night guestsno breakfast oh welltoday guestsso tomorrow shall food', 'dovilee good morning sunshine cant wait till site opens', 'im frusterated picture didnt load attempt number', 'home amp exhausted amp loving family still missing nashville whole lot', 'first day stealth building friendly faces macbook pro deployments herman miller desk chairs cupcakes good vibes day', 'quoti wanna impregnate sisterquot joke go well thanks alcohol', 'felixwidjaja oh problem sample date', 'anijade would love brunch however arent place', 'isak oh yeah said like ten words proud', 'gonna pick bernal uniforms later eww uniforms next yearr', 'petewentz happy birthdayy great one', 'cudnt eat dina feel bit ill lol', 'sick rainy weather go see letterday tonight jamaica plain washington st pm w nemesericsonquantum', 'loryn underdigg weve got better good way make us step', 'lukashevich Ã°Ã±Â\\x83 Ã°Â²Ã°Â¾Ã±Â\\x82 Ã°Â¸ Ã± Ã°Â¾ Ã±Â\\x87Ã°ÂµÃ°Â¼ Ã° Ã°Â¿Ã°Â¾Ã±Â\\x82Ã°Â¾Ã°Â¼ Ã±Â\\x83Ã°Ã°Â¸Ã°Â²Ã°Â»Ã±Ã±Â\\x8eÃ±Â\\x82Ã±Ã± Ã°Â¼Ã°Â¾Ã°Â¸Ã°Â¼ Ã°Â²Ã°Â¾Ã±Ã±Â\\x82Ã°Â¾Ã±Â\\x80Ã°Â³Ã°Â°Ã°Â¼', 'ddlovato sick sucks much gonna see quotupquot tonight dont know bleh good luck tomorrow', 'amazingphoebe phoebe lolol hang sec', 'juliaball im sure seem lot shallower next time look', 'cheem oops super late reply cant ill spore weekend sounds fun though go', 'mkayyali ive looking arabic translation feeds whilefollowing useful unusual ways', 'magento installs updated customer sites', 'looks like another hour walking still baby', 'rickmacmerc yea guys might something', 'multumita lui lovely one ajuns ieri la mogosoaia si la bodeguta chinezeasca mighty fine weekend', 'brand new gb ipod touch sale reduced price course', 'hazemtaji buy ps xbox got rrod', 'seriously mrs fawcett goneomg', 'sitting back porch watching waiting storm txt', 'cleanin room', 'gillcorbin time soon unfortunately booked vegas im saving crazy shopping back school time', 'glinner excellent love original ladykillers', 'listing music roomm alone bored', 'stephjonesmusic thank steph jones lt', 'argh invented housework gardening washing machines sinks clothes hangers lawn mowers hoovers evil eeeeevil fb', 'alyssamilano didnt get see furkid today crazy everyone running around house scared hide', 'boored still doesnt get whats twittersomeone plss explain', 'ninjamoeba goodo like ocremix lots awesome remixes', 'indigo oooh like like much make mia happy mia sound like cave man', 'last day sun', 'jennyquotes thanks great suggestions think ill need try soup scones amp biscuits', 'iamkmo', 'add voice jalopnik httpcligsshgusy expected design already people fighting', 'really tired daily headaches', 'uncool walked walmart behind teenage boys shoplifted food didnt notice parking lot showed', 'joyissoy glad know lack pigment genes', 'excited dance recital today', 'oooh first twitter message idea say', 'goldmedalgasser dont like', 'catchinn quote day quoti miss u friends hate thats never talk u anymorequot aw ily bud lt', 'marshallbu lmaoyea like got crazy wake call', 'pintalinz yeah youre tweeteryay', 'kitschenz yeah thats meant forgot websites watched youtube censored', 'feeling great maybe weather', 'suppose officially one literati give smart points', 'aprilroxx song makes cry', 'doesnt like boys nkotb backstreetboys dont like', 'kinda wishin would bring cord could stay connected', 'currently scottsdale rd going get sushiiiii near asu yay', 'richmond park bike ride busy great morning like cyclists mostly keep cars bay', 'jen cant give props', 'swear curse unto whoever stole purple leather necklace barneys worn least lohan one olsen sad face', 'shaundiviney came late', 'im also quite gutted nadal pulled wimbledon', 'slightly cooked aha love sunshine super gers champions well done super novo', 'ddlovato cant wait new album im great fan music', 'lyin bed faaaaar early', 'going nighty night long day ahead tomorrow drive back ca want stay wa', 'arrrlynnn thats word street yo', 'really really sick gone hospital', 'strep mono time means ill tweeting less', 'happy fatherless day', 'cri sean scene', 'hungryyyyyy stomach eated', 'im paid', 'zdnet uk quotadobe launches competitor google docsquot tom espiner httpbitlyka always hard read quoted', 'brittw swedish people form arvika httptwitpiccomddyk', 'terrible day links couldnt hit broadside barn worst round month good thing lesson fixed', 'arthurficial nah meeting major hospital group major medical funder ill organise dbn sometime', 'xcarolenax amp yeah know ur dying reading lol uve sooo mia u wont even get', 'rain isnt fun', 'woke wrong side bed needed get', 'poeboyandy actually workin home tonight', 'mariekeguy essex suppose stella', 'jaym aj ericchambers agree accents good amp erics quotwicked strongquot dont accent', 'neoroosta probably going really fast movies make seem slower fun ny flight ok', 'lonely houseno cat husband', 'briannav haha bet uber happy', 'ending evening best note love forever tweets', 'thevowel marketplace still though', 'sophistifunk people say great movie ill wait dvd', 'bored already wimbledon never got whole tennisgolf paid football thing people losing jobs amp footballer mps Ã¢Â£Ã¢Â£Ã¢Â£Ã¢Â£Ã¢Â£', 'olo students happy monday groups mod determined today announced tues mod dq due tonight great day kevin', 'oh boy todays ultimate summerblast festival trier germany killer lineup bad chance attend', 'like really bored silent louie freaking', 'work entirely much hrs week im studnet senioritisoff work', 'wizbiff holy shit happened', 'great meeting yesterday phillymarketing', 'hope happy love life makes cry', 'made lincoln', 'httptwitpiccomeojy check made', 'reading new moon cant wait get happy part sad right', 'kalediscope hhhaaaa wooow interesting beater cakea', 'whew finally got rc', 'areejs taking pixx enjoying shes going hour', 'kirstiealley really like participate twitter thing anything charity', 'alohaarleen happy good love state obvious p many grumps world sadly many discovered twitter', 'youherevideo recommend tweetdeck search areas interest much', 'httptwitpiccomjefm good morning everyone late cares', 'need drill holes cabinet raise shelf cabinet narrow drill', 'raining alabama dont know many days row makesbut keeps inside focused mostly site work', 'getting carried away google reader grease monkey script', 'yay saturday going shopping friend ever decide get pjs', 'joshramsay noticed look like justin long mac vs pc commercial came sec mistook', 'heading beverly hills pick friend game lakers vs rockets go lakers nba playoffs', 'insane game hockey today snowing minute sunny next highlight along getting beenie', 'hanging steph', 'fairly good birthday thanks kieferljh tomorrow fun another graduation party oh spanish project blehhh', 'old people review new music httpbitlyqagtc great', 'robin im gonna seiously reconsider follow', 'cow bee httpzerohoraclicrbscombrrbsimagejpg', 'laurakalbag wicked cheers cant buy anywhere though', 'vanessa tomorrow prob better cant go', 'finshed songs go', 'think may sun burnt', 'oh please dont go changing want much', 'ugh geesh feel like im boomdocks', 'still news trying number hourly without avail scared', 'jeromesimeon got glasses london unfortunately black without blue', 'beanatx oh', 'half exams', 'fabinhuh ahhh sou de sp', 'going back straighten hair download nds roms first though', 'drvonx game yankees lose', 'sings aaaall byyy myyyseeeeeelf saturday solo shifts pits', 'ambermarion aw mommy', 'marisssaa prob headin soooon', 'watching gossip girl cant belive im almost last episode xo', 'shawdieehunn cuz said', 'conserve water take showers together', 'randomflowers lol things could get worse depending result super villians pit stop', 'outta church raining fq fest today httptwitpiccomltv', 'laundrette bored getting iphone getting ipod touch still cool want iphone', 'triforce would sooo love sadly think dad would kill though', 'cant get extremely sad', 'pissed hormonauts bringing friend means extra room car dingwalls', 'gonna get new picture cant change touch', 'fateiskind haha know insane imagine amp wonderwall im looking forward think', 'ashatl lol long hair still changed twavatar mem lockeypoo miss', 'love twitter days till samsth yay', 'noopman remote prefer site theres substitute working people person', 'back bed early saturday', 'dougchavez hope plane gets found soon people buried come back familiesthere italians', 'people eat nerds wierd aka chris shepard', 'jordanknight fun man alive', 'brandamc mmm chocolate damn even im sick still wanna eat think try n go back sleep awhilelol', 'im starting feel burn allnighter good', 'bumi working customer chance use twitter hotel payable telekom hotspots', 'juliemoore ooppss sorry ill behave', 'themarmalady interested shipping cost', 'got computer back told guy im seeing today', 'bearskopff e horrible bear', 'httptwitpiccomsoi campers amp rafters buena vista co cmon people lets go rafting', 'morning half past home buy caravan buy yarmouth buy wind farm plan back parents long time', 'ipods dead bye bye songs', 'princessbeebz totally watched think hilarious', 'gatorgirl lunch next week like bone let know day', 'enjoying beautiful spring day hammock cold beer hand listening waterfall watching hummingbird feeder', 'furminatorinc hi thanks actually furminator dogs love reccomend everyone know', 'hell candy always end desk mmmmmmmmmm', 'goodmorning twittersim dmv line round building dont open', 'tmsaws thought bffs', 'soccer rain last game season vipers lose', 'sucks foodie broke', 'hotmail account spam free years sign british gas amp bt stupid mistake spammed times day', 'okaynow im going bed', 'yet another crazy day work cant wait finish come home amp order macbook pro', 'bbmanik naw', 'woot lich king installed starting wow atam crumbs bye tweeters', 'aymzie latin revision hard concentrate everybody going fail sadly good luck', 'listening quotdont wanna tryquot frankie j', 'gameworks chaos man', 'im art gallery yay', 'robincareyyo im thinkingggg', 'mileycyrus shall love savannah truly fabulous know live', 'laurachristine whats wrong w us honestly wish could come canada always pay border bc bad boy', 'olgakay know im lol goodnight', 'lol grandson thinks funny grap cell phone throw', 'n heaven sent', 'days school left hanging whole weekend grad days later', 'shower done dished settled sofa watch shark boy lava girl kids', 'shystieuk sorry fell asleep im filthy talks wore', 'nickhoopsduhh im pretty sure texted saturday night moviesbut reply', 'jessemccartney neighborhood little italyand didnt see im sad', 'nedyprast called creativity fashion', 'watched hangover best movie', 'donniewahlberg cant wait see irvine', 'everyones virginiaohio week', 'okwa ahhhh end nearcelebration time draws nearer', 'weather mess south florida rains everyday afterpm guess getting prepped hurricane season', 'sunny finally soo stoked beach season noww go work boo', 'picture bali drinking malibu watching hugh jackman surfing wrestling waves god sound like perv', 'make wish', 'mobile computing taking watch rumours apple media pad work logmein works iphone evolution', 'fitprosarah miss training tho get full time job stuff sorted might try reclaim old clients', 'playing puppy', 'blahhbecca lmao hilarious still breakfaast', 'nathanmars thanks invite', 'rockinchick yeah omg girl totally gno woo lolz fun cuz cant things everyday cant wait see ya yayyy haha', 'brothers sickk theres sugar tea', 'irgxana okay night night dont let bedbugs bite', 'venite rosamundi laughing v hard', 'cantbeweathered prepare little yes children guess dad cause read directions fedan', 'loves sundays', 'thanks followfriday love everyone busy return hopefully tonight great day everyone', 'haha linas hyper already well lucky im college', 'things good today manch tix arrived amp actually revised successfully', 'watching prom nighti still dont anyone go promotion dance next week', 'tcollinss u never gonna let live lol', 'im awake amd friday means tomorrow saturday sunday', 'second hate school taking life dreaming eddie redmayne', 'jaynecollinsmac oh way thats totally crap tried hard win venue chance leicester im gona av crave', 'wanting go dance rain outsidedont want catch cold though', 'im probably going top impact scorer im happy ffe points', 'loverwhythegun oh dear sounds serious mothers day though supposed nice gesture ago', 'ltmittens want pancakes', 'zachbarrera song stuck head ever since heard yesterday great', 'talkin hommie', 'love waking sound rain coffee breakfast good morning', 'sorry late chrome shelled regios episode httpbitlymbarg', 'bff lilman arrived atl yah visit catch', 'nice fucking try swearbot quote big yin ill stop swearing theres english alternative quotfuck offquot', 'hnrxmcrlover im actually mcr', 'pizpix lol yeah robot hehehe thank god humans still rules world terminator movie liao', 'lilshortcak aw poor love cuddles really nice talk lt lt love dearest', 'amazin clear mind couldnt fix prob hours yday left started today fixed mins', 'mezphotos thanks pour le ff', 'hannahlionqueen nah guess wont download takes long laptop buggered', 'going visit aunt amp cousins', 'really hot weekend start rain saturday depressing', 'quotyou jump jump rememberquot awww', 'home people textn asking wanna dank urge resist soo hardd ugh school tmrw retake test damn u chemistry', 'nexy sent trade request', 'sheshines fucking thing happened toledo robin made appearance show near buses', 'carlgriffith rochester park somewhere', 'jilliandee heyy jillian whats going london today hehe lols much today', 'get well soon mom im sick sadly', 'lamoreauxart love paintings wish could see details gallery website though via httptwibesn', 'tymlee know saw others well day think mark cant remember terrible', 'suikagir actually tumblr page rocks dont see follow button', 'blazedei oh wrote totally stayed one last night pretty funny one else knew wth talking', 'hit head ceiling staircase stupid hurt', 'loveeeee kobe highest trending topic kobe kobe kobe', 'got like people time dana', 'indithunder hahaha Ã¢Â\\x99Â¥ pashaaaa miss', 'top annoying ads frooti ad good night ad ughh ughh winnner new kurkure ad swargwasi hai par maasi hai', 'flashdajagwar haha blushes sum mo thank uthats quite compliment appreciate u appreciatin', 'stellargirl laptop things crashes firefox regular basis', 'sore helllll mothers day though im mother presents', 'lewisaea look showreel v impressed thought quick tweet wouldnt hurt', 'therealnihal history homework hate could play supermassive black hole muse lauren x', 'telishamarie well im way catching terrible traffic traffic houston worst get rest talk ya later', 'theze names gurlz one u think besthttpdragtotopcomnae', 'katscratched two doggies er one week well kahlua play cooper sympathizes im sorry', 'gonzacontreras vos te llamaba en el msn tontito volvee need u much today year joe amp aj rollers', 'oh im bundle nerves right', 'dinner rainforest cafe laura', 'ashleegaston yes honey know love send tomorrow guess party tonight wasnt invited', 'sooboatwatcher ever inclined would love recipes', 'patriciaface yea meeee toooo pshhhh cant believe write good get lady', 'feel like punched arm', 'samgilbey thanks im glad enjoyed nice sunny day remember correctly', 'last week classes', 'fixed internet computer feel smart', 'work head hurts little due neck hate sleep wrong', 'derruedi grandthe long weekend hereyay u', 'went shopping miranda found perfect dress johnnie highs', 'mikasounds long flight hope dont sit next anyone annoying hahai flying home nz la super bad peace', 'howied wish leigh happy mothers day midnight ny', 'smiles yeah im meeting group tailgate ok nighty knight real lol', 'omfg working right', 'hottvampchick oh worries hun take ur time', 'danamo sweet ill check', 'jimkukral lewishowes lt thats workshop wish attending', 'staceemcfly ack gonna sold l im calm aha thanks', 'mksassine agreeeeeeeeed thanks recommendation missy', 'loooove movie', 'going cool springs mommy ah shoppingg', 'tears heaven sad song beautiful', 'follow friday awkwardfamily heaps funny', 'omg hasnt post yet', 'bccarlso congrats arriving tacoma saw tweet yellowstone closed place stay yet', 'snschris dont love anymore', 'love boardshorts', 'tired dont want go school tomorrow', 'tracydee nytimes much fun miss', 'suprisingly good mood tired dont wanna go school miss james', 'jason youre right normally record everything ive feeling strangely compelled watch bgt apprentice live', 'tessa shame missed back london week leave sunday mannynorte keep killing wheels steel', 'thewayiroll dont know miss ahah goodnight honey nn', 'emmarileysutton youre right us either ghosts figments imagination better pinch test', 'reading ty blizzard black white beanie baby httptiascompictpagehtml added', 'chicmom well good luck', 'gavgavwaters ill change name bummer lol', 'going break', 'zackalltimelow happy early birthday zack youll able drink legally poor jack fucking sick day lt', 'kymby know', 'mornin darlings beautiful day listening santogold creator httpfoxytunescomartistsantogoldtrackcreator', 'ijustine missed single episode', 'feeling little bit ill', 'yey facebook fixed na kala ko may nag hack whew', 'luceebell im sorry tonight babe feel awful lt btw much better always remind ahah im bitter xxxxloveyou', 'leaving school till nd period missed ride ughhh', 'lakers ummmdwightall umma say ill pray ubut already kno wasuplol good luck tho hahahaha', 'im bored amp apparently everyone hates tonight', 'lunch pig session yesterday itll probably celery carrots today', 'beautiful morning huntington village eating breakfast outside two boys jpstephens george', 'days running cleaners pitch', 'jumpinsounds cocabeenslinky really cool thing bubble video might worth looking', 'hate movie tavern right theyre keeping hours', 'dont wanna even talk guess believe magic hunt u', 'tatadreams miss already im sad split sooo early', 'sodding train late', 'see boyz soon day yay nd row xxx', 'lauramaniscalco ill send youtube link lt', 'nhoustonreed wasnt hacked twitter deleted didnt verify really', 'stuck fucking house cant fucking drive stuck maybe till die dont know', 'im tell ya yummy decided go hunt blender drinks know good ones', 'munz go bridezillas good topic plus u first hand experience', 'rain truly helps dont ask go away', 'lyokog hello really nice morning appears gone overcast', 'roryjames happens us fg connecton', 'number possible way unique ways help others httpbitlymowvu', 'mother ffffuuuuccckkkeerrr', 'tiredbut happy', 'snakelinksonic nice site way forwardscompatiblecom', 'hey guys please visit new personal site httpsummerheartfansitesorg would mean world ton miley content', 'fun times bea met neil gaiman tonight interviewed borders media soon hopefully', 'good morning tweethearts forgot charge phone morning nice great day everybody', 'killer headache', 'shla shouldnt volunteer car youre going whine', 'already quotgold masterquot iphone still wanna restore case ones polishedbut itunes wont let', 'diegochain tainted love halloween las estan en spotify', 'vettel chinese gp champion', 'vadjutka cute sent dm', 'ealz', 'lecram ist doch nice', 'ashlyngibbs youll fine good luck', 'finding minimal bruising arms barrier thats yesterday great love stealingoneal atl', 'loves loves loves casa feliz food service margaritas', 'wont warped tour australia good line', 'go sleep nowmay pasok pa bukas ehbye httpplurkcompzxn', 'icantunloveyou agree', 'im playin xbox ohyesh', 'got pulled cop got warning', 'ooooo miss mobile twitter c ya tomoro twits xoxo', 'went gym hourfelt like treat body', 'peterjwestwick oooo wanna share', 'soo jealous doris eating icee creamm cakee favoritee', 'bgt gonna soon omg didnt think life', 'kikirowr aw feel better soon bb', 'thinkin boomertomorrow anniversary passing', 'jasunshine thankssorry cant reply mobile text update family partyno pics food lol yum tho', 'dontasktwice hahah willlllllll', 'smithm guest chocolate mix skittles taste bad sound', 'downloading bbuk although amount time taking rather annoying', 'jessmcflyxxx close behindwish could c often dont time cos wk etc', 'waiting train mmm hate trains slipknot good company', 'haha joined ibeatyou', 'seeeeeemon cowell ltltlt beaut wether today bad exam though english exam tomorrow xx', 'hate rain people', 'neeeds revise textiles jeebs bore', 'hatching pete rockss hahaha', 'sonnymacworld missin ur shows ima watching sure monday', 'dannywood hi danny wish could trying call gone voice messages want call ask itwat', 'el pollo loco commercials gross see little chicken', 'pattinsonrobt well us want share sorry hacked', 'u guys ever ny newyork', 'moring people ive since meds worked best night sleep everrrrrrrrrrrrrrrrr', 'eating dairy milk watching big brother looking forward sleeping tent tonight haha tis cold', 'mskathy cake breakfast lol pretty good', 'miss youuuuuuuuuuu', 'im really ill dont know whats wrong xx', 'always get bad luck', 'abigailj aaah parkpop cant mani agogiek ive got one week', 'camiluvsflowers hah totally', 'back grandmothers happy mothers day mom lord wonderful im thankfullt love god bless', 'nygr agree although hear works children', 'treasure island come', 'woke nap amp feeling well ugh freaking n', 'danregal great shot buddy', 'need get', 'sitting room listening lilyroseallen album awesome singer always makes happy wher cheeky lyrics eg fck', 'tired cold really wanna go sleep', 'doesnt happen every year tv show stars congratulate birthday even sang song together friends happy', 'good morning middle week days vacation', 'samantharonson hey whats x', 'dinner family celebrate sons th birthday great back home cake amp ice cream wooot', 'twitter wont let upload new pic', 'amethystlexi placing stickies ubuntu front ads ran httptinyurlcommmwpfw', 'doctorjohnsmith ooh yes thatd fun', 'ugh got called work great surprise', 'scoo get followers day using', 'imagian fuck minutes man dont even know aha x', 'trying start studying gulps horrifying hot weather', 'middlesbrough music live today yayy set', 'mrinal variable types going helpful margin error', 'reannawilson thank idea saw message first time lol', 'follower', 'good sirs bid thee good night apartment filled drunk people coming home pubs im bed', 'thebikeshow dont like participants pitajust say', 'didnt anyone ringtextemailinstant mess tell evermore playing state origing game telly bastards', 'new blackberry baby woop shopping today fun fun fun', 'davidarchie excited nervous performing today dont', 'chad got owned hes bad ass character ichigo', 'alexazak hope dont remove', 'glad see happiness britains got talent result gutted stavros flatley didnt make final three though', 'bmariestyle lol since u brought mean really look like ambi commercial', 'cold', 'got ticket tomarrows love leave concert', 'cleaned moved old stereo downstairs installed bose soundsystem ii iphone', 'twitter shit weird', 'lovingmydew ummmmornin caitlin uuhhhalready told lol good thing ur ridin wus u plan doin', 'math homework chem homework study spanish reading log world hist packet woohoo havent done', 'daddy order macbook got white one told didnt want shit', 'lost happy right', 'fun day omfjasminee', 'finally getting drive around brothers finally hahaha', '', 'watchingamppregnant mtv im kind sad right deathly afraid pregnancy fear never baby', 'daveyisred httptwitpiccomawhz cutie patootie ahh hair', 'sid alritei dnt think ill go concerttransportation prob derbut wanna go', 'singing quotrunning hillquot watching ros tweet link top top song sing french church things', 'lesleac early morning', 'ironikfans thanks follow x', 'supashley thats cute hahalt jesse meanie though saying suck', 'shpantzer sure would like everything else pci sets free', 'guyjbfanforlife im going july seeing demi augustth th row jb tickets suck section mi r u', 'hates salt lake city point misses dfw people', 'erbearsays', 'im comforted know report although informative best looking thanks pages', 'yay finally got beta', 'say want bring punch jello shots something lol im excited get see house', 'hate band', 'mrsikhnet bummer maybe ill call dharam see say abt youre videoing archive either', 'ihavepurplez awhhh dang', 'okay bit theres still biology physics learn damn', 'always show make scenes handsome guys isnt fair lonely oh well ill find one someday', 'natallini nice little wooden sailboat classic terribly big quite handsomelooking got lots oohs aahs coming', 'darcyjohns wish', 'catmmm didnt count calories today completely forgot', 'libbyonline didnt work last night either', 'deiknuo ive finished steak', 'babygirlparis u look absoultely stunning sweet im sure u wicked timenot got mtv wont bbf itv like thest one x', 'walked past sidewalk didnt see', 'got work late missed last shot criticalmasstopeka feel little better finding orange nylon joanns', 'kickasscarly yes stupid hes', 'timcub im little jealous hugs', 'bigsis idol u think win', 'raymond going stream live via bb storm internet wasnt cooperating', 'chl mail today got new fixtures kitchen new light bathroom finished trimming rounds rifle load e', 'dangit latice got voted sundays best thats oklatice predict youre gonna jennifer hudson sunday best bump dem', 'gofackadawg even buffy', 'idk hell im', 'ah one draw back uk missing buzz around state origin series see queensland beat nsw good', 'curling hair', 'philwill target speed quotracequot revised accordingly', 'yes extended vacation jun yay lol', 'quotms whitein loungewith wrenchquot followed quotwho fuck didnt show lounge fuck oh itquot', 'ddlovato really wish coming toronto tour', 'creative juices seem dried need random topic bust writers block', 'im going tidy room today perhaps exercise', 'deleted first blog didnt get around posting anything dont want unfinished material hangin around web', 'emilylaiter already discussed today yeaaaaaah', 'yay jonasbrothers got thanks everyone voted guys rockkk voting hard core tomorrow', 'esia palringo twitter gtalk hmmmm distance nothing', 'finally got twitterfon amp running', 'road trip awesome miss seeing wildfire face', 'annaresa suck cant sleep', 'wtf awake insomnia problem pissing', 'dodlebugdebz group hugshey still remember tried steal toast last night pinch group hugging jzhel', 'coppersoul oh also need persons bday sign complete still work though pulling another late nighter', 'shelleybella dont drop things', 'bjds wrx doesnt go sideways rain like skyline', 'snippybitch made laugh much saw said', 'dennys good ur drunk thanks u guys great night happy bday jeremy', 'work coming home get ready cmt awards', 'jessica leaving less week see', 'iamaneko tnx spinach chicken curry pepsi max amp watched love actually', 'want ten pounds sushi sashimi belly im mad food always cheers', 'got new chelsea kit day might get number back sure get yet', 'chrissyef would take actual dunkin donuts motivate clean power coffee trick', 'school chillini softball game laterdont wanna goso sad im going anywhere summer vacation', 'thatjaigirl im sorry cancel earlier dear would invite feeling late feel free though', 'manugir see tonight', 'quothistory remembers kings soldiersquot always prefer king gt httpbitlylhquv', 'tylermunro youre like people unfollowed since last night', 'awesome cry car much better smiles', 'finished training today vanessa robert season almost well guess need time relax', 'tattyted know still hate miss someone x', 'tefigonzalez miss bald grandpa misses hair fun venezuela wanna see quot', 'schmicles emooo wan', 'samtherockstar httpbitlykaodm eggplant shirt', 'doin damn thing cribbout watch star trek yup', 'cloudstrife wheres follow', 'berthofstede', 'two boys excited see new baby brother httptwitpiccomivw', 'sitting home still anoyed carnt go back work injury atleast another two monts', 'madmikeyb speaking ha fool ate curry porridge amp toast', 'ever since upgrading tweetie latest version clicking hashtags doesnt load search term anymore', 'photos sevens flickr include rugby air ambulance raf seaking good day sunburnt lot getting ready go', 'missing mummy daddy', 'mini ish thenthnx tess', 'think twitter broekn', 'anyone want pair emate mine thrown bunch ethernet cables ebay auction httptrimnxr', 'last night till early morning cant really function moveso mobile twitter helps lets say cold hot house', 'watching real miley cyrus e special drinking cuppa bored though early anything xx', 'cmonaussiecmon mean', 'misslazyj dante protected trust knows better screw babies', 'hopes sun stay fleamarket tomorrow get change httpplurkcompvhe', 'hob decided didnt deserve gas went downhill', 'shower chillin room making beats hehe', 'mistressrouge know look styling tips john inman gone', 'wants buy season dvds wait', 'juliannevictori hilig mo pala sa balls', 'choprasakshi aah thanks lot shall find linuxforyou tweeting live updates launch', 'quotthe air much easier sea foam green fashionquot hate brandon boyd forgot put guest list last night', 'chrismanuel answer quotyesquot person would youre better without', 'wanna wish man good luck today hes swimming meter relays wish could', 'watching hockey bc rangers game slaughter like close competitive games', 'throat sore hurts swallow', 'fromthesamesky cloudy windy rainy', 'gailcollins im sure understand twitter thing works', 'busy busy day time hangin patio grill cooks dinner', 'quotyou aware outcome actions eric quot', 'britgeekgrrl may come next time know curious one find whenwhere im yahoo private thing', 'danielconley hey', 'wasting time lot', 'didnt go beach get cell data package covered hours later', 'drats cant seem type anymore wcchicago', 'days til graduation yeeey', 'goin philly', 'bellasaona congratulation', 'need goodnight sleep tahitian camp tomorrow need find sleeping bag', 'themarsvolta httptwitpiccomotuw thats wallpaper', 'hirschemile saw trailerlooks hilarious really good cant wait see', 'whoo hooo state origin tonight dunno im going watch probablt matt cooper meh', 'officialjagex could verify account please httptwittercommodmmg thanks', 'feeel like got sunburnttt im losing voice thatll first oo', 'duk thanks man im pretty excited good thing jedi police live glasgow', 'bones aching', 'edbretten aaarrrggghhh denied access youtube work wait get home evening brill song though', 'cant sleep cuz arm still hurts day pain still', 'feel sudden urge go dance crazy rave like san fran something bad finals tomorrow', 'miss jack hope forgivers', 'forumotion hows guys etoxic forumotion days nice sunny life seems sweeter weather lol', 'workkkkkk come visit', 'rip captain jack jack totally fair totally screwed', 'think promised hurt else wot break promise nothing', 'throwinbeats days left please oh please let pass easily', 'doggy cute', 'creativehome creativehome thatspm est right time challenged', 'phone man tv beed night night twitter buddie xox', 'deadlyhouses sure ill see tired work im headed', 'denifty wtf wonder whymaybe cuz touchgeez idk', 'smh ashnash amp electriklove ltltlt yall bothneeda take ya asses sleep', 'hakdarren youre making super jealous dont bike go ride around wish oklahoma looked beautiful', 'hangin dalton', 'eaten crumpets nice im full doubt manage much sunday lunch', 'winebratsf sorry kind price range fun', 'sometimes spoken bother time', 'happymomamy woot know loves thank', 'lightsresolve guys going today soaking beautiful weather vt getting peed tmw way home tho', 'nashville screenwriters conference excited go llama farm party later', 'finally completed watching days', 'bren im sorry bad day', 'justinxtyler yesterday dad watched goblet fire', 'might get golf course tomorrow weather gods keep', 'earthfire babe im moseying outa toosweet dreams sis', 'like weekends cause dont feel guilty unproductive', 'spainal happened', 'effin camera broke dammit ughhh', 'hardcore bummed right missing ktw dad junes hard hard month', 'poor britney hard enough also ust got pwned stevie nicks', 'today thatboy aw thank httptumblrcomxyytrnc', 'fallenvixen fv got dms dmd back', 'well one capt coke bed thin blood', 'reading tweets till fall asleep toothache', 'know walking home thinking agh love dealing people', 'dammit got call z rock tomorrow im town', 'never thought would live day wouldnt really miss playing video games', 'lizziegainsexp course favorite movie time extended version even better', 'whoo ah whoo night walk almost breaks heart im afraid well part', 'lrockwellatty missed news poor sweet dog', 'love love love little peanut feeding', 'im sad grow cant friends guys everyone think youresomething', 'julienphalip cancelled flights busy go tweet wistful one', 'joaomattar fucking awesomegood reading', 'helikitteh thats usually go atlike later wake pm', 'oracle sun microsystems means java oracle controlled technology yay larry httptinyurlcomdmpens', 'resting', 'nothing nice know scrwd family already please mandy tell miss uampj', 'going gig tonight bath wooooo', 'kmaco starting get littlefinally realizing leaving also tired amp acheyi fell last night ouch', 'wondering excitement awaits today looking forward', 'shaneame shane remember join us next k session', 'tommcfly hiii tooom say hi dont read messages', 'home house sparkling clean found fingerless gloves happiness', 'nycitymama youll gone soon dahling memory', 'bldy policy back bike cancelled due fair weather bikers picked speeding fine unmarked car fighting tho', 'oy nk drama kids oyyyyyyyy stressed frustrated', 'dalechumbley lol least youll well protected', 'lizmcclarnon lol someone trying forcefeed celery bad luck everton xx', 'portialake omg thats terrible', 'everton nil watch teletext', 'computer hate much', 'donniewahlberg hope ya feel better got u k glad good time cruise sad mssed maybe ill catch next', 'opps meant night ended cool atlantathe w poolside night lovely', 'sorry delayed ladygaga rocked dome sunday night big time aweesome still rockin beats', 'thoushaltkissme passed old lady purple leggings amp thought', 'first thought wally far httpcligsgbd', 'modelphotog anticipation release checked midnight cigar ill wait till later today', 'going bed alone first time weeks', 'spent lovely day st kilda joshsharp tired nap time get home', 'ummmm boredgoing dinner tonite restaurant hate people hate hope one ppl twitterlol', 'see taco bell immediate future', 'go miss', 'rachaelbender aw sorry hear', 'hate mondays soooo tired amp super sore', 'darienevans cheesy true hold things cause nd know things could get worse friends', 'instore marketing entered online world welcome wavedivision master instore marketing', 'kcatz mon night coming', 'julesurich ahhh cant go ill go sf tomorrow wooh cant waitt', 'httptwitpiccomscg shutter shades ftw', 'piano madness studios hard play though neck cant move', 'letting day unfold commitments possible ttylim wind', 'thoroughlygood ahaaa asked uken thatll reply im much tweeter present im afraid', 'dbacks lost oh well ive eaten weight junk start diet tomorrow', 'first time ever made morning train heuston proud tired hrs kip fault ive meditating', 'frkinscket okie dokie sounds good need fricken find yearbook means someone stole mine someone two', 'see star trek', 'hangover one funniest movies ever havent laughed hard long time', 'kristinobobob toooooooo wow im excited song dont even know', 'ozatheist didnt recognise peel twitter photo justice', 'weather beautiful x', 'might grab packet crisps', 'lol wow server thaurissan dragonblight', 'howardporter', 'joncoffelt', 'cant wait new moon volturi pics', 'nightmares last night thing usual still feeling pretty shit', 'taoistsoul congratulations happy docs orders', 'long weekend sweden lovely way short way back dublin malta rest week business', 'tinley problem glenys kinnock', 'im hungry dont want eat anything', 'savagestar sure send pic want draw', 'chest pains going lay little', 'heading airport boo goodbye sunny florida goodbye kostyas hiltzs goodbye alligators miss thee', 'amberlinam next week', 'jentoni jobros larry king wanted kill myselfaka ipod dead battery', 'nettemsw ooh may able catch thanks tip', 'best play list ever haha rockin middle day ah thats way life meant lived', 'sulking entered competitions win pixies tickets tonight nmemagazine xfm didnt pick', 'thedebbyryan heyyy could pleasee give shoutout love loads name sana ill support forever xo', 'good morning god bless im going get church apologize able tweet see soon though', 'dropped lil sis day goes incredible sad love little girl', 'harsh nighthopefully today better quotall youquot spill canvas', 'deniserichards man loves sweetheart wife best mother longest happy mothers day', 'johnbkrasinski hope chose sushisince couldnt boo hisss', 'crying right marley sad funny movie time hugging pillow', 'xocaitox wats u please give another chance promise wouldnt mess', 'wanna see ashleytisdale concert soo badly never got chance actually meet', 'craziest day ever soo much fun although exams soon day', 'working againwishing still vacation sleeping', 'yay fun day manda amandasunly shopping makes day sad truly understand retail therapy im busy', 'back killing today moving back moms house beingvery lonely', 'litigation much better fc res na na na boo boo lol', 'shoes plural shopping happy start wknd next girly dinner', 'words weather shite arrgh', 'seriously think need part time job part time job would suitable student like', 'hate car', 'taebaby get followers day using', 'needs respond please httpplurkcomomdh', 'iflak stawesomeness depression poor flak year away maybe next year ill least ill try', 'woke super late go im rushed finna work day ily mampms sorry ur kinda sick', 'jaykul use works', 'baby woke get time enough shower good cup coffee day home jacuzzi tonight', 'going sleep goodnight guys', 'watching rhys darby tv hes soooo fucking funny kinda cute nerdish way', 'meh im sleepy clean whole stairs get homethis blows', 'sweetpjennyc sorry quotenterquot button got youre cool mom', 'javita youre seeing lads october', 'morgainelafay could stretching ears cheap', 'aditya decides twitter etiquette decide case', 'wondering apart obvious tried get follow heap people dont know', 'gah wakin sore throat hell fml', 'aislinntighee wow cooool lalalala aislinn xx', 'ashamanthecat cant get video keeps going asha helping w computer video', 'unitechy kill saurabh p try lame', 'itsmrth nothing', 'cameronmstewart yay another one http stivalcomhomeasp', 'thanks tjusta peacechicken jkostelac cant see replies though im definitely everyone else tonight awesome tho', 'faceofboe need play something mary poppins everyone knows thats rooms get tidy', 'mileycyrus cant wait see photos see beautiful u look tonight', 'fagunb lol stopped rained mins', 'falconpawnch daniel leonard thing', 'amazon remembers doesnt always work squarespace', 'krsytalnicholewhat better stop amazing u meet someone blue click instantly', 'feeling much better thank goodness text', 'zicklepop thats scam im neighborhood mom cant stop', 'deragonflyz ok something srsly need ive books buddhism sound similar prhaps cn borrow friends', 'asaliga awesome know someone uses cs time even emails signing petition', 'eating homework', 'mylender hope didnt drink water', 'mattys gone lunch daddy', 'lilmissmicharae haha friend almost like sister im extremely shy around quotfriendquot', 'well good sewing day todaylotsa goodies soon website', 'finished day day retreat good content web access near north pole drive car instead cycle', 'wow could get better', 'missed u today', 'originallyellis really sad alone', 'stephenfry ive single long hans solo', 'misslauradora cheer buddy', 'think brilliant performance summarizes thoughts quite well httpbitlyytxw thanks lifo', 'grudge noises brookaayy lucakhouri welcome daily weird convos lucino', 'icklesal see later', 'kinagrannis good luck wish could', 'cant wait graduation', 'pragyavats survivingjust', 'gryffindorgal thing happened recently ipod treasure pod keep safe keep secret', 'info dlt please thx adv pratama', 'goodness cold morning love', 'lost earring bathroom drain', 'lianacordes ok u lol', 'lovely day nchill karenpatel x', 'burned tongue stupid broccoli', 'way home days work vacation el paso come', 'httpvisibletweetscomquerywilgampanimation fijne visuals thnx puur', 'bobbyllew hi robhope fab day', 'finally time watch futurama wild green yonder', 'webdiscover amazon kindle dx uscanada', 'woke jim carrey ace ventura pet detective haha', 'amazing night see everyone tomorrow sunday cheers', 'im going sleep long day party tomorrow wooohoo night tweets', 'jmadisfuego workin profile job guess pro bono work need', 'crazy wonderful night diamond ltgt ball', 'mizzlianne thats sweet', 'simoncurtis finished watching quotspectacularquot amazing', 'susanboyl wonderful performer really susanwould love see pic cat pebbles heremy cat says hello', 'cant keep eyes open x', 'kourtnifaith lol rain gooood', 'ellyshenderson spelled wrong didnt', 'woke got ready go disney morning unfortunately one got bed', 'finished sunday workout getting ready meet twitter friend sharonmichaels mastermind sunday', 'cursedbyevil buy matt bellamy', 'thimarcal haha really cool stone thing', 'happy could finally leave totally wish went work instead', 'looking forward another doctors appointment tomorrowwhen find whats wrong bet nothing stupid blood tests', 'riddhimalhotra hi saw drawings blog made em awesome', 'decided job grow going work jonas brothers help create tour', 'httptwitpiccoms misstoniherman la preparing service fallen prowler', 'johngarcia think dark twitpics well try', 'httpmtoi bugik profile picture photos thank works', 'loves avatar last airbender sad ended seasons', 'around universe banging ladiesss httptwitgoocomoot', 'amandahqtpie answered dm sounded like rough night', 'course always jerry wants tweaks covers bah wouldnt annoy much wasnt right', 'cherridropp n wants go florida wit', 'day thought sleep tired finally make bed wide awake', 'solascrpturaman dont crazy atheists retweet reply im sad youre popular', 'stevepurkiss lol worth getting today', 'time twitter break ughhh feeling b last game watch season whats game blowouts booo', 'justjimmyjimmy sorry fun', 'super duper Ã£Â¼ber pissed taking back sunday isnt goin detroit blink', 'stephaniepratt juss saw soupandd loved', 'mark hoppus tweet reminded glorious part movie quoti drink milkshakequot', 'enikao switchback celldwellers gt makes us dance nice', 'zacefron smooth way introduced awards', 'zombie doctors harvested blood gave tetanus shot arm hurts', 'chickybarbwire everybody follow awesome gal please sweet favor please gotta follow', 'untrainedninja noe pookchop level fast alr tasks get get lvl hav experience points', 'myspaceing cant wait go cdshopping hopefully get awesome ones', 'underoathband bring horizon peirce veil four year strong', 'sherrieshepherd lol hope kid doesnt fall shed screwed', 'crystalllfrost blllaaaah sucks lol ill getting album atleast itis cool', 'finallyyy home papa isnt hereits tooo quiet callin night skoo', 'host play comedy show going awesome see', 'bookbindingteam missed meeting last night accident got carried away studio lost track time', 'earth another cold', 'theellenshow ok going tell us make us wait damn night', 'good night yall', 'jimwebber argh whole world thrown upside havent confused since whole santa debarcle', 'omgtoday didnt tweet lotand today luke benward tweet never tweet', 'last holiday', 'god damn itsix flags today fml', 'voxar didnt seem work try open app first thing close problem os', 'last day nanny sad day', 'still fuckin amazed star trek totally worth wait', 'meganpark dont wish bodiesmind went sleep wanted', 'nice listening rain roof really hard get bed oh well suppose better', 'loves knocom yay giving ingredient level nd dish whoooo httpplurkcompwhgy', 'tanyamorgan alll motivation theory', 'urggggstupid party made drink pop killing help', 'ok im time cya later', 'rip david carradine shall missed haha', 'backstreetboys hey bryelol jk loved ur answers knew u gonna say baylee day', 'well time go hell day alone fml really fuck', 'carlmorris cache even morning shame hate times', 'summer summer summer im starting count hours ive got spend school left', 'morning world beautiful day theres something want go hold back nothing', 'dimepiecemag appreciate good humor ull like http sketballoncom', 'nyc south sea portshopping', 'ola im good thanx ola cant wait tomorrow see surprise thingy still dont wanna go back', 'nkairplay dumb dumbi cant dm dont follow', 'want new bike old hmpfgh', 'caraluvsmatty httptwitpiccomoha ya well screw rocker long time da ducky', 'wait motion sensors gun radar hud', 'allturdreality thanks posting', 'many farewell parties sad see people leaving', 'spent evening shooting gallery awesome httpyfrogcomearbkj', 'ccullenmd im tweeting itouch unf', 'portiafendeman ok im framing two tweets right theyll pride place', 'time enjoy whats left weekend day workhomemade pizza tea amp cannot wait lie tomorrow', 'mood food dont money', 'mathiasx theyre wrong guid never change submit bug', 'lstintheseethru mornin bobbi name back', 'found putting dog sleep rip lady ima miss', 'ate food even though mind telling shes fat already', 'good morninnnggg everyone', 'jordanknight driver hit bump donnies driver going like mph bus', 'getting sick cough cough', 'friends crazy makeovers last night would upload pic dont one histarical', 'sick chip', 'shazamsf im afraid dont check blog regularly enough happy belated birthday hope great day', 'blueberrycream hope foot feels better soon', 'woo week till next exam theyre tis good tho next week tis gonna bit struggle', 'sitting makeing falsh page broken space bar lol', 'think im getting cold everything inside aches', 'making pwetty visualisations today', 'caitkitt writing movie script awesome', 'morning world', 'daughter want follow twitter', 'red wings game tonight', 'aschreiber least access cnc dont anymore', 'chloeshere aww sucks', 'amelyaa iyaa mel rabu yaaa hihihi cant wait', 'ericakelly wish dry w heat index want cloud cover enjoy steam', 'missing cat', 'happy bestest home summer leighsayss fun day minus work haha', 'battle bands', 'watchin devil wears prada', 'oh night couldnt better', 'attempting dowload sims failing', 'hard girl particularly every month', 'tddennis wow thats really late friend used play league shauna though thats', 'think need something severe help quit smoking mack like coma yes', 'mariahcarey could play ntt sooni miss games', 'misses able drink pot coffee soonsoon', 'read twitter actually threatening bring iranian regime try thest time', 'getting ready sitting backies', 'still l', 'kimbiiin make kwento see ha enjoooy', 'donniewahlberg love come phone like christmas glad fun im coming', 'gracerodriguez hate missed resumeinterviewing workshop playsmintcoach schedule conflict', 'room house im today gorgeous want', 'woke nap', 'sashagrey today cloudy day loooove', 'going start new dvdaf account', 'timcooperuk think winding davebriggs tim could never anything less know', 'bad thing woke worst hayfever think exists', 'jasonmawdsley called monitoring tool technologies include aspnet flex im happy net way pms amp pls', 'hair finally washed braided pjs suggling bed glo worm movie', 'httpbitlyexefz got randomly selected ipod forgotten much enjoy', 'found annyangel twitter', 'katieqhrider oh hun sorry ot hear big hugs aus xx', 'gadbaby lol need conserve tweets back minutes giveaway incentive clothdiapers', 'minute maid cranapple juice', 'ldnfashion vivienne westwood amazing like rock look male look classic look though', 'spending day running errands nice sit dark office day happy friday cant wait start weekend', 'nandoism go nando godin followers', 'dfsellen shes rescue bad hips deserves pampering shes full life though', 'lobosworth fun lo happy birthday frankiedelgado im gonna sad hills', 'trying find jonas brothers hoodie good ones sale uk', 'im working susans site', 'catheine watch eat much exercise drink lot water keeping simple', 'son bored waiting bakugancartoon start think cartoongame toy really cool', 'happy fathers day', 'bad heartburn', 'headache', 'morning think time went bed goodnight everyone httptumblrcomxaqzv', 'well done diversity shame stavros sure susan get contract', 'cant sleep else new', 'violaxx knooww probably wont goingcuz id going nxt week', 'superkirsty', 'newageamazon interview done email could work maybe chat instant messangers', 'rey im surprised glad see', 'need followers', 'jonnerz thanks', 'dana thats figured knew kept online brief period hoping hadnt missed', 'wibweric awww shucks yvw miss dang move far see live video lol still keeping touch wibw', 'head isnt healing well feels way', 'gotta get outta gbye gnight advance everyone', 'sexydrummer im dying noe cal u u din answer', 'mins go thank heavens really one days think going backwards', 'thisisbob question didnt come phone', 'faceurfears yea dont think theres chance mistaking chipmunk branch theyre long gone get close', 'eating monster asteroids debbys house', 'richardescobar thank u soo much supportive words manso cute u', 'wethetravis httptwitpiccomeniz fail cause im miles away london', 'dude orlando kicking clevelands butt go magic', 'iphonedev work', 'kylemccarthy want gs im qualified upgrade bucks think work jinx im poor', 'left ipod suzys saturday miss much', 'dancing promdate klaranyman eating pretsels', 'bazanna r u talking swine fludont joke scary wverytime friend says theyre sick freak lol', 'michiilopez truuuuuuuuuuuuuuuch im', 'livemylifeagain im sorry hear bb let know anything alleviate ive ill send nice mangifts', 'shivers check nausea check throat fire check work anyway check', 'kaylacooksontv u went beach today im jealous', 'insuranceboy prepping bbq sunning u anything fun planned', 'ay baybay wont end mariahcarey love', 'clathan time settlers', 'mzreese u kno many screen shots mins lol plus wanna see', 'take daddy airport', 'north bay look apartments hours car today', 'asexiness dont get arrested swimming nude im alone girlfriend goldymom beach', 'picture httptwitpiccomebck', 'hours sleep cant go back sleeping im thirsty', 'heard news fam mesaaz robbed reportedly due follower twitter careful u', 'getting ready go bail hay tommrrow', 'dannygokey httptwitpiccomrshi u look really good glasses cant wait c u milwaukee idol tour', 'today sad day marcus died two months ago today', 'hobosexual read', 'realized spicy wings dance tonight could bad mix good thing michele loves', 'first second island infamous', 'soooo excited ld hyped im going gaming like mad fall kh ds ld rock', 'im fuckin sick damnit laying maaaaan', 'faulk always told keep sucking something like fruit gums', 'head mcds year olds birthday lunch work', 'tomorrow test', 'sociaiiyawkward never know married crush', 'enjoying wonder delicious homemade hummus', 'mahoganielove ur cloud wish could made know u ill say anyway fab time nite', 'cant sleep could think', 'necol weekend chill', 'wish still acoustic', 'cant believe june already', 'much good summer theres sun', 'guess im sleepy better hurry bed body realizes night hehe god bless beautiful beloved ones xxx', 'ubuntu sucks brightness controls dont works numpad dont works extremely slow works fine way go back ubuntu', 'spn got tearing touching story come denverlets nick', 'work always', 'stuff deviant art page', 'missjames yes went concert came home pant cuffs soaked beer', 'wait going mari tequila mean', 'ddlovato tell us month', 'musicianbrendan ive seen season downloaded tv atm im late bloomer comes season haha', 'coursework', 'iambsanders lol wait missed shot', 'raining alice springs', 'going lawlibrary studyand sunday', 'great birthday', 'im offbye people', 'hoffmanrobert dang already veg ur handsome better luck next time', 'ugh im still tired dont think im anything today', 'realtyman mentions rebcchi good hey gingerw talkin bout ya cant bad', 'hitsfm morning randy snow brad great miss randy great daydont forget tour govhouse', 'well wow officially hold burnt sausages though well wow officially hold bur httpbitlysrql', 'iron drawing musclesmassage awaits', 'davidjohnpowell youll kick booty know besides love', 'coldstone ice cream movie woo', 'lookin summer job anywhere', 'say dreameri sure dreams heading towards', 'gettin slammed work loving means money everyone economic stimulous package', 'sad ipod wont charge fast want amp mad napping yesterday tonight cant sleep amp longbusy day', 'wow forgot sad movie', 'last night tour', 'xsamantharae wish', 'joesus yay first illness get kind sexual activity', 'ohhhh bouringg', 'missredgirl sorry blows', 'ad pitchmen program im watching thats wonderfully captioned isnt captioned', 'killahkalam get followers day using', 'watched free episode nurse jackie itunes thought peterfacinelli hilarious great job loved', 'im gonna watch drag hell terminator mommy', 'leaving work early today going see paramore tonight', 'angeliotum good luck good look theyre always easy see', 'tom im', 'dsbabygirl safe travels sorry didnt meet', 'aw retired bsbs concert requested concerts list http stshtml', 'alasdairrr hey dude great see guys spy vs spy def great game yeah hopefully see next week fowa tour bristol', 'got jv cheeeeerrrr', 'hopefully future sister alpha sigma tau gamma delta chapter umass dartmouth much indeed', 'tshirt tote bagunderstated comfy guess ok slow sunday', 'kosmikguru ayatollah maybe guardian council democratic impartial institutions', 'waking sunday morning fburg enjoying coffee set run perfect weather little sore ride yesterday', 'tehflakes watching go recorded xbox event sorta like time warp like', 'brendam ah yeah', 'went date last night terrible shouldnt hard find nice guy geez', 'misuse valuable national treasure sorry mr fry forgive twittery sins', 'ayahloveee mikey drove boomr', 'love rain shame cold', 'daughter leaves home flat todayson leaves july wife rattling around emptiness', 'dgritsko travel safely', 'swethavkumar congrats th one', 'eatatfriendlys closetest one town wanted know ended bluebox', 'joe stella stop cute know disney tempting forbidden fruit', 'spent hr hte phone best mate spain miss much good excuse org weekend see family od', 'imtribute im worried douchebag reuploaded videos calls mean names tho', 'noddson ah well cest la vie week busy procrastination try hard pack moving friday', 'fionamchapelle non dont really breakfast currently coffee', 'still job hunt plus heat man life really stand still', 'wearebroken cant happen soooo close', 'rizzled might get movie night week unless like really early morning lol', 'short work week heading back michigan weekend', 'minimeltdown work today burst tears front manager uncles injury hit harder realisedpfft', 'hedgewytch always worry one important email forgotten', 'franncescaa fran hey girl watcha ya', 'sarahchamber oh hai shame still chile home soon though xx', 'im talked', 'facebook else casualy say closest friends quoti may unknowingly passed virusquot update sorry guys', 'bqbrat ill come bring napkin lt', 'bubble bath yay need', 'going woodfield mall', 'ihop mommy', 'last day school', 'thegreenfamilia sounds like right palava', 'brentisbored aww brenton gonna weird hearing celeb updates school laaaame', 'reinstalling windows music pc decided wanted delete critical files last time updated', 'past hours sequentially oo gtlt blame pain killers', 'schooollll theres weeks anyway hello fulltime job endless shopping Ã¢Â\\x99Â¥ httpplurkcompxmg', 'nkairplay nopeyou havent', 'aidadoll damn miss u already', 'goin get redy churchhh', 'back clayco', 'says boys going carowinds today hope stays overcast doesnt rain httpplurkcomprkipb', 'aidan greg bloke please', 'pretty sure someone eating bathroom stall thats really high school kind sad', 'computer slow today really dont like', 'back', 'dctalk doesnt work httptinyurlcomldexl', 'think im gonna see freakin kick ass movie yall go see forsure', 'karensipes cheesus thats news dont wanna hear stop reading till everythings cleared sad sad day', 'freaking boredi think seriously need drinkor candy something lls', 'pic back blue', 'outside sun', 'excited get go work late tomorrow', 'countblackpearl see later today hope well family', 'bought skinny jeans today dropped sizes', 'pillows wet', 'shita ah didnt know attended yeah busy week hoping see japan soon', 'richxnice preach', 'failure nobody likes', 'exkalliebur aww youre making blush sweet', 'playing call duty waw po theres xbox live today', 'pinguprue awful', 'beautiful day bad work', 'god fuck eye itching like fuck', 'antwoinne good morning ur early called u back yday happy u didnt answer', 'laurengigemags youre right cant beat', 'ps thanks alannab checking schedule youre helpful young lady', 'mariahcarey come dahhhling kno theres lambs world best lambe wishing bleakkkk', 'watched yes man watch role models bbq fam', 'knew southwestboaz im lame yayyyyyyyyyyyyy', 'venessaaaa followfriday itu tiap jumat kita bikin list orang yang recommended buat difollow org lain biasanya sih orang', 'hello tweeps watched hour quotthat showquot morning followed hours reading quotbook unexplainedquot porch', 'oh yeah place right', 'realmarycarey think babybebe rough weekend needs spacesorry missed illinois work', 'janevoltur volturi peopleoh yeah bella gonna get pissed warn', 'loribot music collection coming gb soon haha', 'didnt anybody tell great los campesinos fun indie rock accelerated reader ftw Ã¢Â\\x99Â« httpblipfmquwf', 'work annoyed today supposed day relax', 'janeownsyou orlando bloom like fake', 'love life im tired im going bed goodnight twitter', 'going early night night twitter facebook youtube fmylifecom bebo haha', 'time go work sooonn im missing slenger gf', 'love rachel josh', 'oooo tea pizzza geez making water mouth something bad bad cant', 'coffee done toast done work', 'regyates madina lake never take us alive', 'httphpvcomphindexhtml info hpv help', 'alexalbrecht live couple hours nyc wish could taping fundage short', 'jessums yeah joe would party back car', 'im prisoner anymore jail books homework tests yayyyyy oh well least next year', 'shrutim hmm waqt sab ki band bajaata hai nahi im sure youll make one eventually th july cough best results', 'listened amazing track today lyk sooo good look dnt know quotthe tears loversquot', 'grrrrrrrr miss yet another week surfing', 'fml sooo stressed day left amrons cd locker lt dont get rock jizztastic voice night lt', 'angeljones leave whenever ur ready dont know u wanna meet n stuffff', 'paulinahearts haha dont even whatt btw didnt call back last night ouchhh hurt baddd lol', 'doesnt followers blog depressing spotcom', 'probably dinner sunis next week maybe theres fish', 'denisefarabee thanks much', 'bernajeanporter supt wont let us bring laptops admin meetings anymore talking time moves slowly', 'elle ayes new video httpbitlyswyy check love frozen mangoim mad', 'home bored ass hell sucks home alone amp without jarred watching runs house', 'excited see mom', 'yoadrian ive worked amc worked obgyn amp pain management doctor delivered u', 'backstreet relationship', 'spent evening looking suki doggy shitting everywhere falling decking ditch whining amp running things', 'home sooo bored alreadyi miss friends schoool', 'excited school', 'realbailing get cooper niece wants one convertible loved would buy jeep', 'divinebubbles lol ya sorry hate saying people sometimes people told', 'naku lapit na burpday eyeing canon es rebel xsi mp na digital cam hint hubby anyway', 'adamnieman bought tweetie anyway cheaper', 'dont even think want explain yt vids', 'internet', 'ughhh im sick', 'nutzy yea guess didnt dry enough new people old house dont like house', 'peace kentpeace aphi mansh', 'going spend day dropping cllr people phone book depressing', 'excited cause hefaroni coming gonna hang mtv movie awards woohoo', 'ready weekend need get gardening', 'bestfirend amazing love', 'dog cheating dads brothers cousins frog', 'gots headache ordered girlies make aebleskivers breakfast', 'watching camp rock oh jeminess', 'bswain pretend fallen stairs', 'earthxplorer mine got virus amp cough poor thing nice cuddled heaps', 'need somebody', 'perth ford station wagon new ad received posted hcc site soon', 'needs start english finish textiles grrrr school', 'todaygt hope add events gaming news later week nice day', 'poor mitch ashley', 'smoked turkey low fat edam cheese wrapped lettuce snack', 'taking break phone im like really pissed reason like talk anyone im going yell complicated', 'miss ubiquity firefox since im using chrome koz slow pc', 'gonna rest reviews hoping pass exams', 'happy vegas vacation days confused', 'someone told still raining aw cmon rain please stop hate stop', 'killadiva hegmg im jealous wish', 'watching toy story wanna person keeps saying ugly aint hmmm il put change', 'baneen least im work week sleep hearts content', 'im longest nap ever', 'theraerae dads sometimes dumb', 'way home dikir barat jonasbrothers songs accompany httptweetsg', 'rise shine already early', 'loathe bus rides ugh im soo freakin hungry', 'bottle red wine listerine rinse bed sleeping next open window sorescratchy throat', 'elgingo loads room worry shine gingo might alert security', 'thanks everyone ffs best', 'mennard thought hence mentioning', 'melco noez well maybe least catch msn fb chat one days', 'sitsnissa looking forward', 'brettnet better hadnt jibbed us voice commands though', 'finally got g compulsive hoarder achievement wanted weapons fate makes firstg game woot woot', 'cinebo figure wbs one really make difference might well forget scifi focus totally wb', 'ladyleet miss still wait weeks', 'jonasbrothers omgsh fly video amazing aac love boys', 'hasnt updated yonks', 'hawlaii wont fail much win fail', 'leaving hilton head', 'misshaleymae know baby x', 'httptwitpiccomtm love smilemakes day', 'pages lot go', 'wworks lol nincs', 'lady gave quotrecipequot diy facial directions chinese', 'listening combichrist meh need new tunage get crap itunes haha wonder kyle', 'tommcfly english soil best kind soil', 'bought dampg watch fuckin luv early bday gift', 'miss phone already', 'bananasiana haha yey ps sent message facebook birthday ideas', 'dalovelyladyj gosh took long enough would board cant lie im board', 'wants strawberries tea', 'im hungry im dont wanna eat home starvation httpmylocmeydd', 'days really count fuck twitter char count really losers difficult listen fuck twitter', 'floydroundscomcheck', 'dkhotopic yoboinewnue omg yaquotll wrong lol would never newnue', 'coughed much puked ughh feel sick', 'phat cheers dude folks doubt embarrassing airport good day', 'would anything understand mechanics right', 'wear cast summer thats sexy', 'thick sketchbook thick enough pass httpmypictmedg', 'bit worried usability testing talk atmedia tomorrow quite dry practicle subject may send people asleep', 'home cleani love festivals', 'uppie yep family around', 'blackberry messed taking dive toilet', 'revision film sounds appealing although mother probably make revise', 'jordanknight ever gonna girl', 'friend claudia nut chase', 'waddling yup complications home mending good hospital missing endless cups tea tho', 'green day warped dont moneys', 'michaeljanzen agree im leaning toward nikon interface much user friendly thank u tips', 'still feeling craptastic hopefully im fine tomorrowi work', 'tommcfly im talking really invisible life', 'doodledawne thank really loved gloaster entry tho xx', 'days summervac amp school comes along end amp annual problem r generation finding good way spend', 'petewentz youre truth tweet', 'front desk duty forgot book', 'bike', 'feelin kombucha buzzz im tannin mood sun', 'ate dinner watching reply ai going mass', 'msmelissamathew rip iranian election whistle blower', 'thepurple yes smart way look seriously supposed pack weeks worth clothes carry', 'httptwitpiccomja brother n sister', 'follow kurt cyberguy twitter tamsen', 'simplypositive wonder u dont eat', 'stubbadub fax sheeet pager telex telegraph anything avoid old facetoface friend', 'kenny chesney concert amazing love sugarland', 'tried go gaming pile shame today ended replaying left dead whole time instead', 'iluvwentzxstump hahaha aw bestieee lt aw bethy feeling okay haha sound like mommy', 'woke today n couldnt get bk sleep take today im excited got playlist itunes songs', 'enjoying sun misses phone battery dead charger nottingham', 'cannot sleep', 'djnvs break send air w drops nvs sweeps another station voice', 'terrilw yes waking early worst bit done', 'btrshrtscrtes', 'jonasbrothers shame gotta wait till november see sexiness', 'chillin sleepingi miss hun', 'sweetsweetmagic well okaybribery goes long way', 'meheheh typing koets text message mobile suggested kneus call nerd cracked', 'also doesnt help absolutely gorgeous boston day mid staceyaallen invited sisters grad party', 'bored reading would like usb port head upload tried shoving memory stick nose doesnt seem work', 'finished caps assignment', 'theres mini carnival eastridge stepheezy team strong', 'tonyfagerlund yellowbird even interested url', 'mileycyrus well cheer everyone knows youre going win mtv movie awards tomorrow fans lt miley', 'well thats last fabs gone', 'lilpookiej definitely emailing landlord tomorrow actually heard one yelp snapped shut', 'got english remedial cant believe', 'jamestopp dear boy know feeling mines sick', 'ebunce haha name lol', 'pay day', 'kevkev yeah coolest people loudest aswell hope get stand infront stage though', 'sanazj thanks', 'therealjordin hey jo wondering could get shout cuz spent like ticket tonite cuz thought id meet u', 'meghannian forgot ask live', 'aplusk thats seriously redic protest im', 'traffic jam', 'alstrays aww whats wrong monster mog', 'need hugand less cynicism making depressed', 'headed draft taft bottomless beers bad decisionmaking', 'got bad news today', 'hanging best friend emily', 'left dorian gray honolulu sad getting good', 'congratulations grace wonderful wedding', 'bopeepsheep nah love original vegas miss grissum sarah sidal', 'dont even feel like dealing shit right nowu ruining great daygoodnight twitter goin sleep zzzzzzzzzzz', 'good morning germany', 'ntceline ah yes well make sure dont get horrifically burned', 'really wished knew want feel like crying', 'lanevids soon get home thanks reminder', 'made new friend', 'kardboard oh gosh ecs dont think gotta join clubs right sigh ecs', 'hair really dark lmao hope stays like doesnt fade time', 'brantanamo make laugh haha would come back pigeon poop whoever like', 'bajerianqueen heyy good morning baby girl', 'aeralene hey thanks following listened music myspace sam hill favorite guys rock', 'davehodg ah mate enjoy well thinking stuffy halls', 'joined twitter days ago httpwhendidyoujointwittercom huh cool', 'mattyharps whole song httpbitlykrywk', 'home sun shining happy happy days', 'aww feel special blogtv sent happy birthday emaillol', 'posted pointless bulletin myspace', 'hi tweets whats happening x', 'johncmayer home heart lyrics become derivative combo heart soul brain operative take', 'ashleyparnell yes definitly misses big sister long coming home', 'irs wants tax company cells fringe benefit httponlinewsjcomarticleshtml', 'selenagomez love taylor swifts quotyou belong mequot amazing', 'going get nails painted mocha marble cheesecake completed got slightly burnt due defective oven', 'really sextd kelly hes spoken weeks', 'grahamux thats im using turned needed call voicemail activate mms tho', 'joongiesha stupid dog quot call free im sad', 'omg jussaw star treki luved', 'also damn small cannot continue buy clothes childrens department rest life', 'way work baddd times', 'Ã°Â¡ Ã±Â\\x83Ã°Ã°Â¾Ã°Â²Ã°Â¾Ã°Â»Ã±Â\\x8cÃ±Ã±Â\\x82Ã°Â²Ã°Â¸Ã°ÂµÃ°Â¼ Ã°Â±Ã±Â\\x8b Ã°Â¿Ã°Â¾Ã±Â\\x87Ã°Â¸Ã±Â\\x82Ã°Â°Ã°Â»Ã°Â° Ã°Â¿Ã°Â¾Ã±Ã±Â\\x82 Ã±Ã°Â¾ Ã±Ã°ÂºÃ±Â\\x80Ã°Â¸Ã°Â½Ã°Â°Ã°Â¼Ã°Â¸ Ã°Ã°Â¾Ã°Â¿Ã°Â¾Ã°Â»Ã°Â½Ã°ÂµÃ°Â½Ã°Â¸Ã± Ã°Âº Ã°Â\\x9e Ã±Â\\x82Ã°ÂµÃ±Ã±Â\\x82 Ã°Â¸Ã°Â½Ã±Â\\x82Ã°ÂµÃ±Â\\x80Ã°ÂµÃ±Ã°Â½Ã°Â¾ retweet alexandrua opera Ã°ÂºÃ°Â¾Ã±Â\\x80Ã±Â\\x80Ã°ÂµÃ°ÂºÃ±Â\\x82Ã°Â½Ã°Â¾ Ã°Â¾Ã±Â\\x82Ã°Â¾Ã°Â±Ã±Â\\x80Ã°Â°Ã°Â·Ã°Â¸Ã°Â»Ã°Â°', 'rsarahndipitous grateful aloe plant cant heal stupidity reapplying sunblock makes sunburn feel better', 'karen watching andyroddick hd theyve gone watch hope briton llodra', 'home alone setokin went japan gt daddy hadramie nilai mommy', 'kriselease lol dont know else wear pretty lmao', 'miserably sick going school turn functions project run nhs vp chelsearb absolutely long im sick', 'beelaarg yes mean hehe', 'nbphotog suppose work today', 'goingtoseaworld shitty thing happen hope able get replaced ok', 'twitterfon fcking rock solid iphone os using os instant crashes mentionsdms beeing displayed', 'good morning beautiful sunday', 'love usf berkeley still making sad damn lowell situation', 'ill sunny day tis fair', 'gosh horrible toothache feels like jaw explode dont want go dentist cuz graduation tomorrow', 'listen music', 'understand people choose run away choose homeless choose commit suicide', 'wormdance really sorry disability help', 'angelicvampira aauummmm aauuummm hell trying teleport hardly working surprised arrival', 'missing old days', 'went rollerskating tonight number times fell', 'would much prefer back crete back work tomorrow', 'doesnt want go work today', 'plofficial lmao', 'indahutari twitter addict', 'vickiefrisbie thanks nice comments hyatt place love well', 'senior ball sucked wish didnt spend much money shitty night im martina pretty amazing', 'back wrk sux cant wait go bk hm wifey', 'back edinburgh tomorrow england awesome though', 'summer school starts tomorrow eww', 'awesome dinner rehoboth drive back dcreality', 'way e almost airport mraellis already la soooooo pumped', 'dresses ungodly amount jackets', 'maximilus mention names compensation', 'aquapimp ill passed away', 'vatd debates whether follow veritys wise advice okay wont watch reality crap wahey', 'lilcease lol better sitting aloneim sure keeps entertainedmy lil ones gone', 'times like miss manila im feeling lately', 'bow wow pics come later dont know many bow wow followers got sorry yet gotta let day soak', 'im frustrated unpaid internship broken camera dwindling savings happy gal', 'mattodamatto wrong almost right x', 'lindascrush yo', 'blackoutsbox good see back amp better', 'ughhh layin downnnn waiting zeina cook breakfast', 'relaxing', 'ten minutes go home', 'lazy saturday fun night giggles amp wiggles', 'im tiredbut oclock morning', 'weekend meansout come freaks', 'boysnoize cher used even excellent point though', 'sarasmil drinks honor', 'got nails done shopping movies calen party', 'feeling bit bummed worthless today', 'grab deck let flow sunday folks coz go skateboarding day httpbitlyejot bad knee busted', 'happy mothers day ladies moments cherish children today let moments cherish return', 'soaked gave dog bath didnt really like', 'quoton popular musicquot twadorno probably difficult reading ever prescribed im actually struggling continue', 'birthday monday sister forgot yesterday via zenjar', 'prizegiving tonight wish summer would hurry seriously', 'unclerush step brothers horrible movie want hours life back', 'good race today couple breaks got caught front group laps got tactics wrong finished pack', 'salsa dancing fun get back', 'seriously feeling downn aparent reason either', 'trying twitted ipod touch first gen sadly none less ipod twittedco', 'pbelyeu well started feeling nice outside amthat never good sign heat', 'krustifer good luck anything helps', 'maybe honest careing enough make someone fall love', 'shoot hoy mmmm drowsy pain drugs', 'unbraid grrrrrrrrrrr sorry bb hope sorted soon btw thank much birthday wishes youre doll xoxo', 'watching friday theth part eight jason takes manhattan', 'jodymazer glad good time', 'hungry hell runnin low weed gs left', 'johnyhemsley quick session go chosen venue made us laugh', 'missbellatrix indeed cheap wings always great idea good see guys', 'blast visiting tilly sunny coast miss coast stoked public hol tomorrow sleep woop', 'cookie caramel burning throat', 'everything seems much clearer sunday morning without hangover', 'squarespace squarespace im going win one', 'astr fingers crossed best like millions id love shoes maybe launch part though', 'feiticeira hour ago disappeared boooo', 'move nice house irvine feel much better', 'yardsale bojangles biscuits downtown live tonight stupid grin face', 'gimmetokyo actually looks pretty cool wanna play', 'pennyarcade everyone liked make soon', 'good day uni open day nice beach evening also fun sand everywhere nooo', 'sugartastic funny kids', 'lasagnaranya baby cant end like', 'simonbtfc thanks good question', 'creativewisdom sounds like service need', 'jeanettejoy going costco grocery store laundry fun', 'jaiduke curve ima get new one sux wout im havn withdrals doesnt go alll cant get', 'sooooi think move atlanta date idol audition dates start like weeks httpbitlyetmrv', 'odd reason big day ahead love gettin spoiled', 'calilace taken gay interested', 'nana rd baby girl born maythpm lbs ounces inches long emerson name', 'iremember lakerz tha finals statz stackz', 'vicky congrats spymaster achievement hate invites join spy ring good green tea offer asda p', 'hope fredward hurries tagging thingsi want something look way', 'krumel boiciuc quotdragonfly evolvedquot daca noul dragonfly e cat de cat aproape de firebug va fi noul meu quotdefaultquot browser', 'lesliesanchez yeah tone racism', 'quiet mediterranean place eating cevapi watching manchester united play barcelona glad forgot set alarm work', 'jacquelinesteps thanks actually first got twitter pictures wouldnt upload either upload takes', 'sineadycullen yo yo yiggety yo u best friendy still getting better train x', 'trswift ill wear sunday', 'mahumzigzag r thanks coz link name wasnt like erm well yes one links yeh thanks see u tuesday x x', 'brendamejia wish someone would make excercise mandatory im really lazy hence got fat first place haha', 'wallycj lol fascinating yet seen yeah gravity rocks', 'omg slipped stairs itsurs house hurt im even drunk totally sober httpmypictmetmn', 'alone place miss someone always together', 'parawhorextwerd sucks', 'debramichelle heck yessss know love job get wayy many days ever sits talks nazi nonsense', 'cant get niece stop singing llama songi good', 'gasol im proud game victory', 'fucking coursework gtlt cunty clunge cunt cannot fucking wait summer ill take everyone get shitfaced', 'tperlmutter thanks retweet todd love new avatar', 'iamjonathancook hahahahha bath bath bath', 'guernseylibrary much thankfully sla cant wait work putting ages', 'sharping hey wouldnt mind old time travel option id kidnap baby see happened', 'got find way get laptop back operational tethered shooting awesome', 'waiting chelsea get flight canceled arrives tomorrow hurry anw', 'got mistaken high schooler need makeover hey know tlc new show ten years older', 'done homework finally today', 'megvoe im cept work blows', 'extreme bug bite arm', 'mitchpberg occured probably couldnt fit braheehee great show ill listening duuuuude', 'playing psbored', 'crazielilho dear crzlilho tried', 'son turns tomorrow wants xbox aggressive skates hes getting ideas', 'happy yeast happy yeast happy theyre making beer', 'one many chocolate covered strawberries cupid tryin get fatahh stomach', 'aw thats gay', 'screamed like bloody mary garage thinking wow im scared amp gray animal comes amp think touched', 'super important still wahinducing akira neighbor totoro dvds cant find anywhere upstairs', 'theadamlambert want big sister amazing singer admire way handle slander', 'johnpiper twitter awesome blessings pastor john', 'lots even numbers hearts twitter followers help round sales th sycom', 'petewentz pleasee vid forr donnie preeettty please', 'dear california owe bff lover', 'staying home tonight sick go', 'wow followers thank much vielen dank euch alle', 'dissolved marriage jon amp kate', 'sevinnyne httptwitpiccomguv pretty miss u im glade youve hiding papps', 'haning homies amp watching private practice season', 'starbucks ahoi cute waiter hihi', 'good morning smiletuesday go make someone happy', 'erinashleylaw sheesh never ac', 'going grandpas gravee grandma', 'mrsos thanks always nice start morning husband putting jk sort', 'cant wait catch good movie tml umbles amp guides woohoo', 'heading seattle', 'happy birthday matthelms may today bring lots chocolate treats sweet potato fries', 'tkrewson wasnt bike', 'even chocolate ice cream didnt work man feel like bum think ill go back bed anyway spite heartbroken', 'everinabind holy cow mad internet working sucks', 'laying baby calls', 'britains got talent', 'alliance media legend tim bonner twitter alliancetim communications legend jilly grieve also jillygrieve add', 'head hrts', 'moderatorated ivanb adamwalters jenocide sbcea etc etc peeps wasnt around away night phriends', 'lost majority ownership american hotels game', 'new moon trailer yayaya taylor lautner h married id mrs taylor lautner', 'la trip tomorrow making quotto doquot list tainted making sure deadlines going met work amp stress f', 'thisisrjg txt received today saying good morning nowt since thank gdness end move', 'yuck really need excercise', 'kind mad right cause outside like rainy cloudy happened sun', 'sorry keep changing name bad long', 'janabellexo yeah tall guy singing every word', 'nd day week work home though deliberately dragging dog walk complaints', 'bklyncookie omg la bad weather aura trickling bay area closes lapeople windows', 'im glad homer still rolling strong year hope goes longer cant afford new lappy', 'kimberann maybe safe', 'poor doggie surgery alot pain saved life', 'love blackberry', 'chelsealinn grateful didnt song ring tone', 'cant sleep anymore god sake bodens sooon', 'berrygurl hmmm pearl fatal erro occur firmware upgrade amp wont anything including switch unbricking', 'theengteacher giggle fantasticone tive online teachingbreakfast teaching lol', 'katmarshall end month iv spent wages already darn getting hrs week', 'babygirlparis ten bucks says know going think islet know boulder still beach', 'really check spelling update tweets downloading sims itouch', 'hours jaz back', 'got home bout ktfo party crackin amp coo seein everyone gdmthrfcknnyt x', 'chriskayto congrats thats exciting whens housewarming', 'cathhhh aww friday night revision never fun hope u take lots breaks u working weekend u must working stocktake huh', 'best night ive completelyyy exhausted hair amp going straight bed goooodniight lt xo', 'ill never get summer holiday work loool least youll rolling money slimthin', 'jessalaurel hey hope good evening', 'jodialbert get piccy sent drama think ur lil prince need make babies lets matchmake hehe xxx', 'ivanae thats last one', 'yelyahwilliams breakfast saturday cartoons', 'cassie get email aquarium btw', 'tip everyone dont read whilst car felt soooo sick reading good', 'sebastienpage exactly', 'glynmoody well often get talk someone whose book library r', 'jeremyo least apple store', 'httpbitlyykui excellent news heres hoping return lotus formula', 'went garden picked fresh pea pods dinner fun treat unfortunately grew pea pods four plants', 'even answer', 'ryzeesmommy good see even little bit love xoxoxo', 'didnt realize verizon ships phones fedextheyll want signature ones home neighbor isnt either', 'bartgiven lol find key read entry times post good chance edit tweak things', 'nose completely stuffed throat sore kinda itchy pretty sure im sick', 'azmomofmanyhats old laptop sufficient abilities needs battery worn ouit acdc pwr cord died', 'good eve another hectic class tomorrow nothank god friday', 'mychalsmith start ending gotta type first word nextjust like others', 'love waking barking dogs sun bright face oh dont forget wonderful alarm', 'im really well', 'ok nobody wants say hi', 'pool today rain thinking chinese food lunch', 'primeobjective house wit tummy ache mad n emotional', 'im happy made twitter', 'babytommy thennnnnnnnnn town', 'wtfwouldericado clean', 'says check news case dlsu httpplurkcompyt', 'crystal doesnt feel good today', 'gonna suck cause im gonna', 'dressydoll aw dont worry didnt last long na tipong may storms', 'thinking aaaaaaaaallllllllllll great things jesus done', 'myy bestiee foundd mee yay', 'loving bible coffee time blondskioh ive missed bright shiny sunshine girl thats', 'pinot games n movies todayshe gave school things stressing supposed fun right', 'awwi bird fell bleeding head', 'never gonna harder week one really ready fathers day', 'oh yeah bfs dust eating last nightcapestowners frc taking baby', 'thenewbnb shivaranjan arjunvj waat lag gai pairo ki hopefully ill able run soon', 'clozapinedream people said games crashed playing wanted play holidays', 'really hate spending time fighting bulk import tool cross threshold would faster manually', 'alikababa im thousands', 'tomorrow immersion day landmark trinoma ill selling makeup counter sounds fun sounds like change im excited', 'funny twitter end world httpbitlydkkej', 'dancin shows good gonna miss emma n lauren tho', 'gg season finale today cant watch cause exams', 'wish boo wasnt sleeping', 'ilovecolbyo ill twitter im online', 'thinks twitter figured', 'mitholas really hope patience edge aug th dont think heart take another days waiting', 'dont understand', 'phone arse fat policemen arsier spell watching dangerous minds good bad movie', 'vagabonduk omg guys amazing music live best band opinion heres another person wholl buying album', 'todaybut moto gpstoner wonyep yep going watch football citys stadion', 'watching batman forever lt chris odonnel lt poor midway state got rained damn lost u button', 'oh well current gf tone deaf doesnt like singing time get riding mower get back happy place', 'roboform problem thanks great product', 'allybingham specifically went facebook feel special', 'increasethepce gotten worse im dying attend funeral im getting chloraseptic like', 'wow computer screen keeps flickering still wont let print must really consider tossing window halp', 'nadal french open rafa guess jump rog fed band wagon', 'finished yet another amazing book susan elizabeth philips god love books much one read next hmmm', 'peta raising flap pres obamas swatting fly want use humane remedy peta ought come house', 'mileycyrus thankyou human hollywood robot ur legend babe', 'alittlelamb sytycd didnt see', 'fml found best friends homosexuals', 'voxxit well add pouring rain hurricane winds thats ur missing comeee home bring sun', 'abigbat cant say wolverine line anymore disgrace thats theaters', 'mandypandy hope great day legoland varietyclubgb suggested name one server', 'sarahstewart second paris rather outside also writing report', 'petcsh lol still sure yet maybe edinburgh aussie wouldnt awesome together though', 'sharneselanier good see bit', 'gonna try nd time today get podium work want lights nightmare lunch amp wife kids', 'crazymaryjoypp want chips fooey dont live three blocks corner store', 'awlll miss brother left cali hmph', 'fairychica aw stinks im sorry', 'padeath obvious', 'jonathanrknight need cool nj shay take wawa', 'woolwytch aaah shes blushing', 'coldplay httptwitpiccomeqp come argentina need guys', 'mandystevens nevermind sold went sale yesterday', 'carnalis sends strong rich dark italian mmmm thank', 'last full week school next week exams', 'thanks followfriday love back ya hiltonanaheim actually use twitter page inspire others tweet', 'danluvisiart god wanna see cant sunday though fml', 'norwalknancy u didnt enjoy mtv awards thought funny laughing whole time loved host year', 'storylet good morning florida nice see lyrics haiku wish creative day', 'highdigi hehehehe hub likes currys', 'calicg lmao think ive one many redvines lol late', 'timeisverything found movie sure yet ill see since hadnt even heard', 'really hot dgrees', 'imrandy knew id regret buying dvds show last night half price books', 'watching grease', 'get pancakes late night food champions get car first', 'msmack went west oaks mall empty mostly moms kids', 'jackcrawley wow thought responded reply idk ill reply ok wish didnt wing much id id', 'katemonsterxo dun worry nothings gonna get exepct maybe hot guy', 'kirstiealley hes replaced though different neighbor one blasting car stereo need dffernt neighbors', 'says kailangan makabawi talaga collection dumating k na httpplurkcompxtua', 'pastis esme', 'wowworked little todaydrove st paulfun drive', 'jackiehpr wish could go got sold yesterday', 'margaretcho would epic used states jet go', 'tummy wummy spirit fangs show glasshouse pomona tonight u guys go', 'ok thank god bb kupono omg max', 'meeting jonathanhochan new hope', 'iheartmonster maybe paula brancati although might little old anyone miley cyrus good boysummer', 'tired got duties morning', 'postponing beach trip whos pool party', 'leonormsilva sounds like fun', 'oh maaaan napped couch woke thinking friday night whole weekend ahead chill nuthin', 'whats deal twitter dont know use', 'today prom', 'lsmedialtd fun goal push easy say since im running huh', 'thedittybops sent facebook amp myspace message defective copy pack rat cant get answer anyone', 'best friends graduation party proud tear', 'atwparenthetical writing course httpbitlytxhj', 'busymom yes google reader gmail', 'bobbylightboss game playcom got posted mon arrived today latest happy bunny', 'man annoyed rite', 'mailinhyloo nkotbgadget braveheart marluvsnkotb listephy mega kayheartsdew thank', 'matronedea neither karmas great', 'senfo need good twitter client traces back conversations sadly good ones mac', 'burgessmark fine suit dont come crying nobody knows created really good app', 'efff test hard studied life death ahh', 'past week bad', 'pasta dinner played soccer today got absolutely smashed happy anyway happy mothers day mum xo', 'imfringe im myspacin lol spammed load people wednesday bout watch jeremy kyle finish today', 'misskeribaby could hire id get miss keri', 'ate dinner days hhaa homework', 'alokinaka oh big island im oahu even cant see vog kept hubby awake last night', 'duhism make laugh thank', 'tired traveling working', 'crucifybrett need buddy', 'ate pop tarts im gonna head gym work', 'long musical day durufles requiem bugger play glorious listen', 'stupid braces making lips dry', 'wish still dwight magic', 'good morning', 'dewme thats fine', 'sittin back big red brett tristan alexy lefti miss', 'could complete black squadron command today due bacon aversion', 'ye say leafeon tangrowth wiggilybufff luxray', 'thought things getting better', 'woth valentinegirl cant dooooooooooo tejas actually weekend hmmm leave fri morn fly back sun mornhmmm', 'carboam vpns suck', 'jonathanrknight jon dream chillin chatting drink make happen real june th', 'work', 'nanashambles truth aku ga tau caranya add contact', 'feet hurt like crazy im seriously exhausted', 'amyleeedith hope enjoying la starbucks missing almostfamous self come home soon ly', 'wish theyd utilize unit new times guess room st century another bent brig', 'megsly know place used wonderful new board president makes cry', 'last day mckimmon', 'mileycyrus congrats deserve ps im boattt', 'saaamie aw school tomorrow feel sorrry', 'good morning canada noim btw night right know xd dont care wake im taking dog', 'themasonmusso httptwitpiccombrbr u cute love', 'brandonofcourse ugh picture', 'razlan fun dude good dont bring many chicks home hongkong', 'thank ya ranoona thought understood', 'craigsbeardwax goes curly straight wavy easy change day day depends mood', 'hottopicspoll actionchick thanks followfriday', 'via duanejackson httpbitlypggvj quotits vodaphone im leaving youquot amusing true love tmobile phone', 'good time outdoor dance running miles dancing hours today im pretty exhausted', 'yohanik glad warm india really shouldnt use imagination princessbutterc put heat', 'trying book summer holidays tres difficult esp gigs work quotworkquot around oh budget', 'pollinatewildly', 'testin mazda', 'httpbitlymtmq ive problem lot maybe thats r fail flurt', 'madisonlindley thank following', 'mightysylven especially weird married meeting people first time funerals hope weekend suck', 'school monday', 'fussymummy sounds like plan', 'ninjababe pictures', 'ughhh need patches', 'ok feed dog watered garden amp needed collared next door drinks two large baileys later im back hello twitters', 'mollieofficial know wasnt good oxford mollie cant make woverhampton cos im going france', 'credit gone gone within phone calls', 'feels groggy cried watching rentnow feeling void', 'mentioned much fun giving away prizes promise', 'done rick rolls jaaake avoided', 'cat thought would fun play chicken fillets', 'nooooo blue coke glasses finished stock depressed didnt even order maccas', 'remaining hens slaughtered foxes last night free range eggs', 'todays christian woman folding ugh another one', 'hate grounded', 'cant upload piccyture bad times', 'ay hindi pala sa leeds toink lolol', 'drealoveslife jealousjealousjealous everything haha fair', 'dentaldiv hey sorry ive away tried go bbq got totally lostnow im back', 'hello first place welcome boston babyy lt', 'dear bk wanna rock u u make hard get u ry cant meet halfway', 'tamij ill let u know later gotta marketing literature work project ss lesson amp family timewhew hhrs tcot hcb', 'jimherd hmmm amputation isnt option snds dubious long working say glad dont hv probs', 'emilyalltimelow um sure like probs ill tweeting car like yeah', 'internet still working people phone helpful cant understand', 'sookyeong lol awesome ur th', 'rosspatterson ive done worked fine afaict ymmv course', 'jilliandanner nelso would love im excited', 'mmm bizarre going shows without cat bizarre', 'widereceiver well tbf didnt sleep till woken', 'nsmonkeygirl generally dont mind lanky right fan im even tall', 'bbjudii im totally hatttttiiinnggggg wanna cry sooo wanna theree better taking pictures', 'thestylepa polls polls nobody said scientific', 'lakers advance im home alone', 'sarahelizabetho ahhhh yess havent likeforever hope make party saturday', 'gonna sing song guys minute ill start rs homework', 'yazzabella im coming danis bday left yall', 'jtripodi hi youre awsome k bye', 'mavince believe say wish', 'ralphieiscool awe sorry', 'onoes almost sat choc melty marked trousers', 'crabby day', 'havent twitterd day seeing movie', 'tehmani hahaha left credit card home', 'livelikelivdee ss', 'beyond rwa nationals october romance writing conferences httpbitlykkige', 'day today chillin watching phil fern physio bit', 'library like nerd', 'hello twitters ive missed u away long ill much better though sniffing lol watch eurovision ln', 'researching lots bampbs upcoming trip seems like every single one cats im allergic cats sigh', 'reedmangino remember switcher rug', 'going catch current events hittin hay concludes come sometime xx', 'alexisnotfunny thats pretty exotic place jealous', 'paulcronin course best results best person', 'noahs arkover tired burned good lol jk jk', 'kinda scared britney fucked vids following times makes think im pervert friends', 'laoooora could eat fish lol na jk havn kababs', 'love im celebrity', 'hate rain hate exams hate tired', 'jdaniels strange guy room weve said dozen haaaaaaap words nice room internet', 'fridayalot faith gonna good day love', 'Ã°Â¡Ã°Â¸Ã°Â¶Ã±Â\\x83 Ã°Â² Ã±Â\\x86Ã°ÂµÃ± Ã±Â\\x83 Ã°Â½Ã°Â° mts g Ã°Â¼Ã°Â¾Ã°Ã°ÂµÃ°Â¼Ã°Âµ Ã±Ã°ÂºÃ°Â¾Ã±Â\\x80Ã°Â¾Ã±Ã±Â\\x82Ã±Â\\x8cmb wow Ã° Ã°Â²Ã°ÂµÃ°Ã±Â\\x8c Ã±Ã±Â\\x82Ã°Â¾ Ã°Â² Ã±Â\\x87Ã°ÂµÃ±Â\\x82Ã±Â\\x8bÃ±Â\\x80Ã°Âµ Ã±Â\\x80Ã°Â°Ã°Â·Ã°Â° Ã°Â»Ã±Â\\x83Ã±Â\\x87Ã±Â\\x88Ã°Âµ Ã±Â\\x87Ã°ÂµÃ°Â¼ Ã°Ã°Â¾Ã°Â¼Ã°Â°', 'illutic asymetrical fab love', 'hes gone', 'wonderful wife found whole new meaning john', 'hannahzakari neighbours awful get together noise party', 'lazy friday night chicas', 'damn missed first episode psychoville new reece shearsmith steve pemberton series bbc', 'let rephrase last jokes dane funny nfl blitz somethin bad ass times row fire', 'im jealous sister shes manc seeing oasis', 'really cute note cards httpbitlyuhth listed', 'victorrriaaa omg cookie dough', 'suffering severe depression thought seeing springwestend summer anymore anytime next years', 'smoked cigarette thougt iiief heard ambulance iiief learning nurse', 'damn want thongs bad pricey moment httpbitlyjpo', 'anyway thats big news already knew hah hope wellllll going lots concerts hah', 'cut several times shaving worth', 'lost game scrabble', 'realized cant play gemcraft loaner comp unless want start unless sort saved files', 'stephen exploded lemony water', 'needs revision today history exam tomorrow oh poo', 'love basement', 'book sucks', 'curiositykate thats one favourite tweets ever', 'playing blackjack casinos soo dead', 'koskim get bed morning runs need motivational tips hit snooze times run', 'joeymcintyre lol ure sweet', 'mismile mom isnt home til tomorrow would love snuggle mom today', 'stalkbrandon via video chat usual im trying think activity lol like day care something', 'httptwitpiccomjq cant stress enough much miss girls', 'busy weekend home time finish politics essay yikes dont like sundays', 'nicpic good seeing dahlinmiss yas things need done', 'livin good life big smile nice lazy sunday ppl', 'docmikepogi kelangan mo ng sweetness', 'modemantc didnt make late done working went gym hot tub swimming pool sauna', 'ben bought vintage manual typewriter today cleaning idea buttons levers mean', 'riannax hiiiiiiiiii im following', 'dwd haha get thought spam first', 'mjoseff know im sad wont see', 'deadmessenger thats awesome break leg cant wait see clip', 'dani sorry hear friend', 'suns gone booooo', 'jadeysd cant book till next wednesday', 'bettieg saw awesome red nails must say ar eprettyyy coool', 'suziperry morning suzi miss gadget show mondays till next series hope well', 'britughnee keep updates coming', 'listening im free kenny loggins lt', 'jacksonvilleheadung back today miss doggies', 'whatching edward scissorhands im sure im going cry end', 'dangermain comb httpnewsbbccouhienglandoxfordshirestm', 'esselis', 'leg hurts', 'back syracuse', 'sigh another exam friday', 'onceatweeter called nice trip rehab town', 'djleejordan remixing mate sounds good know whatever youll justice', 'wish could make tonight httptwtvitecomwzy fun everyone', 'cavorting hiya well safely back school', 'robbyrob happend disney account youtube', 'beautiful sunday want brunch httpbitlyrrwy call us', 'loving new tat hating pool week', 'jus ate sum delicious breakfast', 'video mileys latest movie quotthe last songquot shes filming savannah first kiss scene pictures', 'sick bed today', 'work gonna another shitty day', 'isnt picture showing upppp', 'little brothers guinea pig died quite old guinea pig seven years lil bro onlyyears old got', 'amandaazzarello see soon cheer', 'watching lethal weapon edited', 'first cup coffee cant wake', 'thomaskattus asked sf schedule dahlingmaybe next time', 'aahhh im sweating l cant sleep hate need listen good song calm gnight', 'peety quick hello back enjoy', 'followthreaper fair call man ask dont get talk drummer still want ask', 'sarahndipitous watching distance via inkblotsart dude fly ive met many awesome tweeps', 'graduation im done high school', 'doin study guide', 'therealsavage well lol dont always last night good sleep finally ive bad sinus problems', 'lukeaddis wow filled whole page aplusk twitter king im go searching tweets', 'wiredtheworld looks good tempted ask crust wait blog impatiently', 'quotim hustla baybay want ya know aint im bout gooooquot workout sndtrk', 'esmeeworld small way thanks tickets friend jonas', 'mabster must buy new set top box', 'coolmomofjs snuggling girlie girl watching food network', 'cant believe crap movie like twilight praised much people know quality anymore makes sad', 'auntyagony yes yes bum looks like zebra week afterwards', 'tjinkerson oops pile ironing needs want pop round', 'bout eat waffles', 'gees im suprised many people awake right ha hhahha feel talkativee', 'jtotheizzo lol grilling sounds nice raining though', 'heyitsjess get followers day using', 'shoot almost time go back work', 'andreak worth arrested', 'iran cant message back since following friend setting proxies iranians use', 'bored dont know today', 'believe someone tinyurl really hate sony ericsoon wi', 'made home today hour taken min whoops wedding tomorrow back motown pens game', 'pvponline ever get dampd character creator working mac older version parallels doesnt seem like', 'profetacinque keep getting raped night elves fuck pvp servers', 'driving cambridge rainbow israel k comes sad times', 'jameszabiela oh hope still make australia', 'trasie large eau claire project several green roofs plan', 'home day studying cant wait week', 'ahh little cat sick', 'really want haggis', 'heatherbrewer enjoy time', 'good morning tweetheartsanother rainy day work go', 'good morning tracks startin day w gr mix pshhlynnae httpbitlabhh', 'dodlebugdebz ah okkinda like mei love writing took engineeringhahawhere u plan studyyes im phils', 'hate someones blackberry goes mine', 'mettalight id like thank academy', 'maryleahy whaaat super helpful', 'tommcfly maybe turning bit fetish maybe earth girls arent good enough guys x', 'dishes amp trash done really wish could go see kids', 'bluapp way resize window blu feature come soon', 'nilofer im thankful invited amazing gathering thank much blast', 'sun shining im feeling', 'philkirby three days like forever hehheh', 'turning early night', 'angry right', 'practice competin hamline', 'houstonartfest sorry sent u wrong tweet letting delete post oops', 'played smashed bingobingo heaps drinnks fun game touch footy beach resort staff', 'happyth birthday younger brother', 'room empty time hoover bleach', 'noefool thats looking forward', 'suddenly tired lunch help situation', 'yeah know im learning fast though see gold star stickers achievement']\n",
      "Cluster 10:\n",
      "['drinking lattÃ£Â¨ instead os waiting lone new iphone starbucks expensive germany httptwitpiccomsf', 'hate im different computer cant remember passwords bc theyre always saved', 'climba yeah thats fucked', 'hit todayhes coming back another daaays ampim dyinnnn', 'naperfectworld id two tickets bet awards', 'tweeting ddlovato past half hour one reply shes huge inspiration would cry replied', 'lesliecraig get pics tootsies office yet dont forget', 'bwharrison thats great exercise helps clear mind clutter dont like going gym prefer outdoors', 'lopsidedgrin quickly going beat time', 'finally decided get dsi birthday colour downloaded mp wma aac converter preparations', 'fun times bon fire weird saying goodbyes people wont seeing leave yikes sleepy time yes', 'making cupcakes cant eat makes sad smell sooooo good', 'megaggie done jonathan brandis add list', 'one lift plus day', 'dannymcfly know say something else portuguese', 'jamieoliver httptwitpiccomonb shame things always happen im work', 'playing super pet', 'across town missing family meet seven sisters', 'callu ok lol needing', 'theres fly buzzing around wish barack obama', 'idk im shaking realllllly bad', 'bryantalembrug aa', 'got collect call gunny gunster verizon wouldnt let accept thoughts homie love stay', 'time chilling music', 'im hungry hate working nd shift im always hungry get', 'liattsarfati sorry hear', 'starting look little scary outside', 'aion kicked ass tonight demons much harder angels much cooler', 'going get wii music tomorrow lol', 'anakix belated happy birthday', 'ladylenno cjaxon editing one things', 'office right', 'btec cat swone flu tumour arm', 'omg bgt final tonight please dont let susan boyle win vote rest', 'ok dunkroos could found found something called dunk ems flavor quotawesomely oreoquot shall try', 'erinkillsmile couldnt find', 'cassieventura hear radio sd right', 'got phone working boyfriend went mountains', 'seriously isnt kevinjonas trending topics yet really kevinjonas kevinjonas kevinjonas kevinjonas kj kj', 'im really good enough anything', 'kerstinsichel tried voting always saying error cant get vote', 'nin well stay safe warm', 'closeup view looks like used motorcycle lying ambulance', 'thisstarchild im shattered long hard day work x', 'selenagomez selly im begging please replay youll make day please please love sooooooo much', 'lol graduation requirement wanted avoid', 'joystiq got eu keys left please send one thx email bugmxde', 'whats mind fever michael buble gtgtgtawesomegt', 'hear thunder', 'bugaboo woman let take damn gall bladder good grief', 'bonbonita fed extraordinary', 'thisisdavina live feed like omg gonna summer guess ill go get life', 'watered tomato plants pepper plants lettuce feeling homely freddie funpacked day', 'andrewt ps write good articles http sonthecutcom', 'seems lost profile pic', 'n silverlines suddenly feel bad last tweet hope hormones talking', 'cant quite get mms stick iphone', 'redoranda wish weekendbut really alsocuz next monday exam havent studied yet hate examgrr', 'monday u cant ill buy tickets u bring class lol wanted see u well let kno lol', 'missycaulk problem ill make fix', 'im going miss lc amp lo', 'trying less unwell', 'padfootcullen im fish tagliatelli yum yum something fresh might really good like melon something yum', 'gaudet could tell shading didnt get color mb dolphin one want get like pic vid son', 'dopeydoo jumpshot ko kita floor kya official iyo inde mameasure', 'burbujaspy httptwitpiccomtf witch one asking', 'xxnay sorry brother didnt mean send haha im twitter stupid', 'deborahedward want one', 'jennypoynter miss', 'mum called crazy wanting cut bowl shaped hair', 'superherojamie oh fun basketball training til', 'otakuteri ive joined twibe turn join japansoc forums httpforumsjapansocorg jsoc', 'red lobster wit odee headache', 'damn dad went vons ce vons car battery dead walking home fire wood beer hahah', 'beingam im bed tomorrow promo argentinian echelon tweet ya later folks good night', 'friends wont ever something last weekend columbus need new group', 'new diet working well training less ever recovering well eating staying lean nice', 'made switch houses lutherkingmakes sad face', 'jodifuckinrocks ima try get bub gtlt feel like crap im trying later', 'shaundiviney wanna come us manly tomoz r ya busy x', 'bwright', 'going bed another hard work day tomorrow love hard work keep tweeting talk tomorrow good night', 'watch u say people come back bite u hiney im done wit u u stupid immature', 'awesomez yeaabsolutely agree u girls taylorright shes pretty brownie hair', 'going look high school english teacher hell happy end writer grew um wait grown', 'karenfrank hamptons long island new york beautiful day despite gloomy forecast', 'begins journey lufkin tweeting driving messages hours', 'got getting cup tea going start politics revision exam friday help', 'things good head may around lot weekend', 'waynedixon roflcopter excited wwdc see new iphone future', 'chelseamarie lmfao yepss', 'made tacos discover theres cheese left disappointing fail', 'abilewis thankyou friend wanted know called', 'iamspectacular u aint saying much tho', 'youngq preach brother', 'paulah ooo hope sounds like similar plan day im thinking vampire maybe alien family', 'timidheathen tres stylin play phoenix nights youtube', 'preparing leave dumaguete afternoon', 'sachz one told birthday', 'researching england getting really excited study abroad', 'watching end harry potter abc cute back', 'bah blah blah single two weeks', 'loriemay im def using im tryin flip incorp turntabledj imagery im retarded ur artisticness appreciated', 'avaamnesia oh im sorry hon theres anything need let know', 'katyperry http spacecomstilrizemusic really good band check', 'laurax haha agreeed joeypage def dance better totally forgot joey haha joey n joe dance joey wins', 'cant wear heels day always pair flip flops', 'welp fixed', 'frozenblueeyes relieved thats bloody', 'first final exams tomo two big world', 'tiflosourtis thanks', 'trying find new friends', 'jsin alright works', 'ick throat scratchy hope rest day smooth going', 'going get pedicure haha', 'dhughesy im home boring', 'high line park opening june special sneak peak evening pics allowed', 'im sayin imma b da bring fubu back make hot u w amp see ppl gone start wearin fubu cuz', 'got teary eyed farrah fawcett brave woman', 'watching favorite shows', 'dont hate starving everyone table got food already eating haha', 'jonasbrothers love guys cant wait see u concert th r u guys gonna meet greet', 'romesaaaa going canada', 'technogenii thanks link lmslcms comparative chart well look info', 'maccah wish big bang theory still tv', 'home bc weather ugly outside back tomorrow hopefully gotta study test', 'need find way happy', 'good nights sleep good workout morningmaybe work wont suck today', 'made eyes heart smile', 'cody really jack box think im upgrade chase done', 'smkealt aww sorry know mean though', 'beach today yayyyy chris party tonight hope one gets sick living room', 'ddlovato wanna say quotdont forgetquot one best songs ever gets alot thanks xoxo', 'jajaja es q es verdad warner madrid wil go santander', 'aaucl im sooo full beaus right make cubicle life bit better', 'laying stomach floor worst pain ever things us women go every month', 'oohweemayne wanted see earth plane dont dvr', 'jamieoliver im eating pineappleany good recipes pineapple', 'lost year old lure last night', 'clubgreg ill call want', 'yeah im back spain next week sonar may', 'sarah know much means', 'leah going', 'loves adopted cousin', 'listening please mine lt', 'tommcfly hi tom thanks coming yesterday hotel sorry crazy fans hope enjoy every second brazil', 'bricksofwine thought star trek excellent movie im pleased abrams far', 'tired putting forth soooo much effort getting nothing return', 'writingclasses writechat pages stories natural', 'new shoes', 'newsbee new cut colour todays hairdresser nice new pic luv', 'rubyros exact words must say completely agree xox', 'julietheblogger happy birthday great year enjoy macbook right iphone envy', 'allthingsphil beers music usually improve situations', 'jumping pool work students cant wait', 'forsoothed way id spell wensday unfortunatly im roman emperorviking godso say matter', 'aah revising la', 'bubbles raises hand puts hand forgot im already work', 'unavailable hi samuel banksyart banksyart posting since probs banksyart account peace', 'uuugh dont wanna get dressed', 'sure info', 'shannernanner great passtime keep running', 'littlestarred great question think hes already read mails', 'update', 'im tweeting right cause christinasica yeah', 'basij reported dropping acid people iranelection', 'happy idol results going kick ass finale', 'riskybusinessmb vegas show crap', 'great car stopped got run stopped cant see whats wrong', 'soyaj cool either way fine ill bring dvds sorry cant help tomorrow much goin', 'wondering jonesy actually went bed said going shes night owl like', 'jraseanj toooo', 'cant play harp today fingers feeling like fat sausages', 'ricksanchez segment cnn didnt fail iran coverage whatever case good see covering iranelection cnnfail', 'thanks guys seems bit hard get right go time', 'bigkelleh people intention ban races make homosexuality illegal voted government', 'tonimakesufab far think ate something incorrect im gonna keep trucking love website', 'saving ipod touch atb external ram upgrade morning coffees', 'ure welcome im brazillian im sad', 'cyberchick haha im goodim washing clothes lol', 'staceeyleigh lives seattle think far away', 'migraine havent subside since last niteits suni want relax nt nurse migrainepls go away', 'anndouglas u recommend good breastfeeding book want read son arrives september', 'looking forward central park tomar', 'wants iphone already friday apple', 'talked wife kids chicago theyre blast without', 'mercury thanks always hate commenting stuff like case im clear offend people cant warn everything', 'sooooo much stress lately', 'im hell yeah oxygen gay graduation tomorrow', 'cicelyelizabeth ok goodnight', 'yupp im clearly going warped fml im done seriously', 'natalielupiani hi napoli months starting next week maybe u suggest must visit places must dos', 'put new strings les paul exam block best auz happy chill nothing play guitar l', 'yelyahwilliams poor hayley sinus', 'lilianerausch enjoyed well happy times didnt love amsterdam never improved visit', 'chocolatesuze thats exactly thinking theyre cute bright coloured', 'sabihkhan ack torture one required work c c okay', 'want go home', 'emmyxoxo watched second ep meant watch first one watched second one mistake really funny tho', 'actually enjoyed tonys year even though rockofages didnt win', 'ericyo hey man one unlucky ones never got code chance u left', 'sofiagk Ã¯Â\\x84Ã®Â¿ Ã®ÂµÃ®Â¯Ã®Ã®Â± thanks', 'stupidply tp work', 'got backhand smacked black chick', 'asot odd transition anyone know video', 'im feeling super cranky need cheering', 'dinaaie sorry saturday shaping best', 'katylisajess lol haha soon lt look like ghost', 'quimo seem like block party done', 'going town get groceries taco salad today yum', 'msobie great thanks asking lets get added linkined group spruce things bit', 'missagirlwonder good song', 'anthonyoneal see trying play cable good thoughill remember smh good night', 'mrlately oh know shes vip list fine babe trust amp believe getting ready', 'watching mtv awards days workkkk', 'oh remembered johns call week hope dont get thunderstorms', 'last exam today yay', 'tanujdua haha dont think dad pestering', 'materialitems get listing charlotte ncamp respond thank much', 'went buda tx hung friend went bingo grandmaampmom yesterday guy turned friday', 'sooo many things happenin oncehavin tough time tryna sort', 'livingbeaverton ugh', 'feel like married like old married couple know months', 'bobbyllew developing stutter footie tv blame', 'gave logan bd spots ugh feel bad', 'teacherpaddy yea theres theyre way hard go', 'mandeev im really really really gonna miss xx block fine meee', 'snack machine work refuses take quarters happily takes nickels dimes dollars hates quarters', 'jordanknight im sure ever follwing u fellas amp nkotb reason joined twiter blame u obsession', 'get ankle joint injected', 'alrighttired reading maybe work recording oh waitthats reading', 'tweetvisor says error whilst updating status twitter', 'fav word spelled backwords moons backwards snoom', 'long night way early worried work project httpmylocmetuw', 'live like andi cheetah ball good news survived race haha', 'emokidsloveme lol bro asked bobby brown came rmbrd solo biker shorts gumby cut every lil step', 'im happy today coz david archuleta finally hes cute friendly hope meet dreaming', 'feeling good seriously thought allergies going crazy feel puny', 'glecharles doesnt matter redo khan alternate reality exist simultaneously everybody wins', 'read entire article donÃ¢Â\\x80Â\\x99t really words itÃ¢Â\\x80Â\\x99s really saddening yet girl got last wish dying', 'gonna try get shut eye hopefully throat gets better', 'carebearluvsjb getting midnight', 'pizza gotta start working', 'firstladyd hey girl keep posted akon shizzznazzz', 'im bored sun present sky deppressed much want see sun', 'kimbykat afeeling like tess shes anything like walking work sit close told sean', 'mileycyrus love music coming south africa anytme soon cyaa', 'trinitytrouble need pop head door sometime holler neighbor', 'selling coach wristlet ebay httptinyurlcomlunrx cause im poor unemployed lol', 'idiotnever ever left anything hotels stayed yearsbut time freaking', 'study last final cant get fact tomorrow ill officially junior', 'reginapizzeria holyoke mall ingelside holyoke mall thats closest one minutes away well worth drive', 'cut dreads foot hair left inches start please look', 'like techno', 'isnt im', 'realised im really writing type kinda brother journalist sis gonna write book wth', 'took nap watchin quotthe great debatersquot another recommended movie', 'wondering ill get offered cheese crackers fresh fruit today likely', 'hurrah beer clock sobriety damned', 'cmclymer give friends', 'maweanne greys anatomy ds game sadly good', 'working till picking joni going purse party boyfriends', 'massive rave july th tickets though httpbitluhlt', 'finished radio inc rock fm home pride liverpool traffic', 'tomorrow really want stay play infamous im tired catching morning flight working', 'mayschool im heading cleveland couple weeks see bro ill holler ya pass dayton', 'one fine dawn find puppies doorstep matter quotresponxkabilikyquot httpbitlyckkl pictures pups included', 'annazwanziger everyone hates anna', 'jasoninla hey felt bad', 'days amp still sign flu clearing sick feeling ill', 'bradiewebbstack shutup school hav chicken sandwich think totally reply since go school', 'wa hoo go demi bet nominated best actress singer yayy', 'im going see britney spears box ampamp vip area cant wait amp two best matez excited dunno wear though', 'cause want know happens ruby moon', 'funkymag hope like get let us know', 'realized first time ive ever away daddy fathers day miss much love u daddy', 'clicking constantly check update button itunes iphone os yet', 'berlingirl watching first season dont hbo either', 'britney spears finished london gigs', 'stream hahahahah la jasonlim tak layan pun', 'mooshmedia id say calls alot one drink', 'haha oh told mom kyles idiocy quotim sorry whatever way cuter anywayquot hahaha love colleen', 'alittletrendy yes tweetup comiccon meet happen year well', 'geneticgenesis yes unfortunately cannot aid cause uk cannot vote stopthebnp', 'byebye world cup httpbitlyruobz', 'bridgetmckenzie used lyrical genius like ran things write songspoems', 'damn drop webhostingtalkcom', 'dont want work today wish going holiday something maaaan bad bad vibes xx', 'erickisrael lol pissed cause really wanted see perform never', 'eddieizzard sheffields boiling revision feeling ill left stuck room', 'ekurjhbfekrsjhsdbfhejsrbfdjherbsf want go home', 'sorry hope gets better', 'hating overtime', 'csiprintchick hiya thats sweet really csi thought tweet name', 'done work soon bossman dips gettin study anatomy test tonight', 'tweet dreams', 'ugh tje glass pulled foot still hurts', 'taryngabrielle yeah pay idiot tax ie pain', 'maduk ers check singmatterscouk yesterday tweetless come say hello', 'going live flip flops weekend oh yeah caught bear behind house real', 'bookdepository cannot dm', 'darraghdoyle seem remember reading blog long time ago post tips table quiz organisers care share', 'jackshalliday vote', 'gutted cant find extension lead plug died laptop', 'loves lying school day', 'thenewbnb monday else work', 'urgh one cut finger hurts bad super deep even get', 'rexyy sorry couldnt make know missed', 'hmm diversity good deserved win', 'last hour brooklyn', 'petshopboysfan whats tonight', 'cyanidecine started posting realized ive got nothing better x makes making sig useful', 'baby crying', 'hippychikky oh weve talked red face lol parents still havent talked sex proactive', 'thisisryanross ryan youre awesome artist', 'freakin hate argue expected night end good night twitter', 'xxmixedmodelxx hahaha knew gonna take easy route ok dm real number truth cheatin', 'markable flies comes spare hover board back', 'watching seven pounds umm well quite boring unfortunately', 'stupid braces goes fun', 'followers haha thats one', 'indigospirit thank sharing us morning', 'totally different note mijn neus ah vervellen', 'fairy dust placecrisis averted well', 'know ur cp time mins til bowling', 'stephenfry youre brave x poor mum crown break front yesterday wont open mouth speak anyone', 'geeeasy lol let know start kindly take recommendations', 'hoping make move south carolina sure well make', 'missed snl', 'gammita sorry work', 'kamxbam lol yeaa iknoo ilove moviess', 'watching quotthis howie itquot', 'realrobbrydon envious', 'mbmlll agree', 'good night tweedles well still got dvds survive dreaming nest ahsigh', 'im livejournal reject lol cant get background image want try see page tells', 'jonasbrothers httptwitpiccomom another plaid shirt nick habtw ya look gorgous x', 'magiedelasouris thank man thats great idea im stupid', 'carla hah im sure actually', 'back lynchburg feeling lonely', 'better go nite fun soz ranting puttin happy face', 'books doubt written mind', 'breannnicole yay post ur cap gown pic', 'beejus show ur strip nips need laugh', 'im waiting new york goes work', 'stupidly tired got go take molly', 'karendaniels lol yea hear ya one thing would miss lmfao grrrrrrrrrr lol', 'usumbs put dvd extracted err wondering need buy dvd', 'might joining band', 'watching lady tramp talking c', 'donniewahlberg happened asian love unofficial video guess mine didnt make cut', 'forgot book home today ever work day', 'rayofspearia good weekend tho eh', 'audi next choice volkswagen passat look testdrive tomorrow pff exiting stuff buying used car', 'sometimes ppl closest bring', 'wildpaw mollie got trouble shouldnt bragged', 'orly nice article httpbitlyejp', 'eddieklive hmm mr k dont see east coast date may live vicariously youtube amptwitter amp pretend therep', 'mrspistols well tempting gotta lose weight first', 'httptwitpiccomgdre never repay god giving beautiful pair eyes', 'turns june youth shelton bday going snag piece mancandy miss u everyday hot chocolate lt', 'everyone go walmart tommarow free ice cream fro get free ice cream fosho fosho', 'poor puppy harley broke leg heart aches', 'hungover need food got washing machine stomach mo aint nice feeling self inflicted dam drink yesterday', 'jimatix im pretty sure intentionally missed point ill let slide', 'love shopping bristol farms', 'wish could go find lily allens tickets', 'courageousone thats funny good answer', 'sat time management sucks', 'iÃ¢m sad cathe died', 'going arizona highways travel show new pad light rail yay', 'excited take day tomorrow go beautician pamper', 'put dog', 'jeffgrant grrrr really wanna play', 'thanks bursting bubble', 'know apa yang kurang kmrnjune didnt blow seventeen candles blew one', 'brokersaunders jeremy ride bull although told jeffx offered said make', 'gt phillipgibb thoughts fatherhood amp wht makes successful guess good mine dude ask wife mine', 'quiet tonight need distractions get tomorrow', 'jondecastro yess decemberhaaay hit u got', 'sugar planning staying kdev dont listen hes cute live saw matt pryor bit ago enjoyed', 'leaving mt vernon long week fun amp fellowship', 'nopemy heads gone cant concentrate need', 'whoo iv time actually get bebo http soiamstellarxx http stella', 'claremckenziee well coming theth june like couple songs', 'bubby girl ava louise cold though', 'patryklarney tell worked hour week need grass blanket guitar', 'gooo move evilscienceorg', 'whats mms atampt', 'gum hurts dont go back next week remve two permanent teeth', 'backstreetsmac httptwitpiccomgyx lucky loveeeeeeee', 'wish dad would hurry shopping hungry revision day today', 'nineassis bad trip hein', 'seanmalarkey feel like finish', 'dasxxyone wore winter coat today', 'amber amp cut grass work watching cardinals securing family twitter names boys sleep peacefully', 'tired waking mathh finalll win homelt', 'good morning mall maybe movies today wiff kaycee', 'sarahwv worse case scenario ill take tomorrow still woke', 'freaking bitcrossing fingers things work ok', 'sophilthy quotbit flipsquot lolbut guess thats', 'nighttttttt twitssssssssssss jacwees tired ily peanutgregory good sleep babe week tomoro till mmore braces xx', 'ellegeeict haha good know', 'deadlyredhead glad hear', 'feeling really miserable wishing home', 'think im losing voice', 'ohwait ithere comesyes thought feeling temporary thats wishful thinking', 'siamosis giant hlol amusement pleasant twitterage', 'pinktribble heh space altar grumble property prices p easier battery powered scented candles mmm mandle', 'omfg weather forecast central london tomorrow real heavy chuffin showers im posed rocking hyde park', 'finally going bed gave lost downloads decided download additional iphone apps instead quite good', 'macwoody try californian wine looks like already missing oz', 'hmm coz im lonely girl might fall asleep disk girls playboy mansion sad goodnight friends xx', 'might getting another guitar soon', 'estyypie ill forever cupcake lt', 'gem hellojodie chatting england told add cuz youre love twilight', 'bus way vtr nice sunny naow roar', 'new blog post wow iphone post httpbitlyl', 'im crushing people even anymore heartracing im obvious', 'candiceshelley great taste music', 'aguilo damn near ever fair say', 'ive accomplished nothing today feel great lol', 'woke power', 'back dinner amp muscles still aching training cant wait back', 'bay area social media folks http ssummit boss speaking', 'mrjoatmon wanna know ill alonely kpcs aftertalk sob', 'mileycyrus yayy thats exciting', 'leahanyan oh sucksive never issue thanks letting know', 'indianapolis almost memorial day weekend indy timeand really excited going hooray', 'jennifergayle hehe whats', 'comfort eating', 'leon got really want go back sleep bit get go high school', 'mr vs dinner eddie isnt working tonite', 'cleaning washing clothes hubby kids sicky', 'coffee man', 'leisa odannyboy theyre repeating workshops uxlondon known wouldnt handed ticket back drat', 'first haircut todaysniff httpyfrogcomaiwbwj', 'cupcakenyc hey sweetie cnt go fri thnks much', 'every decade get pissed thanks support', 'day ive run ideas write blog maybe mind sort exams', 'one cares birthday mine wednesday', 'one worst nightmares ever history nightmares woke paralyzed amp w panic attack', 'dont like sound freeze dried chihuahuas', 'makes sense lets roll', 'httptwitpiccommb totally vanessa hudgens nails looks kinda horrible going change tomorrow', 'hate weather', 'azzurri birthday one day ill going alone though', 'qotta qo work', 'sharneselanier glad ur gr sorry colddampraining kinda cool overnight', 'louise got flu thinks', 'bianc mine worse one side', 'internet gone', 'peter babys graduation', 'starliciousdee welcome club', 'pbcproductions couldnt let know sooneri cant call work short notice oh well next time', 'sammiahoy ty youre big girl yet want teach dogs cook probably spamming everyones twitter page', 'ouchyyy booo headache going beed right even oouuuch', 'ok going productive day mei wayne isnt home got cute little card outher day haha', 'im going miss janers much', 'jordanyup lmaoo okkkay love sonng', 'got rash legs fuck shit', 'graduation kids graduation celebrationswhat ever happened giving thanks kidz days', 'gosh man weather sucks guess u cant sleep anymore lol', 'yes saturday gonna record excited', 'watching biggest loser finale go mike', 'breaking news update available juneth today http sgiphonesoftwareupdate', 'im using twitter anymore sorry', 'blue monday recently often use face mark', 'love ignored except yelled love life', 'cristylives leave soon', 'brunoyb shipping within us', 'chelseaga adore loosewomen im school miss', 'two skirts two pairs leggings one shirt im innovative genius', 'want know iphone broke night meaning tests got made someone unhappy', 'adiÃ£Â³s iweekend hola madrid', 'bed bed bed bed comfy cozy bed sleep good soul maybe tomorrow ill tell tomorrowlt', 'forte great weekend long late nights im really tierd lost phone', 'wnimish nice put wordpress page check thanks ton', 'realityworld ayyy bitch hows sleeping every single day doesnt feel fricking awesome', 'homework', 'ohmygod google', 'two things wikii thought would ideas', 'iloseweight charity rejected apple app store remove quotfor charityquot cues wtf iloseweight', 'still office', 'sunday lunch mom amp dad', 'listening demi love demi makes smile hahaaa twitter waaaay much tis adddicting', 'dream everything okay woke hes officially missin lamott', 'cant believe even quotsinglequot tweet yesterday fact never got check twitter bad', 'raining like mad cows outside good thing skools ill hav walk home oo', 'groggits hehe wasnt allowed take pics leonard nemoy', 'nathanielpayne next album project weve got final fantasy iv donkey kong country tributes due year', 'burnt windpipe pasty owwy', 'miss friends', 'getting ready first day work im excited', 'holy crap dont think ive ever spent long phone trying order food confuuuuusing', 'swellingbut one hang', 'almost days broder haha goodnight everyone', 'lynnserafinn bad cant listen live uk listen online good hear tho', 'chancenecessity fine im sick know want rot hole im tom fletcher poor guy still sick', 'christina charitys arms christina', 'eating bored frustrated wish home', 'poppyfm good morning poppy fab day girl', 'read im karus', 'timscribbles well nothing ruggie wasnt best idea youve', 'ichabodthegecko youtube couldnt stay cuz wake early morning bummed', 'got back walk missing woggie though', 'got hit head hard sister threw starburst', 'perezhilton hate thats kind crowd want hang', 'got home sunday bbq dadsnow sad thinking actually going back work tomorrow', 'damn theres internet steal herei wanted read ficc', 'tummy hurts', 'shetouchthesky direct quotwanting invest twitterquot questions ev biz big cheeses', 'finished holes lovely httptwitpiccomgybi', 'chrisuc basically wanna broadcast really blog equivalent im horny im gonna sex w', 'bjam dont know word', 'tired work busy expected need staff oh well soldier', 'im excited', 'mitchelmusso mitchel idea much want call costs loads call england', 'beer wings going home taking nap', 'aj makes laugh much keep tryna another anxiety attack', 'really wanna see jonas brothers novemeber need find someone come xx', 'shinrockabx whaddup', 'spoggy hi bill thx follow lot affiliate marketing ever tried mktg thing', 'adurian bet felt good good job', 'great weekend favourite fella hate back reality feeling', 'twinkleboi stick avatar best one yet last day go', 'rosatti bummer internet wasnt cooperating last night', 'musicaddicts know bew bew', 'everybody think want become landscaper lol', 'marisamendez lol say quotim almost therequot youre leave home', 'watching mtv movie awards', 'kermitphotog fourteen percent', 'jagalubnan lol would fun years time maybe happen', 'chelleyj status update yeah gotta close friday quotyear onequot unless u wanna go late', 'wooo shay monday heycassadee think really cool', 'today gonna great day work', 'need job hate applying cant easier', 'everyday get say quotcock fightquot tvim bummed wasnt anchoring', 'jcrew shoes ebay tiffany', 'gcc mini summit harolds social networking session thumbs', 'cactopus mine haha sniped', 'got spray paint', 'going see', 'follow souljaboy tellem scooterswagg bigshorty every body else', 'aaarrgh taxes espp k bonus payouts dont excite consolation lot better nothing', 'phone broke new phone tomorrow hopefully', 'lawliett floor seats theyre nowhere near front row least something', 'know sounded really stupid jobs sucks dont like feeling like feel bitter angry', 'nt able follow anyone friendorfollowcom come itsucks', 'corkyloowho haha jonasbrothers yall really hurry announce australian tour dates freaking months thepistol', 'bt aaaaaaaah sounds mental', 'catching emails rss random bacn im cutting early tonightpm dinner lauraw', 'casualpoet airasiacom promo earlymid august via kl wanna come visit kl first', 'topsatwarchild closed httpbitlyzactb bluejays', 'tommcfly apparently might canceling shows due skin cancer', 'hey otepofficial cant hear anything otepofficial live gt httpustreamcyj', 'squirrels today must hiding', 'going bed daynight', 'mitchelmusso say hi leland hes awesome', 'attn webgraphic design people httpbitlyu', 'hmm reason soundclouds player doesnt seem working safari', 'itsjjenna ahhhhh yeah im stupid things like hes asking hangout im like surrreee hes trying plan', 'chumfm ahhhhh cant get chum website one problem cant listen cant get', 'gemmacartwright oooh agree half past pm ive bad day hope better day mine', 'miss guyssorry gone day guess ill see morning figure get live chat wu', 'finger still hurt', 'headache throat still hurts much gosh wanna sleep cant cause aches hate much sick l', 'andrewfyfe constitution long word write im going insane studying freaking', 'throwning grapes mum im devil bahaha', 'complicatedmama lol aww sweet hubby', 'amur tiger cubs want one httpshorttogazt', 'nanfischer wonder wife knows would happily live days x ft shack built arkansas could', 'getting ready go clubbin gabbys grad party', 'kansas city airport crazy busythere must like people pace life cost livingthats im moving back', 'edkaye imagine able buy prints big double page spreads early ad awesome never happen', 'tyrelassie probaby couldnt resist scottish accent lol', 'robotsarecool oh dear damn bad dreams especially waking damn early hope assignment goes well today', 'beckykingston dont think ive ever tried peanut butter toast', 'dwighthoward probably wouldnt would leaving lot amazing people behind', 'heyyyy twitter funboring foring bun', 'goodnight world love', 'aanga oh yeah ouch sorry assumed lol seriously really sucks hope youll right', 'jonasobsessedx omg im sooo hyperr started tearing joe stella moment gossh soooooooooooooooo cuteee lt ilusfdmmmm', 'photobox thanks need rocky soundtrack get one think saw guys involved shoot london nice work', 'pdurham ooo like idea come get ya make cocktails', 'like heat think bitten cant stop sneezing', 'heathirmarie supposed throw bullpen tomorrow mound said feeling great sudden felt bad sucks', 'puppies crying trying trick setting free', 'ruraljuror travel safe fun', 'stephhi know im soo sad', 'dosed pm effect second seems', 'dannygokey danny moved tell everyone keep voting working', 'justvero hi', 'hey katherynwinnick coming back k miss kicking ass set', 'fiancÃ¯Â¿Â½s birthday today congratulations baby', 'sure killed new digital camera parents got yesterday', 'morning tweeple shower another sunny day', 'sagewhistler sucks', 'rivenagares worries u still coming caribana right', 'jorowlingrocks sad', 'shout outz new followers rock', 'southwestboaz happy right nowbut sure make', 'phones die ttfn', 'jonoe thank much comment sons picture', 'giddy dance right got really really really good news', 'im upset car breaking need get till end summer', 'joshtasti couldnt us coz already follow u followed ur recommendation tho', 'joehass im chocolate', 'read farrah fawcett died rip angel', 'farrah fawcett star quotcharlies angelsquot died cancer sad', 'ok gone running sucks', 'traffic', 'yo jackiemananquil glad strange way sick nite amp didnt roll los party foxtail wouldve hurt much tell u later', 'morning havent sleep impressed', 'writeplayrepeat probably wont make tomorrow due fact go rescue friend later tonight sorry', 'kaffeeklatsch pm Ã¯Â¿Â½ made german marble cake keep sharks away itÃ¯Â¿Â½', 'lomantik im going hang paul maroubra place weeks freedom yeahhhhh', 'jeluttrull moefugger read u guys thats fair', 'billarchie read quotnow got allowancequot ahhh wisshhhh', 'breakmyback triste', 'im friends house another city studying anatomy final tomorrow hope pass lot stuff memories', 'thebushman hey great meet finally tonight never heard twilight hope stays odd', 'john hope feeling better everyday security wont let bring burger youdamn', 'meshellaurie dad superman pulling take easy', 'mattmagic yeah deffo crap overtaking motorbike waddington fell mph quite fun though', 'huge obsession think dance therefore love wednesday nights', 'taylorswif read blog hilarious haha made rofl wish us could see tour', 'morristhebear ha ha gotta love ozzy dont u must remember tho next time go rampaging thru neighbourhood dead nite', 'dog tried jump walls fort nearly fell save', 'maleekberry doubt ran outta moves tonight hrs enough time su age rehearse new stuff', 'chanelzampogna gosh win good night', 'server host sites finally shut looks like ill looking new host weekend', 'mrstrumpster yesss im bummedi loved show sooo much miss jess hehe', 'cajunvegan tweet included longest poem world stpoemintheworldcomtwee', 'asimplegirl goodnight love hug okay ice ice baby oh bad sorry', 'eddieizzard miss days multiple postsshannon', 'ronda many people didnt get msgs comments myspace', 'cant find demi selenas people magazine anything', 'aishstar ahan come n u go', 'promedia hope loves even isnt surprise', 'new brakes', 'saying goodbye parents airport great around', 'im really really hating season poor felipe baby', 'amazing night lt suchha great time', 'kailalaughsatu meh teddy bear koko fend hes always protected boogeyman', 'chapmanmania one working', 'caseyore well move know going yay lol', 'wait less two weeks till see dm hope dave better still news', 'peoplemag hope least finish top ten', 'capitalized server wow alterac mnts', 'hey troytaylor please sing lol songbooktv live gt httpustreamnhv', 'updated twitter app looks weird grrrr worst sleep last night tossed amp turned', 'im going cook something family really love cooking baking calm cooking baking im happy', 'hair cut morning', 'squarespace gs coming', 'watched mtv music awards', 'lol know feeling hes gettin married wks lol pauseproof', 'blobyblo didnt know better would swear eunhyuk brothers great see blog rule', 'nwoolhouseuk yep theres beautiful double rainbow survive quite exciting mum scared', 'lookin bathing suit realized b happy till get surgery', 'ohsweet tweetdeck post facebook twitter dont choose', 'hahahafeels gr many reasons', 'jerais need move germany love autobahn', 'got home disneyland never order mexican food mickey mouse lives', 'lannyreveles hasnt ill figure tho', 'tenshiie tweetdeck yes better website', 'ultimate sunbathing pose cat httpyfrogcomebkoj', 'lost semifinals scored', 'early asleep since pm yesterday well rested lol going make breakfast full day ahead', 'httptwitpiccompk nephew baseball player', 'quoti dont want loose heri dont wanna let goquot lyrics storm nick miley aww sweet', 'wstmjonathan proveeee itttttttttt', 'cant fall back asleep', 'backstreetboys aww dont worry nick think cool sparkle', 'good night world great day sharly boo oh love xxx sharlxo', 'first official day summer feels nice absolutely nothing chill', 'itÃ¢s boring didnÃ¢t like school teachers bad', 'rt jonalfredsson calvarezhis yes im pilot far away pilotÃ¢s licence level one dream stage thus far', 'wendys st bdae party happy bdae pal', 'love song picture perrfect based girl got everythin wanted hell pretty mean', 'bought taurus instead mean tortoise put racing chip iÃ¯Â¿Â½m allowed sorts car', 'im going see taylorswif staples center excited cant hide', 'suck sad song julianlacey toni braxton Ã¢Â\\x80Â\\x93 tony braxton another sad love song Ã¢Â\\x99Â« httpblipfmawp', 'mitchelmusso called called think answer haha', 'rousse hopefully im really good creating last minute issues though try late wedding promise', 'yaaskibs ill never forget love yoou', 'katyperry heygood meeting earlier rush get last train back amsterdam', 'jaxxienav yeah probably get another one soon gotta go get another iphone todaythey keep giving duff models', 'stillsosassy hehe like public service announcement', 'htoddcarter didnt ask figured theyd shelves', 'still feeling incredibly sick', 'hate ill also girlfriend two weeks away', 'watching pinkpop tv frans ferdinand cool band', 'fog horn doom great way start morning living next harbour really great', 'felt like crying watching brother bear', 'httptwitpiccomml tearing perfectly good tree front offices', 'good day hope everyone awesome day sunny sunday', 'u dont even know much u mean', 'benneteau ran wall quite litrerally looks like immense pain hope alright', 'awesomely serious workout today potluck fun girls good day', 'hey petraraab duilla buzzdonna vickir tmbainj thanks following oasisteria check website sisteriacom', 'yes school colegio', 'ears stitched back yesterdaythey killig right', 'stephaniealloyd hope dog comes okay always hard see pet feel bad', 'ipod broke today', 'going test drive windows hp tablet today hoping smooth operation', 'sick friends fighting wish people would stop making crap', 'sweet', 'roodkid ahhh loves david xxxxxx miss', 'phoenix worried cat seeing nearly landed butspilt tea', 'good morning twitter hpe prack today hours till class going boring wait', 'mw goodly morning sweetie beautiful day gonna workout mow lawn luvya n huggles', 'lakers nba champs', 'thebrandicyrus ill vote', 'mmm love babys bbq skills hes cute dinner ready', 'mothershop httptwitpiccomvhl', 'walk run eat laugh eat eat laugh sleep perfect evening ahead', 'betachris bored enough try guessing dishwasher code days ago didnt think itd still work thanks', 'twinkletessa printing place photocopy blow nd print onto poster paper might take small orders', 'davidmaples thanks follow louisiana native', 'looking forward relaxing weekend nothing well maybe painting course', 'flamebornbeads yeah crap days', 'think im falling love xxx iloveyou', 'nicshieldsam whould aroundpm sydney right ill work replays hahaha', 'spraypainted planets science proj today got everywhere blue paint still hands feet', 'rwsneed keep posted upcoming swedish adventures', 'icefrizzle sweet gay vote know cant go wrong', 'realalystoner think really report twitter', 'kyleebelle sts isnt playing anymore im texting anthony right', 'one stop following', 'michellesuno honoredto among first followfriday mentions thanks', 'alexgzz thanks deja lo reviso', 'tommcfly httptwitpiccomrhq love guitars', 'crzyjes sorry didnt come party last night got wicked headache stayed bed httpmylocmebir', 'back home black forest miss friends near stuttgart god damned xd gtgt could love want kiss ltlt xd', 'buying condo today write biggest check life', 'ana exchange deal yayyy long necklaces fab layout online shop', 'new dream theater old dream theater seriously doubt ill buy albums say every time', 'willye shouldnt going sleep kidding p', 'twisted gahh studying making screw commercial', 'harajukubunny hit u started day boo ur busy body ass prob looked right', 'people lucky lives im jealous example mley cyrus writing songs nick jonas lucky', 'rooster thinks early cos hes lazy bastard beat', 'fail sirkyle crap dosent look like tweetdeck iphone app supporting friendaddress book fail', 'calilewis alway buy cheap ipod one airport', 'need find mp player im back bus today', 'two drifters see worldtheres lot world seelife good', 'aprilllllx yay', 'happy birthday ricanessxoxo hope u great day', 'watching bbf lt lee min ho', 'wanna outside anything one wants outside', 'dougiemcfly get well sooon youll fine xxx lemsip way', 'want waffles', 'bout go workkk boooo', 'wonder wen iz walmart walk miracles iz iz dis weeek coming wonder skip skool muhahahahaha', 'signing day get sleep tomorrow', 'happy saturday morning dear twepple ive mia family town hope everyone well', 'f u anyway durience u didnt even wanna play light feather stiff board w', 'robertday u clothes would perfect', 'massdistraction oh much damage hope', 'argh work looks like going busy busy today', 'misty start day another session pace today later going evening wont tweeting much', 'cameronreilly would indeed agony spank students enough playing tune need step inside church', 'animes hmm id guess day every day christmas', 'beapolicarpio sorry babe got distracted', 'archanaverma thx gonna long one slovenia actually', 'oh yey twit hihi', 'omgitsafox always insomnia night sweetheart', 'stubakercomedy congrats enjoy younguns amy simpletownusacom', 'totally needed hours sleep', 'oh hate trains', 'guess dont live inaperfectworld', 'says go karma points httpplurkcompzulj', 'donttrythis think almost exploded never seen ottbabeh either thanks', 'always work hot enough pool', 'grampys barriel todayy rip Ã¢Â\\x99Â¥ love amp miss much', 'tommcfly hope one day u answer twittermy dream meet u u came brazil could see ui sadi hope u back soo', 'waynedastar morning send one meim gonna make church todaystill feel icky', 'glorious outside seen sun new es album amazing', 'mmm roses strawberry dreams delish', 'watching flapjack til going see alicia tricia', 'movie watch hubby says action flicks without chick flicks suggestions httpbitlysyte', 'strained left knee', 'omg works hello hello httptweetsg', 'woke damn happy finally sleep untillam drink tea next hour lt', 'seanwestonline going check schedule contact tonight thnx', 'tiffanyific want talk tan course', 'watch wake', 'tommcfly amazing tour literally shed blood sweat tears haha gutted x', 'blew flipflop', 'way school listening kountry gentleman lt', 'outcastspice im sorry didnt get snowglobe saw message late', 'itwon thanks', 'everi thing around breaking', 'lyssabach haha nicely done count', 'going bbq suns gone', 'hadramie thanks trying right second hope menjadik', 'beautifulday beautiful cant see youre everything hope youre everything need haha little rascals', 'morning everyone really great physio session getting ready work', 'go grocery shopping pay rent', 'calilewis inquiring girl minds want know get shirts', 'waitn gyrl dinae swing visitin dirty jerzmy baby gyrl jus went end yr formal dance im getti', 'sspa im like sure watching orn work dont want followers co policy anyway', 'huberttay inspirebel cabbing cos claim company muahaha miss guys', 'dont like tour ends', 'would rather anywhere lifeguarding class right hopefully passed tests', 'azmyst ur home could always send list movies good deed day', 'sleazyjeezy u hear battled like hip hoppers even interviewed true story feel bad percee p', 'emperornorton lmao cats usually good judges character though night night', 'lunch phew firm im super busy amp completely tied even chance sneak tweet get good though', 'feliciaday suffer altitis well tragic', 'well right im membership stuff fun fun fun', 'deewoods k weekday cause work weekend ill dm digits', 'dirkjohnson public speaker dont worry well', 'coffee still sleepy also took three hour nap afternoon wish could tweet must leave raining', 'eat anymorebaked ruffle chipsi dont even like ruffles', 'yes pamluther goal amp searching conservatives examiner sorry slow computer joseph catholicexamin', 'glad win gold medal', 'peachlucienne miss', 'im shoot friends im evil promise sounds bad', 'jima yeah quotmod biotchquot never gets old btw wish could th bday', 'rejoicing aldeana home w savior grieving loved like mother praying hinkle family time', 'ahhh feel refreshed', 'feel bad ignoring ims aim went broke hearts ddnt mean ignore guys wasbord', 'shane dawson awesome', 'mariomoraesindy mario last twitpic work', 'way disneyland might last time get see th anniversary fireworks go away', 'good words worth much cost little make great day everyone remember choise', 'reading coffee course', 'work today hour go', 'nachos tudors think', 'got followers', 'awkward reunion w college friend recognizing hip adductor able gracefully bring legs', 'dphresh rite whats best', 'celiabb next one would better', 'marianitamc want', 'ilanrubin entirety lz physgraf anything lotempo rain song epic achilles dampc door keyboards', 'kristykristyy ahaha work minutes gahh hate could done something else today', 'hopefully works phone', 'loisgraham yes', 'great social interactive cinema ideas coming aftrs directors atst day innovation amp form refreshing even talking twitter', 'fatgenius btw change converting let know try kde', 'kiiimberly sad', 'making cup moccha prepare long night determined finish urinary system', 'birthday tomorrow brogans celebrate', 'aswedriveawayy preshredded hahahahahaha okaycraving cheese', 'cant believe ur close friends biggest jerks ever happens isnt even fault', 'one disturbing dreams ive ever last night woke took several minutes realize wasnt true', 'vegan chicken pretty good', 'shinskydadon thats probably true', 'libraryeliza good job make oldmanwinters use twitterhe wont listen', 'kyndoll youre going see jb aww lucky want go im broke theres way mom would let go paying much', 'tkfourtw hey', 'ideasuk hehe doubt need matt amp tristan lovely helpful guys community fundraising team', 'oneluvgurl haha nice cant sleep', 'ris okay sent', 'ugh breakfast make stomach happy', 'mommyoftey take number sign frontitll work', 'katestarr except', 'omg came back store knee feels like wanna break second ughh felt like since earlier', 'vishwaskasat cool ya nice time went trek yrs back ab meri bari hain jalne ki', 'summmer starts tonight hmm many options', 'gonna busy day housework real work listening r pattinson throughout', 'tracecyrus dont go teasing us haha good sleep trace', 'god prince news', 'says though kinda sucks since took initial httpplurkcompqx', 'stuck working amberoshia christina wanna shoot foot go home work army', 'right work hours go im free xd', 'christianaty manicure gave acrylics lol break much', 'changibedsheets loool would awesome making sims mine look always stupid ill try', 'asdosanjh youll signing autographs soon', 'clean study fun weekend', 'mjohnsmusic wowur chicago lucky kids say bet happy tennis ur man', 'oh partner carer daycare confirmed case swineflu theres talk daycare may close doors', 'jo indeed httpbitlyiwj esri nz estimating customers nz recieve sometime june', 'nevermind situation fixed see soon', 'sleepy stomache still watch dvd', 'favorite sexy tumblr account gone', 'want take road trip someday music map', 'yankeegirl fair people r mean', 'mommy ure soo cruel whyd u gave really delicious almond pie midnight snack', 'shout friends morningside park keeping looking striking love petunias', 'dorkfish lmao assholes need put kids first still sad pants waaah days ol', 'heyyyy twitter boos bored tryna get lil faded nite', 'loubeejones im day going town whn katey gets outta college well go hunting xxx', 'rahmans coming pune row able make', 'hear sister friends watching transformers room alone', 'miss uvgay', 'fishcreekpark late night bbq smores yum', 'shaliniakhil caved stayed another months flying august right excited', 'teddilynnpiazza u shouldha', 'loves star trek tng ferengi kidnap trois mom picard busts shakespeare get back', 'kristierenee knowit makes sad', 'aaronbassett thanks retweet', 'feel sick stomach plus fan register doesnt work', 'thinks fingers broken running away fly bending backwards door handle', 'thought sawomarion cadbury world today didnt fair', 'elfinwear lol feeling thes already south lousiana friend fl feeling ac broke', 'hphillips yooo hollie wake use twitter', 'carlosseo video available country due copyright restrictions', 'hvnt pot may', 'fuck bayside', 'going bed love life', 'kmill actually didnt even watch game dayor ystrdayi kinda realized dont really gve fcklmaosoim coolin sha pow', 'whoa wayyyy hot outside miss nice breezy days', 'alexalltimelow thank tweet lt wish could something help really hope youre feeling better', 'going mall cody today', 'robpattinson finished breaking dawn heart still butterflyish smiles big high five edward real', 'brianzimmel seth said tweet find blackberry storm im interested getting one', 'speakeasy likes girls joke nice need friends', 'today last day radio semester ended quotsimply bestquot tina turner bad', 'iphone gs super fast however mine refuses sync macbook pro meet quotgeniusquot monday argh fb', 'note self limiting time internet hour day trying come back later check myspace start facebook ads', 'omg heat roomi think may slowly melting ideal', 'responding email', 'omg lost phone feel disconnected', 'also new blog post saturday beach adventure httptinyurlcomccwvpd', 'Ã¢Â\\x99Â¥summer babbyyy awesome day Ã¢Â\\x99Â¥wishin', 'borreeed', 'get mind thingsa sonny marathon disney channel perfect cure', 'theneener weird opposite first love would benedryl definitely knock ass', 'oh help please get rid security warning upgraded explore new shouldnt done', 'headed back dallas days home europe great start packing get home', 'lilrainbow unahealyfan im jealous yous liverpool', 'watching talkin bout generation ncis good night p', 'workout time let us happy today', 'india followed aussies', 'ordered axsdcc costume matsumoto bleach', 'moixx hope initial instructions specified wanted cute pretty girly used gray dark yellow teal blue', 'thinks ronan back tooth coming well clingy', 'office feeling welli want go home early cant', 'terrible time assignment', 'fuckin tired throat hurts last night fun katryna found best apartment ever miss friends already', 'playing guitar heros awesome itys really cool', 'tauriam alright', 'fally ok going read', 'feels like get bed sooo warm cosy', 'sarahstanley thats quoti thinking youquot purchase', 'let summer work begin school bakeside life', 'thats amazing atleast guys got one amazing thing cracker barrel', 'cityguyyoga great see blog article sounds interesting', 'im tired going bed church tomorrow gonna weird though without peeps including', 'hope dont fail hope dont need palmcards much getting sooon practice', 'babbbyyyy watching pens game', 'jordaaaannnn im hyper hyper us', 'way ijburg httpyfrogcomsqwj', 'emmatreasure bad patch recently dont understand trich comes goes worse sometimes', 'happyseaurchin well whaddya know thought coveting audience always symptom biggest weakness', 'jordivision never call leave voicemails singing anymore miss', 'fish sea', 'shes splitting image hun spitting', 'ichel iyaa sii exactly get videokasian gw masih gwdasar foxie sialan', 'little things make happy', 'nicolepaulino jonas adventures im actually competition school u win u get grand go jb concert', 'sneezed times everyone intersted', 'watching click oh well tonight great good night everyone ltvereniselt blvnulc', 'didnt get go jogging today', 'grrrrrr flight delyed praying turbulence least maybe sign stay traveling gi httplooptusmgat', 'mivillephoto disappeared yesterdayso uploaded new one', 'blame james tonyÃ¢s talk', 'bigwhale yeah long good night', 'wishes could work celebrities twitter accounts real arnt', 'fakerstephanier fakemanagernick fine see two want new jobs soon ill call front desk xl pack', 'finished watching second time good', 'stephdavies hate word hope hate im hating', 'reallyshecky totally appreciate direct message youre ok book', 'jediryan lol mrs picker never gave us card remember serious pen license seemed time though lol', 'workhmm', 'study economics today', 'working homework', 'ivys gone alone apt studying day night', 'lleeann thankkkkkkkkkk leeeeeeeeeeeeeeeeeeeee miss u guys', 'hersheypark amazing sats saturday lots studying', 'kissakatt yeah thats shitty doesnt mean way', 'last day mustang ownerit sad give dealership tomorrow days til leave til show', 'dereksho oooo wonder new world warcraft druids going look like hehe im excited', 'twitterfeed bugue encore sur les flux rss delicious', 'feeling groggy morning need sleep lot work', 'rob isnt sitting next kris think shes seats', 'xomusicloverxo sunshine', 'earthquake woke', 'wow going bed soon im wanting know time america lol feet cold cya tomorrow ily heidi', 'valcatherine intend lt', 'httptwitpiccomtjnm least ill die tan haha', 'getting harder harder pee stick sighs cant even see feet', 'csingerever lost please help find good home', 'vichick aaaahhh flutter flutter goes heart', 'want go feck home dad shout', 'arties fun waterboarding didnt win though', 'getting head around means relative index inequality attenuated ummm', 'iyaitssuzanne got spanish exam next week im actually going nothing school x', 'bradmcpherson moms birthday today ive heard much good stuff haha', 'laurenlindemann try twittering', 'first stress fracture think great almostpainfree run', 'wilw truely magical made laugh loud', 'juneth way far', 'itsonlywords oooh wow youve got quite project glad wont building drizzle', 'xplosionth lolstudyingrightstudying forcshaha', 'nvdey liked review lot hope opens bloody eyes', 'im getting mad rabbits anyway must quotreinvent lovequot', 'miss classics also miss real university cause seriously tcol real academia', 'paigeebaby figured july epic month', 'new tattoo hahaha im telling world two go im never finished', 'megannmaccx lmfao teh marie thing haha yeah previews start september oh john stamos allietrimm love', 'lost straw abyss orange juice', 'reminded zayish lovely italian boys yeah doesnt mind going xd still hours', 'jothecat buffygroupie ive tell people cant talk anymore stopped going lunch', 'jayewells yay jaye love jasons contests look forward judging im mood writerly party', 'justine im sorry earlier good sense humor time different amp thought gonna creeped', 'computer working', 'hundreds photos iphoto cannot see applewhy', 'shit contact parents gtgt grrr', 'fellow canadian tweepshappy victoria day enjoy holiday', 'jamesbuckley thats slyyyy', 'mayhawkeprime glad passed love', 'ellabellcullen laptop died cant go msn', 'wtf ull back repinging reneeleone facebook deleted', 'nikkilizh misss ima call ya later chat', 'backononline dont computer right watch', 'chstpher bidding new tickets', 'httptwitpiccomec queenofspain youd look spiffy shirt color', 'jb good luck', 'really misses best friendhubby still another week til see', 'rainnwilson bowl jello leaving picnic lol', 'annie actually dont feel sick anymore', 'natlnorml happy guys heres funny video celebrate joyous occasion httptinyccqhsym', 'calvinharris catch bmouth october southamptons better tho', 'themisse ask question lol jk knew someone gonna', 'feeling well', 'kimmosanity okayy txt ten mins away come get dbogaczyk', 'well better stop reading night try get sleep tired gotta gnite xo', 'follow follow us back way learn every day', 'hour ride today tired didnt push hard legs sore projec', 'also completed stage night museum pretty good film', 'ive never upset see boobies', 'trying fix javascript errors caused script control', 'patrickray thank god need starbucks eventually move lincoln park miss yous', 'mia spend hours sitting loveseat reading together nice', 'therealtiffany haha fantastic especially since u answered haha anything fun lately new movies anything', 'felt like dream didnt want end', 'ladykeisha scorpio thanx post amp warm wishes enjoy ur day', 'tdwnd problem least look floor wont see banana skin brains step almost got killed', 'jakob sveistrup concert friday next week', 'tlco thank', 'ill missing dt day school', 'absolutely hate anything wear work shit imma hide lot today cut fringe', 'followers arent proud theeblakbeckham lol', 'go work pm tomorrow im sooo tired', 'alyssatasker transmission fluid seems fine yeah still waiting tow truck', 'kwon yuri sooooo type bad doesnt know exist well', 'thistheres days torturehang dont think', 'leatherpants aha sweet well im mental breakdown fact may wait tillpm updte iphone', 'nuteile im afraid attracting also get im revenge sense make fill beer', 'andyclemmensen spelt roll wrole love', 'hot choco best', 'beemichelle mmmmmm heart ra shit lol hope ur enjoying urself', 'monkee lolz mean want say boss im skurd', 'soodejavu yeah girl looks good though', 'back home fab trip around centre london soaking sun enjoying good rest', 'got news one good friends grams passed awayshe strong horse never know tomorrow may hold', 'njthedj word nd', 'davespoon hey mangreat work whats email address fire promos', 'thatboy welcome like posts httptumblrcomxpysmt', 'shits weak dont make flight wait till possibly case would pay flight', 'httptwitpiccombqrx favourite part today still making smile', 'im watchingg grease still havent seen way pretty funny quotlalala beauty school dropoutquot', 'catttttttttttt yes mainly im right handed also theyre extra maths ones impossibly hard', 'got car back makeover looks sexy yay miss', 'todays shopping objective purchase one specific item go home hrs bags shopping several hundred pounds debt later aagh', 'zenmommy know well get freebie every month bb new releases hafta wait plus hubs tonight ps guacamole', 'amazing night boyfriend idk id without love sooo much', 'chocolate cream frappucion starbucks win', 'fibreoptic hug tats', 'acmaster haha yes would cool im pretty sure cookies dont know anything political bias cable news', 'littlelottiell thanks encouragement following blog much appreciated', 'lyssamia yeah like miles isnt making funny face one discolors everything krystals handthen', 'told ya fuck', 'way canton looks like gonna rain', 'cloudy outside get home', 'davetran httptwitpiccomgbq im happy two moi', 'travoradio morning blipfm', 'radio fail hard cig lighter broke car cant use ipod transmitter', 'well looks like gonna hot dry', 'ynnatirb bee spray kill first scoop cup', 'patrick ever publish next web pictures cant find', 'getting ready go brohers chinse x', 'sspent arms cant carry anymore bags', 'cubs win', 'dinner girls love', 'wickedness im sorry feel well', 'school tomorrow happy starting gcse courses', 'life make treasure', 'works might work works might work thats life interwebz people', 'remember backup data always httpbitlykxjl', 'looking forward day assorted wonderfulness aka shopping', 'isacullen sometimes hate life us decent fans dont meet yet fish girls green eyed monster lol', 'jacobwolfe thanks hun ill money buy stuff ill enjoy taking money ryan hes bad side right haha', 'slowly breaking addiction burts bees excited shooting leslie jordan yesterday mink stole today', 'watching get smart im bummed disney concert hall week ago today miss caliii', 'httptinyurlcomndwx honda fuzo damn want put preorder', 'simsgalore favorite song white horse', 'boberto sounds wicked reemerband good friend haha reckon watch transformers sunday work', 'dosgw oh man joke least didnt miss good game magic got smashed', 'makes sick leave dog cat kennel go vacation', 'hollydurst sad cant play tonight', 'tuna used scare child thinking literally find comfort stocked pantry biggie really', 'shenaniganjenn boo hate facebook', 'thank mtv quotbest male performancequot great time', 'waiting midnight', 'cool day bay today light winds showers time put seadoo away quick rinse watch american idol', 'leahclopez dig goldfish already', 'burned lunch', 'quarantined sad day', 'great time cousins wedding yesterday back normal stufflike laundrylots', 'radha camera friend may monday tuesday', 'saaad loosing salley girls singapore another year doesnt help brokenhearted leaving', 'horstp funny outgoing email issues day thank gods seperate adsl connections', 'okay im im supposed going cotton pickin fair today lie xd im supposed three hours fml', 'keep hearing voices oo im scared', 'happy nameday robles', 'bigwhite man asshole jeez people want friend fucker', 'thinkreferrals darn could pray im probably gonna start saving new desktop build scratch', 'missdolan hahahah gota love carniesss attire meateater dont mean maneater', 'sad httpplurkcompyugib', 'jimmietryon veloce sureits slipping rd occationally brother says might selector gear box', 'gewoonlianne ok catch later', 'definitely small world days til italy', 'finally succumbed twitter', 'always move food', 'lynziloo kinda miss days lol places dont party anymore wtf getting old nooo', 'freaking early suit pm seminar saturday advertising boot camp', 'boltclock accepted hehes thnks add tho', 'sleepy today insomnia night hypersomnia day mixed', 'rachelnudge well fridayyy work couch oh simple things life', 'gooooood morning going breakfast', 'asee didnt think', 'billundtina lol big one bit emotional', 'changing picture flip flops see site see products colors', 'home happy', 'friends mavs fans words ui told thats im gonna say haha', 'rd cup coffee tired bed', 'woa followers cool', 'tired probz go wash hair sleep', 'thefragile yeah tell bout pebbles', 'watching britains got talent', 'jairodriguez miss guys together', 'panacea great thanks love pic way lady gaga haha next big thing lauren mega famous', 'sweet mother surprises heeee iiisssss heeeereeee extend royal welcome gomesrui', 'routhietootie camilla love eyes cutest face gorgeous figure really good actor', 'houstonblogger youre bestestest im sure itll ok', 'caramellizzles httpbitlypboh holy mother god lt', 'gym hectic cardio training', 'salsalami pregnant oh shame', 'chrispirillo nice see another community challenge', 'leave next weekend havent packed thing im thinking travel light real light passport hand luggage maybe', 'lauralollycake ate sherbert fizz', 'aw dane next year owe us danecook xosheez', 'rachsparkle lol oh damn love', 'muwahahahaha esp hashtagging fadedmoon', 'kimbo hahatotally agree', 'weeh half hour theyre going start calling us havent passed exams think failed', 'stokd aww im sorry happened dont mind asking', 'sad wont get see fabulous kate thomas perform ny', 'massive hedache frm last night', 'oh crap lost last episode gg', 'elhafiz rewarded good deeds choose study says something youdamn mine say', 'officialnjonas difficult nickhaha think donÃ¯Â¿Â½t speak poison ivyhope great day', 'marcu haha im taking carry bag stuff need lift airport though hehe plane night', 'missjia ya eyes side damn time might miss looking grumpy ass', 'whats worse hiccups hiccups trying eat', 'paulaabdul yayy sounds fun', 'loving sunshine', 'wake hrs take thest part english regentslovely', 'coonawarrak fun', 'met another vegetarian', 'callmewetwetlol awwur sweeet candy im ona special breakfast diet days im sad bout kno u hold downlol', 'weadoreniley awhh well might big deal love youu', 'wakey wakey tired long day ahead need breakfast eat', 'lauash thats old haha loves', 'man gone im still working gonna fuck sleep pattern rest week', 'thebolce yup super dunno maybe dont', 'work half hour', 'ryt back got eat', 'jessdalylol haha loves day', 'thunder', 'sunlight sunshine sooogooood', 'mattz admits teh clumsy', 'miss bestfriends one month holiday', 'heading work train reading book romans amp listening indie rock', 'tallib thank much keep spreading trlove', 'alright everybody tomorrow im crossthailand bike trip back midjuly laptopphone please dont email', 'feeling drained today could something saturdays stag night im sure dont really remember', 'ilovecolbyo heyhow yer exam hope itwas fine', 'happy mileys surprise guest storm lvatt beautiful song lt', 'Ã¢Â\\x99Â« thank kind ff shout hunt u later lets tweet public kelis public Ã¢Â\\x99Â« httpblipfmqdk', 'bbllet count begin hrs go', 'need sims three ahh pete wentz birthday yday every sims addition ten years age bless h love', 'danadearmond aside humidity bad busier days gone though', 'sarahelizbeth still think get matching hair cuts like bad id get fired', 'melissaox oh im laughing sipping marg', 'worry noone got one next question starts minute get thinking caps', 'live air st stuff studiobfmcom text nz phone', 'probably one time see jorm kiv tonight', 'nooooooooooooooooo david beating tom httpbitlyvwvh', 'jordie oh noes mega walk tomorrow', 'chelseanico pink pair look like theyd hurt someone got kicked face', 'bored kinda lonely hw work might get called cause im patio im really broke tho', 'slingback moving markham welcome neighborhood', 'yaaaaaaaaaaaaaaawn good morning tweeps', 'night museum', 'today supposed rain wtf luck', 'ok love twitter wish people wouldnt cryptic tweets ever', 'cing happen watch awesome fans', 'oooo song nearly short stack next yay', 'therealvinod cant require everyone pcs dont support system software itd worse forms', 'gnite twitter fam rubbin crystal ball celtics win go cant wait garnett miss u', 'jonstefaniak pistols dawn traditional duel straight barfight choice', 'good night im gonna rough morning see coming', 'beccas house havent weeks', 'moms making get offboo back tomorrow loveslove lots twitter familylove tilaaaaxoxoxo', 'misstaken get blue please mummy', 'myvanitybag yes le sigh', 'theblackpaw weeks exams finished', 'headed ikea get stuff nd officeyes im spread looking another quot apple cinema display', 'move phoenix pauval', 'sometimes want home cooked meal looks like take', 'cum play really love day today nasty adult fun', 'last day school day wast time going', 'playspymaster id appreciate getting beta slot frees thanks', 'youngnik got track cause make rain homie', 'misses roommate would go get ice cream go store middle night kuhn means', 'sharetharae hey hey', 'killed tehran yesterday httpeditioncnncomworldmeastiranelectionsprotestsindexhtml iranelection', 'frazerroberts really hope yn ill need ask tomorrow', 'listening bon iver windows vista media center new apt sunday', 'getting ready jonathan coulton paul storm atlanta hoping first mayquot jocorequests', 'one mv anymore', 'dennismartinez well found safeway davis jackson like minute walk great low calorie snapples', 'shaunr yep cant get access desktop without getting rid cant get thing boot mac os cd either', 'httptrimlznr meet spy released seriously valve consider making movie tf introduction videos', 'crusaders lead', 'im want go back sleep', 'im tired cant sleep im going put harry potter make popcorn', 'uggghh feel like hit train', 'gchahal definitely evil', 'passed jewelsmart got grade grader check httptwittergradercomjewelsmart', 'anjibee sorry hear ipod ever get see', 'angrya sounds like fun miss camping none friends', 'emma sulking think feel losing fb amp bebo one night', 'glennbookingbug problem rush enjoy sunday', 'mollydotcom came sleep', 'warrenyip shoulda told u watch itaint great didnt get shabu fix weekend', 'musicistheheart uhm im tryin download jordins ep chris browns new song really cant dload zshare', 'sleep damn beds emptybritni aaaand hubbs ivandollaz arent', 'officialtila omg enough get back regular state mind miss pow bam tile stop talkin two', 'diva cut hair httptwitgoocomvsi', 'stinemariell quality bad printing remember correct description bad', 'crushing hard sexy sexy puerto rican oh talk phone joy', 'done bump back bed seemingly unable muster energy get sundays great', 'correction moar purdy wimmenz', 'oh didnt opps sorry say damn lil ol', 'holy toledo headache', 'garychristensen im', 'flylady well guess better get franny go work still sleepy oh well one week', 'told best husband whole wide world', 'really hates totally messing new moon favorite book', 'danielstancil would love photography workshop im always humble beginner much', 'miss travis pathetic true', 'everyone lthttpwhopoopedorggt', 'ugly betty back channel th june', 'cjoracer sorry many problems', 'kristwhy love movie couchie even crying haha', 'kthxilyxxx oh careful haha knew would', 'took hammock back got chair big hanging dogs car getting fixed costs pretty penny', 'aqualand today enjoying last days spain', 'news zambia trip delayed till maybe august find bright side easy enough know oh well august', 'didnt realize miserable long term use uncomfortable bed make life maybe w hotel bed go sale', 'ipenginbrijhe hey verwon block', 'today jbs movie party last night friends great haha', 'im really looking forward week', 'pretty certain pics prefilmingrolling also pretty sure wearing clothes shoes jacket etc', 'calumvs thanks make clear storms terrify', 'love show work already yeyyyy', 'finished church go bike ride cousins nice day xo', 'oh im cabin theyre youngest campers going partay', 'minute gap service morning due additional buses getting stuck coming routes looking', 'thenewbnb lol thats one used mallu words crazytwism also affectionately referred shavam', 'chriskettle check course fly thursday la first sf sunday', 'goodmorning twitter world getting phone today thank lord dying last night knowing receiving certain texts', 'francismata within mi radius san jose google facebook ebay yahoo hp intel cisco adobe amd yet ca broke', 'gabbler well charming man', 'crossbo thats one bloody hell took week still got half gave end', 'please dont leave tevez rather dump berbatov honest lazy player mil tag httptinyurlcomoddnpu via mufcnews', 'jaeone would little one wasnt asleep doesnt help would', 'yeah boring like speak english cool', 'phone palm trying find whats wrong phone', 'visualheart another purse need see photos', 'oops doesnt fame doesnt fortune oops itsuck ive known', 'rottingorange following best hour friendfail saying', 'thank affiliatetips sirkeystone reneebarronmn course twitters favourite clown theclown ff mentions', 'well getting ready gonna see movie friends lt', 'amalee ha yeah really weird movie amp character creepy reason still like lolgo see upsuper funny', 'afinefrenzy enjoy talk electronics', 'awesome plan ai concert trip around cooks de concert goes schedules concert dc day ill fl idol', 'wunders wen life strt improving including love life', 'lakeerieartists sure thing im sending note bonnie right', 'lrman peanut head gonna use skittle joke cant', 'sxxxh want coffee imma go tomorrow omg wanna go booklovers place canno albany hwy love books coincidence', 'anyone want help girl sign front words thanks', 'audaciaray debaucheddiva tried text got error', 'nude sunbathing doesnt work well u neighbors', 'kaotickonfuzion glad someone kno talk', 'go finance job columbus', 'wow tonight gonna one hell night fuck ya bring', 'waiting hampm shoes', 'cant wait c new alice wonderland movie staring n johnny depp bad dont clue comes', 'like said', 'dogtweeter thank', 'radioalexander saw sat talked sunday im bad son', 'alrady thank kind words really appreciated', 'annoyed laptops ebay include ms office photoshop actually unlicensed versions warezcopies asks seller', 'dec sadly brass mahogany thats nice thought steampunkd nas chinese', 'see letter', 'saddest fucking picture ever seen httpitinypiccomjbqvdfpng', 'waiting till monday science gcse exam worth', 'im going help mums shitty school production thing cliffs gunna suck arse although new mate scott roach gna thr', 'donniesbabe sorry knew someone know dont', 'huer went sleep left alone anyway still love haha', 'miss puppy', 'emmy hey im fine thanks day wonderful lt hope fun school arts right thx photo', 'please vote blog takes click httpbitlymplzi thanks votes amp climbing vote vote vote', 'sun sky gunna glorious day pur urself coffee vote tommcfly httpbitlyvwvh', 'captainskyhawk sorry lol facebook reminded tho think able person first', 'waiting michelle wake check vegas', 'wanna watch haha sterling knight cute', 'dont feel good theres noone else keep eye group im one', 'feels really ill annoying man', 'angel tbff lonely without', 'bubble bath', 'richyross sheets climb way bed singing melodies see beauty eyes closed fancy', 'quotif triangle could speak would say god eminently triangularquot spinoza', 'wash farfsgirl anything get week didnt mean drink although could use bellini desk', 'csquaredsmiles twatlight loool know relate rain haha thats wanna move england always cold', 'hangover yay lol ok goin work happy mothers day moms great day', 'seriously think things wrong eyes really eye doctor please', 'think ill eat ice cream', 'hollywills wished cud signin', 'lisa left building almost meet old friend long walk truly little things make happy', 'dont wanna go home bags packed amp go sleep cos early flight morning gonna miss place', 'calbo fine talk food long throw words quotvegemitequot quottim tamsquot every', 'member quotthe spider slayerquot well forget lost touch let daddy long leg get away', 'johnhlynn let upload pic dont one pc', 'feel like going sick good lots things tomorrow', 'im watching terminator tscc striped uk tv much better dollhouse miss people show', 'cb hey crystal za bongo', 'dude stinky hard shower cast', 'hate didnt watch weather day nice got car washed amp bout rain', 'days lines vines trying times comes', 'nice moms day moms smile nnniiiccceee watchin american gangster high u kno', 'beastlyemo hello', 'taking best friend doctor bella obviously', 'missing brother day would thbday luv u bro miss u terribly sad', 'need girls', 'buying miles tomorrow cant wait put new spot', 'hilholla u laughin imma hold vegas bust', 'beckamcfly yeaaah alright wonder sexy people going tomorro', 'melissapwns peace sign better fucking head knod got nate', 'work sleepy time stoked bahamas weds tonya', 'nickig teaching san fran rocked women santa clara fab ill tweeting tips love wmt reminders', 'know service haha camping much fun wish food course', 'burntbacon trisha judging last night loads fun sig taus best', 'morning world lovely day', 'jovijonas lol like big brother', 'noooooooooooo pinged im lookin ur soo mean sed pingin u ping im gonna b stronghow turn flashin light', 'kidddies pool one time take adrien airport httpmypictmexhl', 'louisabouwer hate able breathe like itll prolly mean steroids', 'helenyipp knoww time real revision', 'morning bugsvery sickno skewl todayand cancelled plans weekend happybut got peb', 'dogcrazy know legs smart', 'sp proud mr lil disappointed wont life amp times carless', 'come cant upload pic hhhmm night night ever x', 'luvn new soft pink laceyooopoooplt', 'trying upload photos fb keeps failing httpplurkcompxcdv', 'painted toe nails black', 'exciting times get tube ticket free', 'downstairs watching movie im telling one proper geeky love', 'oh still annoyed cant seem find swedish tv air tonys', 'sunshine loooolll wondering whooo hell called back busyyyy whats love', 'ljv believe u babe bring cd samples music dnt access internet place cabel acting', 'need vacation', 'fellowshipofone youre saying youre biased towards murray', 'djaaries much whats poppin whitchu', 'goodnight love sleeping cuz amazing dreams', 'atuarre yeah cant cut back friday nights pub though id go crazy sat home everyday', 'dremin depressing kind ive found ton glitches', 'dafark perhaps theyre definitely limited number zs catch', 'mnrizal script utk slideshow image sok aja cek linknya kewl pokoknya mah hehe', 'darn taken hope wasnt weeks hawaii cuz like whole video', 'lienaun must louis vuitton reebokin drink fresca', 'finished great convo im ready crash', 'agt yeah developing sattilite ones sure reach shores soon enough', 'mitchtwiz amphave limited edition weebles collection confiscated youhavebeenwarned zhu ni jin tian yu kuai nice day', 'damn wasnt supposed apostrophe', 'saving stuff backup outta cooked week must say ampfather aint bad teamed', 'going home', 'mattlepub still waiting looked manual update sounded little risky side best improvement', 'thenx dont cry everythings gonna okay', 'crushing amazing boy', 'rgraham father shouting remain remain remain daughter sad', 'huttriver thanks follow nz days', 'head hurts right behind eyes', 'fantaaaastic back home homework', 'good morning', 'fav persons going travel france ill miss much cant find words describe much love sad', 'loved loved loved taylor swift tonight taylorswif awesome thanks performing', 'detroit scored', 'believinginme claraa porqe te conectas miss twin', 'im bummed dollar seats wwe bash sold dont want pay dollars seats guess ill keep searching', 'tjking inigo montoya patinkins quotaccentquot made tough understand hhrs', 'moonfrye believed people tv could see tooand includes', 'feeling really lonelyyy', 'wanna home', 'twiexaminer hey heard came back way back cannes btw im resse', 'selenagomez ftsk shes lady httptinyurlcomcgtgwk dedication demi really hope like', 'wat tweets im board', 'n korea rumored aim missile toward hawaii around th july', 'confused', 'thepastweown youre twat guess means im twat get tweets phone park opens want rainmore', 'work wearing dress pants polo b ball shoes combo hey thats', 'oh thought today wednesday wait two days lakers', 'thanks followfriday tips countryvicar liturgy', 'love jackie', 'find friends twitter boring', 'going burning midnight oil tonight much please praying friends mom hospital', 'daniel jealous camera', 'crap realized fathers day days away still havent bought gift', 'oksmiling ear ear hahaha', 'subzero oi whats care wondering whats x', 'hanging hannah go clean', 'exhausted brutal headache', 'twilight', 'karen go job hunting', 'kicked body parts edge regened mwahahahahahahahah', 'going bed', 'obviouslybrown forgot order chicken joy fail', 'ate fish chips two days row uh nuh', 'hoping understand said afternoon must outstanding rather well pressure', 'childsplayx btw know gave shit bag stuff make sticker chart waiting room', 'mileycyrus like paparazzi lady gaga look video made httpbitlyfgff', 'sherry aaaaaaahhh want wine tomorrow', 'aramis mikeant im haterjust fan since grandfather isnt rep', 'thecraigmorris reduced microwavey stuff dont oven id love ocean pie', 'momamiacl welcome moma twitter', 'drtana amen sister im getting requests bacon blueberry french toast one show today catch gone', 'katiecain gahh yahh like last week sucks im getting annoyed ill msn keeps crashing laptop gahhhh', 'id rather wait whole site finished', 'support dhoni men bounce back', 'omfg know whole blue topshop dress incident mum went back got dress one size bigger yay', 'karenbayley hey thought might follow thats okay x x', 'croatianfire httptwitpiccomcgv nice', 'added havent followed back cant twitter ratio get followers add', 'waittiin trev give call havent talked dayyy', 'sooo much fun today avital', 'karasalazar im sorry im watching movie bily ray cyrus', 'trinityanderson glad youre great thanks winks', 'addicted boys flowers', 'jesthestar fun took like champ', 'ramsackchris lmaol funny got people hating video thought cool', 'finished essay watched taken ate chinese food new restaurant yay', 'callumhawkes hehegreat pic man maybe someone key hahahaha', 'coming anymore well see elephants another time', 'intensively bored frustrated silver doesnt rhyme anything thinks getting writers block good', 'hobbinator iquotll totally keep posted honey hes ivs theyre bloodwork probably pumping tummygiving meds', 'usually golden nugget fortune cowpatch calamity get get hands dirty', 'soooooo tiredddd need convince ahleah make food jeffpeachman thanks best friend', 'took new purple pretties combed carefully put medicine chest miss already', 'tenomk get followers day using', 'vijay since jan brkb nasdaq sampp dow bse larsen time start flowing india', 'issacbenavram grateful everyone life blessings love every one gt love', 'allanhowls know', 'good morning jobangels happy tuesday welcome new members appreciate joining cause help amp helped', 'goodmorning im happy im updating twitter new style pink yellow great', 'devon pissed car seat way home', 'smileychic hot fudge brownie sundae would even betteri never got around anything wasnt commited regret', 'katiekurruption hello think said hello talking shaye msn lol anywhos hows', 'oh sophie slips outside top heartbreak makes dancer indeed weeps httptrimpp', 'getting ready school still half asleep three days', 'last day valley view today', 'kims hoe ampmy elbow hurts', 'yummyyeimi im coastin moment shld simultaneously spark somethn see elevates fastest', 'home work hours im work number', 'icobee kailangan ko pa sabihin im hurt haha joke oh come gt mamaya may scandal ka na rin ha haha lets go aimee', 'sytycd guy max girl gotta wait see', 'enjoyed first many mothers day come family hope everyone else enjoyed mothers day well muahzgood nite', 'wished gues aint gonna happen ily', 'memysfandi good day enjoy lt', 'cant believe mini sd adapter working cant transfer games', 'gtvjohn thank', 'theck days rows away attractive lead singer band exists right', 'tweetdeck keeps crashing', 'banksyart saw book sunday couldnt resist adding rofl back cover quote due legal obligs ill say', 'njaywiffle youre first thing made smile today thank', 'ssedro thanks feedback well look try improve starhub experience', 'lottimorgan today soon', 'smdarie ahhh miss dq night without youit broke heart bit', 'go california aunt drives monterey bay im going hollywood least day', 'shitty weazer', 'seriously katekendall majority people say thumbs smiley well say thats', 'sick good school though watching gilmore girls love show', 'listening quotfly mequot jonas brothers one new songs new album follow jonasbrothers', 'feeling alittle weather mom left go back home south africa', 'happened missed flight almost pups know im leaving wont', 'okay wtf follows going go private google spam twitter ideas', 'weneedjones offspring youre gonna go far kid', 'sbroqks thats daddys day plans man brought earth', 'bored one drive anywhere', 'danadazed tthhaannkk dear', 'working volleyball game tonitefirst one summer season cant wait', 'cyntalist dont tell ur back naturals pigging btw jackfruit stuff almost thanks', 'skype working cant talk mummy', 'facemafia oh mannn tring convince shari dennys woulda go damn', 'nkotbvalentine dont okay dont care shouldnt worried talkin', 'ohhh like jasonsco thats bad wait result til freak meanwe saved likenot bad', 'andypow presumably hes twitter', 'see snow outside im sick ohios weather years till move palm springs camissing weather', 'went watch rup today pfft district league pathetic', 'today one unfocused days every tiny tap scratch thud annoys hell wanna go home', 'eatinqq Ã®Â± beef patty', 'headed home early flight delayed', 'jalove hope enjoyed cruise may rest weekend goes well better', 'scottish football cup final motorways around glasgow busy need alternative route wheres satnav', 'homework party bill rays lifetime movie liftime lover', 'gabanti yay didnt answer email', 'got tattoo', 'got home work nice day start work nice people nice workload im sarcastic', 'tommyreilly swell u comin back anytime soon', 'learan went morgan bears posted pics anywhere w bkgrnd done cant remember either way youll see sat', 'bklynkisses haaycatherine great theyre getting airplay song', 'dont wanna study anymoooore hum bad conscience im sitting around nothing', 'dannymcfly amazing usual x loveu xx', 'woke today really missing friends stockholm', 'hope seb got moved alright barley speak wouldnt know moving wasnt rosa thanks seb', 'church best followed delicious lunch afternoon shopping mom', 'horrible watch bad last tuesday night arsenal', 'love receiving packages post', 'httptwitpiccomqmq got close woohoo liam', 'agardina excellent make sure always crackem half colin go tx year anniv', 'got text georgiq theatre burned today im heartbroken', 'xoshannon sigh think slow twitter wouldnt refresh couldnt see said go', 'bealive', 'cant get sound working th tweet', 'mmmbaileys lol know good eh ha ha xx', 'catcallmusic last night dreamt drunkenly got really bad tattoos cards lizards chinese symbols legs', 'ahhhhhhhhhhhhhhhh forgot chapstick sad boo', 'bedgot four shifts row starting tomorrow', 'elliotwarden safe travels next leg trip elliot sorry didnt get see', 'kekaontherocks account gone list well mention hacked couple days back', 'chrissybeeehind chrissy game packed work', 'man vs wild hosts another ad quotland lostquot crossover isnt closed captioned thats bad trexified', 'really miss show pushing daisies nbc cute show amp never deserved cancelleddamn u writer strikes', 'dosed red wine last night went partying till abou three feel il chubbs gna wana go gym hour', 'cessational id mail one cess might taste upon arrival', 'went buy camera tonight van battery died instead awesome dinner great friends', 'stenluide feet shoot', 'sharontweet faye marks secret something already know wouldnt tease us would', 'im feeling kinda sad dont think im gonna get text fault', 'shes cute hope let sing', 'get followers dont get email notification block horny kitty one time grrr', 'hate youre tweeting cant hear mcfly', 'hoping sox game doesnt get rained', 'whe closeeeeeee cmon lakerssss', 'billyraycyrus please follow would honored follow ive trying get miley brandy follow', 'watching mayn Ã¤Â¸Â\\xadÃ¥Â³Â¶Ã¦Â\\x84Â\\x9b lives since im macross frontier stuff sheryl amp ranka concert ax please', 'kewlmom bummer didnt really pay attention new tour book would bought oneoh well sunday', 'reallllllly wants participate lamars summer dance camp school', 'imbryan ugh doesnt even come tennessee go like hours lol', 'james thinks twitter stupid', 'holy crap im achey', 'awesome scifi original movie bone eater sure classic', 'logos nope computer right need power supply im useing old office machine', 'th update yeah im pretty good twitter thing', 'djwhutitdew sheesh harsh words', 'cant wait jeffs grad party', 'getting ready work im tired', 'williegomez heard brit fell tonight get naked ok im sorry didnt say hi right front', 'rosellyanna hey welcome back', 'bi really hated life mars strange cos really like seemed take bit seriously']\n",
      "Cluster 8:\n",
      "['currently playing sims im boycotting sims find sims drop dead ugly', 'ughh reaction anaesthetic filling dentist feeling poorly', 'donniedoll jordandoll morning afternoon best dolls hugs', 'good day everyone working big projects youtube views keep freezing really sux guess well never see million', 'jonasbrothers st nighttt well morning', 'yr old son better putting together lego models', 'jlanier went game watching nyc briliant header usa usa usa', 'morning people lot work today']\n",
      "Cluster 0:\n",
      "['happy mothers day', 'happy mothers day', 'sreejith least got karteekj create account', 'miss much know']\n",
      "Cluster 9:\n",
      "['well thank u baby', 'vintagegoodness thank much', 'thebadcat thank', 'jayfk thank u', 'rip mouth', 'mennard youre welcomemost enjoyable read x']\n",
      "Cluster 11:\n",
      "['class miss already', 'class right', 'rumlover empty rum barrel sad rum barrel shakes head horror horror', 'quotcome fly meee lets fly lets flyyyyyyyyy pack lets fly awaaayquot fs jeez miss traveling much wish tour Ã¢Â\\x99Â¥', 'raymarie oh idea smelled like fruit loops']\n",
      "Cluster 1:\n",
      "['getting work', 'back work', 'still work', 'work', 'stuck work', 'crying cause saw face poor face', 'saw little baby bruises makes sad tiffanydawn', 'thomasrdotorg loves pulling archived stuff youre bigger nwat anyways', 'ahh get ill back morning ahh everyones gunna tweeting haha night xx', 'fnl really fun', 'ameliaghostie good even better stalking boo']\n",
      "Cluster 3:\n",
      "['bored nothing tv cant think anything else', 'bored', 'im bored rather tired', 'way look jess bamboozled today rainy', 'fairls ugghheverything go wrong goes wrong countryi havent paid']\n",
      "Cluster 12:\n",
      "['cant afford see angels demons watched free httptrimlvbu', 'ellaeske thank']\n",
      "Cluster 2:\n",
      "['raining', 'raining satara road', 'bbq party tonight raining', 'ebassman best friends world blockheads couldnt agree', 'watching nemecek go computer fun lol keed norms fun', 'ericomanga lordship well fine morning']\n",
      "Cluster 6:\n",
      "['life good', 'life awesome right', 'life good']\n",
      "Cluster 5:\n",
      "['need send emails contacts check emailunlimited http', 'need send emails contacts check emailunlimited http']\n",
      "Cluster 4:\n",
      "['good morning', 'nessanguyen first batch died overheating survived im growing second batchhope better luck', 'driving airport', 'thebeerrun lol someone asked cheba hut day ive never tho', 'thisislilwayne really dont think easy picktheyre good cant wait album hate wait', 'theres point awake tonight sleep well pleasant relaxing weekend']\n"
     ]
    }
   ],
   "source": [
    "# Select the first and last 2000 rows from X_train\n",
    "X_train_reduced = pd.concat([X_train.iloc[:2000], X_train.iloc[-2000:]])\n",
    "\n",
    "# Vectorize the reduced text data\n",
    "vectorizer = TfidfVectorizer(stop_words='english')\n",
    "X_vec = vectorizer.fit_transform(X_train_reduced)\n",
    "\n",
    "\n",
    "# Perform clustering using Affinity Propagation\n",
    "af = AffinityPropagation().fit(X_vec)\n",
    "\n",
    "# Get the cluster labels\n",
    "cluster_labels = af.labels_\n",
    "\n",
    "# Print the number of clusters\n",
    "n_clusters = len(set(cluster_labels))\n",
    "print('Number of clusters: %d' % n_clusters)\n",
    "\n",
    "# Print the clusters and their associated text data\n",
    "clusters = {}\n",
    "for i, label in enumerate(cluster_labels):\n",
    "    if label not in clusters:\n",
    "        clusters[label] = []\n",
    "    clusters[label].append(X_train.iloc[i])\n",
    "for cluster in clusters:\n",
    "    print('Cluster %d:' % cluster)\n",
    "    print(clusters[cluster])"
   ]
  },
  {
   "cell_type": "code",
   "execution_count": 9,
   "metadata": {},
   "outputs": [
    {
     "name": "stdout",
     "output_type": "stream",
     "text": [
      "Silhouette score: -0.029\n",
      "Calinski-Harabasz score: 3.274\n",
      "Davies-Bouldin score: 10.860\n"
     ]
    }
   ],
   "source": [
    "# Compute the silhouette score\n",
    "silhouette_score = metrics.silhouette_score(X_vec, af.labels_, metric='cosine')\n",
    "print('Silhouette score: %.3f' % silhouette_score)\n",
    "\n",
    "# Compute the Calinski-Harabasz score\n",
    "ch_score = metrics.calinski_harabasz_score(X_vec.toarray(), af.labels_)\n",
    "print('Calinski-Harabasz score: %.3f' % ch_score)\n",
    "\n",
    "# Compute the Davies-Bouldin score\n",
    "db_score = metrics.davies_bouldin_score(X_vec.toarray(), af.labels_)\n",
    "print('Davies-Bouldin score: %.3f' % db_score)"
   ]
  },
  {
   "cell_type": "code",
   "execution_count": null,
   "metadata": {},
   "outputs": [],
   "source": [
    "# Silhouette score: This score measures how similar an object is to its own cluster compared to other clusters. The score ranges from -1 to 1, where a score of 1 indicates that the object is very similar to its own cluster and very dissimilar to other clusters, while a score of -1 indicates the opposite. In your case, the silhouette score is -0.029, which is close to 0 and indicates that the clustering is not very good.\n",
    "\n",
    "# Calinski-Harabasz score: This score measures the ratio of between-cluster dispersion and within-cluster dispersion. A higher score indicates better clustering. In your case, the score is 3.274, which is low and indicates poor clustering.\n",
    "\n",
    "# Davies-Bouldin score: This score measures the average similarity between each cluster and its most similar cluster, taking into account the size of the clusters. A lower score indicates better clustering. In your case, the score is 10.860, which is high and indicates poor clustering.\n",
    "\n",
    "# Overall, based on these scores, it appears that the clustering algorithm is not performing very well on your data."
   ]
  },
  {
   "cell_type": "code",
   "execution_count": 4,
   "metadata": {},
   "outputs": [],
   "source": [
    "# Import the Necessary Dependencies\n",
    "\n",
    "# Data Manipulation\n",
    "import re ## regular expression operator\n",
    "import numpy as np\n",
    "import pandas as pd\n",
    "import string \n",
    "\n",
    "\n",
    "# plotting\n",
    "import seaborn as sns\n",
    "from wordcloud import WordCloud\n",
    "import matplotlib.pyplot as plt\n",
    "\n",
    "# Methods and stopwords text processing\n",
    "import nltk ## natural language toolkit\n",
    "from nltk.stem import WordNetLemmatizer\n",
    "import nltk\n",
    "from nltk.corpus import stopwords \n",
    "from nltk.tokenize import word_tokenize \n",
    "from nltk.stem import WordNetLemmatizer\n",
    "from sklearn.model_selection import train_test_split\n",
    "from sklearn.feature_extraction.text import TfidfVectorizer\n",
    "from nltk.tokenize import RegexpTokenizer\n",
    "\n",
    "\n",
    "# Machine Learning Libraries\n",
    "from sklearn.svm import LinearSVC\n",
    "from sklearn.naive_bayes import BernoulliNB\n",
    "from sklearn.linear_model import LogisticRegression\n",
    "from sklearn.metrics import confusion_matrix, classification_report\n",
    "from sklearn.metrics import accuracy_score\n",
    "from sklearn.utils import resample\n",
    "from sklearn.model_selection import train_test_split\n",
    "from sklearn.preprocessing import StandardScaler\n",
    "from sklearn.cluster import AffinityPropagation\n",
    "from sklearn.metrics.pairwise import cosine_similarity"
   ]
  },
  {
   "cell_type": "code",
   "execution_count": 5,
   "metadata": {},
   "outputs": [],
   "source": [
    "# Importing the dataset\n",
    "DATASET_COLUMNS=['target','ids','date','flag','user','text']\n",
    "DATASET_ENCODING = \"ISO-8859-1\"\n",
    "df_raw = pd.read_csv('twitter_data.csv', encoding=DATASET_ENCODING, names=DATASET_COLUMNS)\n",
    "\n",
    "#Exploratory Data Analysis\n",
    "df_raw.head()\n",
    "\n",
    "# Removing the unnecessary columns.\n",
    "df_raw = df_raw[['target','text']]\n",
    "\n",
    "# Storing data in lists.\n",
    "text, target = list(df_raw['text']), list(df_raw['target'])"
   ]
  },
  {
   "cell_type": "code",
   "execution_count": 6,
   "metadata": {},
   "outputs": [
    {
     "name": "stdout",
     "output_type": "stream",
     "text": [
      "length of data is 1600000\n"
     ]
    }
   ],
   "source": [
    "print('length of data is', len(df_raw))"
   ]
  },
  {
   "cell_type": "code",
   "execution_count": 7,
   "metadata": {},
   "outputs": [],
   "source": [
    "\n",
    "# Create subgroups based on the target column\n",
    "subgroups = df_raw['target'].astype(str)  # Convert the 'target' column to a string to ensure correct stratification\n",
    "\n",
    "# Specify the number of tweets you want to include in your final dataset for each subgroup\n",
    "#n_samples = 20000  # Replace with the desired number of tweets in each subgroup\n",
    "n_samples = 1000  # Replace with the desired number of tweets in each subgroup\n",
    "\n",
    "\n",
    "# Use train_test_split to do stratified sampling\n",
    "target0_df, _ = train_test_split(df_raw[subgroups == '0'], stratify=subgroups[subgroups == '0'], train_size=n_samples/len(df_raw[subgroups == '0']), random_state=42)\n",
    "target4_df, _ = train_test_split(df_raw[subgroups == '4'], stratify=subgroups[subgroups == '4'], train_size=n_samples/len(df_raw[subgroups == '4']), random_state=42)\n",
    "\n",
    "# Combine the two subgroups into a single dataframe\n",
    "df = pd.concat([target0_df, target4_df], ignore_index=True)\n",
    "\n",
    "# Save the sampled dataset\n",
    "df.to_csv('sampled_twitter_data.csv', index=False)"
   ]
  },
  {
   "cell_type": "code",
   "execution_count": 8,
   "metadata": {},
   "outputs": [
    {
     "name": "stdout",
     "output_type": "stream",
     "text": [
      "The new length of data is 2000\n"
     ]
    }
   ],
   "source": [
    "print('The new length of data is', len(df))"
   ]
  },
  {
   "cell_type": "code",
   "execution_count": 9,
   "metadata": {},
   "outputs": [
    {
     "name": "stdout",
     "output_type": "stream",
     "text": [
      "<class 'pandas.core.frame.DataFrame'>\n",
      "RangeIndex: 2000 entries, 0 to 1999\n",
      "Data columns (total 2 columns):\n",
      " #   Column  Non-Null Count  Dtype \n",
      "---  ------  --------------  ----- \n",
      " 0   target  2000 non-null   int64 \n",
      " 1   text    2000 non-null   object\n",
      "dtypes: int64(1), object(1)\n",
      "memory usage: 31.4+ KB\n"
     ]
    }
   ],
   "source": [
    "df.info()"
   ]
  },
  {
   "cell_type": "code",
   "execution_count": 10,
   "metadata": {},
   "outputs": [
    {
     "data": {
      "text/plain": [
       "target     int64\n",
       "text      object\n",
       "dtype: object"
      ]
     },
     "execution_count": 10,
     "metadata": {},
     "output_type": "execute_result"
    }
   ],
   "source": [
    "df.dtypes"
   ]
  },
  {
   "cell_type": "code",
   "execution_count": 11,
   "metadata": {},
   "outputs": [
    {
     "data": {
      "text/plain": [
       "0"
      ]
     },
     "execution_count": 11,
     "metadata": {},
     "output_type": "execute_result"
    }
   ],
   "source": [
    "#Checking for null values\n",
    "np.sum(df.isnull().any(axis=1))"
   ]
  },
  {
   "cell_type": "code",
   "execution_count": 12,
   "metadata": {},
   "outputs": [
    {
     "name": "stdout",
     "output_type": "stream",
     "text": [
      "Count of columns in the data is:   2\n",
      "Count of rows in the data is:   2000\n"
     ]
    }
   ],
   "source": [
    "#Rows and columns in the dataset\n",
    "print('Count of columns in the data is:  ', len(df.columns))\n",
    "print('Count of rows in the data is:  ', len(df))"
   ]
  },
  {
   "cell_type": "code",
   "execution_count": 13,
   "metadata": {},
   "outputs": [
    {
     "data": {
      "text/plain": [
       "array([0, 4], dtype=int64)"
      ]
     },
     "execution_count": 13,
     "metadata": {},
     "output_type": "execute_result"
    }
   ],
   "source": [
    "#Check unique target values\n",
    "df['target'].unique()"
   ]
  },
  {
   "cell_type": "code",
   "execution_count": 14,
   "metadata": {},
   "outputs": [
    {
     "data": {
      "text/plain": [
       "2"
      ]
     },
     "execution_count": 14,
     "metadata": {},
     "output_type": "execute_result"
    }
   ],
   "source": [
    "#Check the number of target values\n",
    "df['target'].nunique()"
   ]
  },
  {
   "cell_type": "code",
   "execution_count": 15,
   "metadata": {},
   "outputs": [
    {
     "data": {
      "text/plain": [
       "1995    @ThomasFritts I'm so jealous. Mountains are my...\n",
       "1996                       home. just a few more minutes \n",
       "1997    im getting the voyager for cheap  $50 baby! im...\n",
       "1998    @Nonicam that classic help desk response-turn ...\n",
       "1999    is chatting on facey with @JuliaBier and Matt ...\n",
       "Name: text, dtype: object"
      ]
     },
     "execution_count": 15,
     "metadata": {},
     "output_type": "execute_result"
    }
   ],
   "source": [
    "df['text'].tail()"
   ]
  },
  {
   "cell_type": "code",
   "execution_count": 16,
   "metadata": {},
   "outputs": [
    {
     "data": {
      "text/plain": [
       "1995    @thomasfritts i'm so jealous. mountains are my...\n",
       "1996                       home. just a few more minutes \n",
       "1997    im getting the voyager for cheap  $50 baby! im...\n",
       "1998    @nonicam that classic help desk response-turn ...\n",
       "1999    is chatting on facey with @juliabier and matt ...\n",
       "Name: text, dtype: object"
      ]
     },
     "execution_count": 16,
     "metadata": {},
     "output_type": "execute_result"
    }
   ],
   "source": [
    "# Convert all text to lowercase\n",
    "df['text'] = df['text'].str.lower()\n",
    "df['text'].tail()"
   ]
  },
  {
   "cell_type": "code",
   "execution_count": 17,
   "metadata": {},
   "outputs": [
    {
     "data": {
      "text/plain": [
       "1995    thomasfritts im so jealous mountains are my fa...\n",
       "1996                        home just a few more minutes \n",
       "1997    im getting the voyager for cheap  50 baby im s...\n",
       "1998    nonicam that classic help desk responseturn it...\n",
       "1999    is chatting on facey with juliabier and matt a...\n",
       "Name: text, dtype: object"
      ]
     },
     "execution_count": 17,
     "metadata": {},
     "output_type": "execute_result"
    }
   ],
   "source": [
    "#Cleaning and removing punctuations\n",
    "\n",
    "english_punctuations = string.punctuation\n",
    "punctuations_list = english_punctuations\n",
    "def cleaning_punctuations(text):\n",
    "    translator = str.maketrans('', '', punctuations_list)\n",
    "    return text.translate(translator)\n",
    "df['text']= df['text'].apply(lambda x: cleaning_punctuations(x))\n",
    "df['text'].tail()"
   ]
  },
  {
   "cell_type": "code",
   "execution_count": 18,
   "metadata": {},
   "outputs": [
    {
     "data": {
      "text/plain": [
       "1995    thomasfritts im so jealous mountains are my fa...\n",
       "1996                        home just a few more minutes \n",
       "1997    im getting the voyager for cheap  50 baby im s...\n",
       "1998    nonicam that classic help desk responseturn it...\n",
       "1999    is chatting on facey with juliabier and matt a...\n",
       "Name: text, dtype: object"
      ]
     },
     "execution_count": 18,
     "metadata": {},
     "output_type": "execute_result"
    }
   ],
   "source": [
    "#Cleaning and removing repeating characters\n",
    "\n",
    "def cleaning_repeating_char(text):\n",
    "    return re.sub(r'(.)1+', r'1', text)\n",
    "df['text'] = df['text'].apply(lambda x: cleaning_repeating_char(x))\n",
    "df['text'].tail()"
   ]
  },
  {
   "cell_type": "code",
   "execution_count": 19,
   "metadata": {},
   "outputs": [
    {
     "data": {
      "text/plain": [
       "1995    thomasfritts im so jealous mountains are my fa...\n",
       "1996                        home just a few more minutes \n",
       "1997    im getting the voyager for cheap  50 baby im s...\n",
       "1998    nonicam that classic help desk responseturn it...\n",
       "1999    is chatting on facey with juliabier and matt a...\n",
       "Name: text, dtype: object"
      ]
     },
     "execution_count": 19,
     "metadata": {},
     "output_type": "execute_result"
    }
   ],
   "source": [
    "#Cleaning and removing URLs\n",
    "\n",
    "def cleaning_URLs(data):\n",
    "    return re.sub('((www.[^s]+)|(https?://[^s]+))',' ',data)\n",
    "df['text'] = df['text'].apply(lambda x: cleaning_URLs(x))\n",
    "df['text'].tail()"
   ]
  },
  {
   "cell_type": "code",
   "execution_count": 20,
   "metadata": {},
   "outputs": [
    {
     "data": {
      "text/plain": [
       "1995    thomasfritts im so jealous mountains are my fa...\n",
       "1996                        home just a few more minutes \n",
       "1997    im getting the voyager for cheap   baby im so ...\n",
       "1998    nonicam that classic help desk responseturn it...\n",
       "1999    is chatting on facey with juliabier and matt a...\n",
       "Name: text, dtype: object"
      ]
     },
     "execution_count": 20,
     "metadata": {},
     "output_type": "execute_result"
    }
   ],
   "source": [
    "#Cleaning and removing numeric numbers\n",
    "\n",
    "def cleaning_numbers(data):\n",
    "    return re.sub('[0-9]+', '', data)\n",
    "df['text'] = df['text'].apply(lambda x: cleaning_numbers(x))\n",
    "df['text'].tail()"
   ]
  },
  {
   "cell_type": "code",
   "execution_count": 21,
   "metadata": {},
   "outputs": [
    {
     "data": {
      "text/plain": [
       "1995    thomasfritts im so jealous mountains are my fa...\n",
       "1996                        home just a few more minutes \n",
       "1997    im getting the voyager for cheap   baby im so ...\n",
       "1998    nonicam that classic help desk responseturn it...\n",
       "1999    is chatting on facey with juliabier and matt a...\n",
       "Name: text, dtype: object"
      ]
     },
     "execution_count": 21,
     "metadata": {},
     "output_type": "execute_result"
    }
   ],
   "source": [
    "# Removing # and @ characters from tweets and other symbols\n",
    "\n",
    "def cleaning_characters(data):\n",
    "    return re.sub(r'\\@\\w+|\\#|\\'|\\\"|\\´|\\`|\\,','', data)\n",
    "df['text'] = df['text'].apply(lambda x: cleaning_characters(x))\n",
    "df['text'].tail()\n"
   ]
  },
  {
   "cell_type": "code",
   "execution_count": 22,
   "metadata": {},
   "outputs": [
    {
     "name": "stderr",
     "output_type": "stream",
     "text": [
      "[nltk_data] Downloading package stopwords to\n",
      "[nltk_data]     C:\\Users\\Bita\\AppData\\Roaming\\nltk_data...\n",
      "[nltk_data]   Package stopwords is already up-to-date!\n"
     ]
    }
   ],
   "source": [
    "#Defining set containing all stopwords in English.\n",
    "\n",
    "nltk.download ('stopwords')\n",
    "stop_words = set(stopwords.words( 'english'))"
   ]
  },
  {
   "cell_type": "code",
   "execution_count": 23,
   "metadata": {},
   "outputs": [
    {
     "data": {
      "text/plain": [
       "1995    thomasfritts im jealous mountains favorite tol...\n",
       "1996                                         home minutes\n",
       "1997             im getting voyager cheap baby im excited\n",
       "1998    nonicam classic help desk responseturn turn gl...\n",
       "1999                  chatting facey juliabier matt maine\n",
       "Name: text, dtype: object"
      ]
     },
     "execution_count": 23,
     "metadata": {},
     "output_type": "execute_result"
    }
   ],
   "source": [
    "#Cleaning and removing the above stop words list from the tweet text\n",
    "\n",
    "def cleaning_stopwords(text):\n",
    "    return \" \".join([word for word in str(text).split() if word not in stop_words])\n",
    "df['text'] = df['text'].apply(lambda text: cleaning_stopwords(text))\n",
    "df['text'].tail()\n"
   ]
  },
  {
   "cell_type": "code",
   "execution_count": 24,
   "metadata": {},
   "outputs": [
    {
     "data": {
      "text/html": [
       "<div>\n",
       "<style scoped>\n",
       "    .dataframe tbody tr th:only-of-type {\n",
       "        vertical-align: middle;\n",
       "    }\n",
       "\n",
       "    .dataframe tbody tr th {\n",
       "        vertical-align: top;\n",
       "    }\n",
       "\n",
       "    .dataframe thead th {\n",
       "        text-align: right;\n",
       "    }\n",
       "</style>\n",
       "<table border=\"1\" class=\"dataframe\">\n",
       "  <thead>\n",
       "    <tr style=\"text-align: right;\">\n",
       "      <th></th>\n",
       "      <th>target</th>\n",
       "      <th>text</th>\n",
       "      <th>word count</th>\n",
       "    </tr>\n",
       "  </thead>\n",
       "  <tbody>\n",
       "    <tr>\n",
       "      <th>1995</th>\n",
       "      <td>4</td>\n",
       "      <td>thomasfritts im jealous mountains favorite tol...</td>\n",
       "      <td>8</td>\n",
       "    </tr>\n",
       "    <tr>\n",
       "      <th>1996</th>\n",
       "      <td>4</td>\n",
       "      <td>home minutes</td>\n",
       "      <td>2</td>\n",
       "    </tr>\n",
       "    <tr>\n",
       "      <th>1997</th>\n",
       "      <td>4</td>\n",
       "      <td>im getting voyager cheap baby im excited</td>\n",
       "      <td>7</td>\n",
       "    </tr>\n",
       "    <tr>\n",
       "      <th>1998</th>\n",
       "      <td>4</td>\n",
       "      <td>nonicam classic help desk responseturn turn gl...</td>\n",
       "      <td>8</td>\n",
       "    </tr>\n",
       "    <tr>\n",
       "      <th>1999</th>\n",
       "      <td>4</td>\n",
       "      <td>chatting facey juliabier matt maine</td>\n",
       "      <td>5</td>\n",
       "    </tr>\n",
       "  </tbody>\n",
       "</table>\n",
       "</div>"
      ],
      "text/plain": [
       "      target                                               text  word count\n",
       "1995       4  thomasfritts im jealous mountains favorite tol...           8\n",
       "1996       4                                       home minutes           2\n",
       "1997       4           im getting voyager cheap baby im excited           7\n",
       "1998       4  nonicam classic help desk responseturn turn gl...           8\n",
       "1999       4                chatting facey juliabier matt maine           5"
      ]
     },
     "execution_count": 24,
     "metadata": {},
     "output_type": "execute_result"
    }
   ],
   "source": [
    "# Count the words used per user\n",
    "\n",
    "def word_count(sentence):\n",
    "    return len(sentence.split())\n",
    "    \n",
    "df['word count'] = df['text'].apply(word_count)\n",
    "df.tail()"
   ]
  },
  {
   "cell_type": "code",
   "execution_count": 25,
   "metadata": {},
   "outputs": [
    {
     "data": {
      "text/plain": [
       "1995    thomasfritts im jealous mountains favorite tol...\n",
       "1996                                         home minutes\n",
       "1997             im getting voyager cheap baby im excited\n",
       "1998    nonicam classic help desk responseturn turn gl...\n",
       "1999                  chatting facey juliabier matt maine\n",
       "Name: text, dtype: object"
      ]
     },
     "execution_count": 25,
     "metadata": {},
     "output_type": "execute_result"
    }
   ],
   "source": [
    "# Stemming process\n",
    "\n",
    "st = nltk.PorterStemmer()\n",
    "def stemming_process(data):\n",
    "    text = [st.stem(word) for word in data]\n",
    "    return data\n",
    "df['text']= df['text'].apply(lambda x: stemming_process(x))\n",
    "df['text'].tail()\n",
    "\n"
   ]
  },
  {
   "cell_type": "code",
   "execution_count": 26,
   "metadata": {},
   "outputs": [
    {
     "data": {
      "text/plain": [
       "1995    thomasfritts im jealous mountains favorite tol...\n",
       "1996                                         home minutes\n",
       "1997             im getting voyager cheap baby im excited\n",
       "1998    nonicam classic help desk responseturn turn gl...\n",
       "1999                  chatting facey juliabier matt maine\n",
       "Name: text, dtype: object"
      ]
     },
     "execution_count": 26,
     "metadata": {},
     "output_type": "execute_result"
    }
   ],
   "source": [
    "# Lemmatizer Proccess\n",
    "from nltk.stem import WordNetLemmatizer\n",
    "lm = nltk.WordNetLemmatizer()\n",
    "def lemmatizer_on_text(data):\n",
    "    text = [lm.lemmatize(word) for word in data]\n",
    "    return data\n",
    "df['text'] = df['text'].apply(lambda x: lemmatizer_on_text(x))\n",
    "df['text'].tail()"
   ]
  },
  {
   "cell_type": "code",
   "execution_count": 27,
   "metadata": {},
   "outputs": [],
   "source": [
    "# Separating positive and negative tweets\n",
    "\n",
    "data_pos = df[df['target'] == 4]\n",
    "data_neg = df[df['target'] == 0]\n",
    "df = pd.concat([data_neg, data_pos])\n",
    "data_neg.tail()\n",
    "\n",
    "# Save the sampled dataset\n",
    "df.to_csv('sampled_twitter_data.csv', index=False)\n"
   ]
  },
  {
   "cell_type": "code",
   "execution_count": 28,
   "metadata": {},
   "outputs": [
    {
     "data": {
      "text/html": [
       "<div>\n",
       "<style scoped>\n",
       "    .dataframe tbody tr th:only-of-type {\n",
       "        vertical-align: middle;\n",
       "    }\n",
       "\n",
       "    .dataframe tbody tr th {\n",
       "        vertical-align: top;\n",
       "    }\n",
       "\n",
       "    .dataframe thead th {\n",
       "        text-align: right;\n",
       "    }\n",
       "</style>\n",
       "<table border=\"1\" class=\"dataframe\">\n",
       "  <thead>\n",
       "    <tr style=\"text-align: right;\">\n",
       "      <th></th>\n",
       "      <th>target</th>\n",
       "      <th>text</th>\n",
       "      <th>word count</th>\n",
       "    </tr>\n",
       "  </thead>\n",
       "  <tbody>\n",
       "    <tr>\n",
       "      <th>1995</th>\n",
       "      <td>4</td>\n",
       "      <td>thomasfritts im jealous mountains favorite tol...</td>\n",
       "      <td>8</td>\n",
       "    </tr>\n",
       "    <tr>\n",
       "      <th>1996</th>\n",
       "      <td>4</td>\n",
       "      <td>home minutes</td>\n",
       "      <td>2</td>\n",
       "    </tr>\n",
       "    <tr>\n",
       "      <th>1997</th>\n",
       "      <td>4</td>\n",
       "      <td>im getting voyager cheap baby im excited</td>\n",
       "      <td>7</td>\n",
       "    </tr>\n",
       "    <tr>\n",
       "      <th>1998</th>\n",
       "      <td>4</td>\n",
       "      <td>nonicam classic help desk responseturn turn gl...</td>\n",
       "      <td>8</td>\n",
       "    </tr>\n",
       "    <tr>\n",
       "      <th>1999</th>\n",
       "      <td>4</td>\n",
       "      <td>chatting facey juliabier matt maine</td>\n",
       "      <td>5</td>\n",
       "    </tr>\n",
       "  </tbody>\n",
       "</table>\n",
       "</div>"
      ],
      "text/plain": [
       "      target                                               text  word count\n",
       "1995       4  thomasfritts im jealous mountains favorite tol...           8\n",
       "1996       4                                       home minutes           2\n",
       "1997       4           im getting voyager cheap baby im excited           7\n",
       "1998       4  nonicam classic help desk responseturn turn gl...           8\n",
       "1999       4                chatting facey juliabier matt maine           5"
      ]
     },
     "execution_count": 28,
     "metadata": {},
     "output_type": "execute_result"
    }
   ],
   "source": [
    "data_pos.tail()"
   ]
  },
  {
   "cell_type": "code",
   "execution_count": 29,
   "metadata": {},
   "outputs": [
    {
     "data": {
      "text/plain": [
       "1995    [thomasfritts, im, jealous, mountains, favorit...\n",
       "1996                                      [home, minutes]\n",
       "1997     [im, getting, voyager, cheap, baby, im, excited]\n",
       "1998    [nonicam, classic, help, desk, responseturn, t...\n",
       "1999            [chatting, facey, juliabier, matt, maine]\n",
       "Name: text, dtype: object"
      ]
     },
     "execution_count": 29,
     "metadata": {},
     "output_type": "execute_result"
    }
   ],
   "source": [
    "# Doing tokenization of Tweet Text\n",
    "\n",
    "tokenizer = RegexpTokenizer(r'\\w+')\n",
    "df_tk = df['text'].apply(tokenizer.tokenize)\n",
    "df_tk.tail()"
   ]
  },
  {
   "cell_type": "code",
   "execution_count": 30,
   "metadata": {},
   "outputs": [
    {
     "name": "stdout",
     "output_type": "stream",
     "text": [
      "Data Split done.\n"
     ]
    }
   ],
   "source": [
    "# Separate the date into train and test subset\n",
    "\n",
    "X_train, X_test, y_train, y_test = train_test_split(df['text'], df['target'],\n",
    "                                                    test_size = 0.05, random_state = 0)\n",
    "print(f'Data Split done.')\n",
    "\n",
    "# X = df.drop('target', axis=1)  # Predictor feature columns\n",
    "# y = df['target']   # Predicted class (1=True, 0=False)\n",
    "# X_train, X_test, y_train, y_test = train_test_split(X, y, test_size=0.05, random_state=0) \n",
    "# 0.05 is the proportion of the data to allocate to the test set \n",
    "#the random seed used to split the data. This ensures that the same random split is used every time the code is run.\n",
    "\n",
    "X_train.tail()\n",
    "X_train_all = df['text']\n",
    "\n",
    "X_train.to_csv('X_train.csv', index=False)\n",
    "X_test.to_csv('X_test.csv', index=False)\n",
    "y_train.to_csv('y_train.csv', index=False)\n",
    "y_test.to_csv('y_test.csv', index=False)\n",
    "\n"
   ]
  },
  {
   "cell_type": "code",
   "execution_count": 31,
   "metadata": {},
   "outputs": [
    {
     "name": "stdout",
     "output_type": "stream",
     "text": [
      "('X_train shape =', (1900,)) ('y_train shape =', (1900,)) ('X_test shape =', (100,)) ('y_test shape =', (100,))\n"
     ]
    }
   ],
   "source": [
    "print(('X_train shape =', X_train.shape), ('y_train shape =', y_train.shape), ('X_test shape =', X_test.shape), ('y_test shape =', y_test.shape))"
   ]
  },
  {
   "cell_type": "code",
   "execution_count": 32,
   "metadata": {},
   "outputs": [
    {
     "name": "stdout",
     "output_type": "stream",
     "text": [
      "Vectorizer fitted.\n",
      "No. of feature_words:  18480\n"
     ]
    }
   ],
   "source": [
    "from sklearn.feature_extraction.text import TfidfVectorizer\n",
    "from sklearn.naive_bayes import BernoulliNB\n",
    "from sklearn.metrics import accuracy_score\n",
    "\n",
    "# # vectorize the text data\n",
    "vectorizer = TfidfVectorizer(ngram_range=(1,2), max_features=500000)\n",
    "vz = vectorizer.fit_transform(X_train_all)\n",
    "#vectorizer.fit(X_train)\n",
    "print('Vectorizer fitted.')\n",
    "print('No. of feature_words: ', len(vectorizer.get_feature_names_out()))\n",
    "\n",
    "# # transform the text data into a sparse matrix\n",
    "X_train_vec = vectorizer.transform(X_train)\n",
    "X_test_vec = vectorizer.transform(X_test)\n",
    "\n",
    "# save it into sparse matrix format\n",
    "# save_npz('X_train.npz', X_train_vec) #model do save sparse matrix\n",
    "# save_npz('X_test.npz', X_test_vec)"
   ]
  },
  {
   "attachments": {},
   "cell_type": "markdown",
   "metadata": {},
   "source": [
    "Affinity Propagation Algorithm"
   ]
  },
  {
   "cell_type": "code",
   "execution_count": 33,
   "metadata": {},
   "outputs": [
    {
     "data": {
      "text/plain": [
       "[(4, 1963),\n",
       " (13, 4),\n",
       " (0, 3),\n",
       " (1, 3),\n",
       " (2, 3),\n",
       " (12, 3),\n",
       " (3, 3),\n",
       " (6, 3),\n",
       " (5, 3),\n",
       " (8, 3),\n",
       " (10, 3),\n",
       " (7, 2),\n",
       " (9, 2)]"
      ]
     },
     "execution_count": 33,
     "metadata": {},
     "output_type": "execute_result"
    }
   ],
   "source": [
    "from sklearn.metrics.pairwise import cosine_similarity\n",
    "from collections import Counter\n",
    "cosine_sim_features = cosine_similarity(vz)\n",
    "ap = AffinityPropagation(max_iter=1000)\n",
    "ap.fit(cosine_sim_features)\n",
    "res = Counter(ap.labels_)\n",
    "res.most_common(13)"
   ]
  },
  {
   "cell_type": "code",
   "execution_count": 34,
   "metadata": {},
   "outputs": [
    {
     "name": "stdout",
     "output_type": "stream",
     "text": [
      "CLUSTER 0:\n",
      "Some similar twitts: ['ksammm omg yessss im watching th one definitely cried brought cedricks body back', 'im listening greenday sorry im actually goin lol', 'nemoniknemonik time', 'beckyfearns hahaha okay hopeee loooose oh pre orderd new jb album burnin book rolling stone posterr x', 'finethere many movies anticipateespecially quotharry potter quotcause thats shown birthmonthwooot', 'erethfamily hehe theres always someone celebrating somthing family', 'ddlovato hey demi say hi pleasejust hi day colorfull yesterday', 'donniewahlberg thanks much reminding live life kinda stagnant till came back thank xx', 'way home movie anyone coming', 'andrewmoriarty tweet made laugh much', 'buildingwalls ive change thrown times sq riding bike tend avoid area days', 'angesbiz mothers day chillaxed', 'favorite party last night getting attention guys sat watched', 'geeksyndicate posted review site hope tis shite', 'trackies day woop im chaving', 'bronzin body poolside', 'bethenny omg always gowowim exhausted following u twitter atta girl', 'itsmrth nothing', 'martinamis quotits perfect way isquot got wrong joke', 'mmitchelldaviss httpbitljpu might like']\n",
      "--------------------------------------------------\n",
      "====================================================================================================\n",
      "CLUSTER 0:\n",
      "Some similar twitts: ['donniewahlberg thanks much reminding live life kinda stagnant till came back thank xx', 'angesbiz mothers day chillaxed', 'buildingwalls ive change thrown times sq riding bike tend avoid area days', 'andrewmoriarty tweet made laugh much', 'way home movie anyone coming', 'ddlovato hey demi say hi pleasejust hi day colorfull yesterday', 'erethfamily hehe theres always someone celebrating somthing family', 'finethere many movies anticipateespecially quotharry potter quotcause thats shown birthmonthwooot', 'beckyfearns hahaha okay hopeee loooose oh pre orderd new jb album burnin book rolling stone posterr x', 'nemoniknemonik time', 'zaxonate kaathaala romba bore adichathu athan hws hot hot weekend', 'im listening greenday sorry im actually goin lol', 'favorite party last night getting attention guys sat watched', 'geeksyndicate posted review site hope tis shite', 'summer cleaning computer removedgb', 'trackies day woop im chaving', 'bronzin body poolside', 'bethenny omg always gowowim exhausted following u twitter atta girl', 'itsmrth nothing', 'martinamis quotits perfect way isquot got wrong joke']\n",
      "--------------------------------------------------\n",
      "CLUSTER 1:\n",
      "Some similar twitts: ['bethofalltrades httptwitpiccombs happy birthday', 'kingcho happy birthday', 'mcflymusic say happy birthday nanda nandamarinho please', 'waynebrady happy birthday hope awesome day']\n",
      "--------------------------------------------------\n",
      "====================================================================================================\n",
      "CLUSTER 0:\n",
      "Some similar twitts: ['donniewahlberg thanks much reminding live life kinda stagnant till came back thank xx', 'angesbiz mothers day chillaxed', 'buildingwalls ive change thrown times sq riding bike tend avoid area days', 'andrewmoriarty tweet made laugh much', 'way home movie anyone coming', 'ddlovato hey demi say hi pleasejust hi day colorfull yesterday', 'erethfamily hehe theres always someone celebrating somthing family', 'finethere many movies anticipateespecially quotharry potter quotcause thats shown birthmonthwooot', 'beckyfearns hahaha okay hopeee loooose oh pre orderd new jb album burnin book rolling stone posterr x', 'nemoniknemonik time', 'zaxonate kaathaala romba bore adichathu athan hws hot hot weekend', 'im listening greenday sorry im actually goin lol', 'favorite party last night getting attention guys sat watched', 'geeksyndicate posted review site hope tis shite', 'summer cleaning computer removedgb', 'trackies day woop im chaving', 'bronzin body poolside', 'bethenny omg always gowowim exhausted following u twitter atta girl', 'itsmrth nothing', 'martinamis quotits perfect way isquot got wrong joke']\n",
      "--------------------------------------------------\n",
      "CLUSTER 1:\n",
      "Some similar twitts: ['bethofalltrades httptwitpiccombs happy birthday', 'kingcho happy birthday', 'mcflymusic say happy birthday nanda nandamarinho please', 'waynebrady happy birthday hope awesome day']\n",
      "--------------------------------------------------\n",
      "CLUSTER 2:\n",
      "Some similar twitts: ['away minutes lunch hehe x', 'minutes', 'home minutes']\n",
      "--------------------------------------------------\n",
      "====================================================================================================\n",
      "CLUSTER 0:\n",
      "Some similar twitts: ['andrewmoriarty tweet made laugh much', 'favorite party last night getting attention guys sat watched', 'angesbiz mothers day chillaxed', 'buildingwalls ive change thrown times sq riding bike tend avoid area days', 'way home movie anyone coming', 'trackies day woop im chaving', 'donniewahlberg thanks much reminding live life kinda stagnant till came back thank xx', 'ddlovato hey demi say hi pleasejust hi day colorfull yesterday', 'erethfamily hehe theres always someone celebrating somthing family', 'finethere many movies anticipateespecially quotharry potter quotcause thats shown birthmonthwooot', 'beckyfearns hahaha okay hopeee loooose oh pre orderd new jb album burnin book rolling stone posterr x', 'nemoniknemonik time', 'geeksyndicate posted review site hope tis shite', 'bronzin body poolside', 'im listening greenday sorry im actually goin lol', 'bethenny omg always gowowim exhausted following u twitter atta girl', 'itsmrth nothing', 'martinamis quotits perfect way isquot got wrong joke', 'mmitchelldaviss httpbitljpu might like', 'colinbaylen guys']\n",
      "--------------------------------------------------\n",
      "CLUSTER 1:\n",
      "Some similar twitts: ['bethofalltrades httptwitpiccombs happy birthday', 'waynebrady happy birthday hope awesome day', 'kingcho happy birthday', 'mcflymusic say happy birthday nanda nandamarinho please']\n",
      "--------------------------------------------------\n",
      "CLUSTER 2:\n",
      "Some similar twitts: ['minutes', 'away minutes lunch hehe x', 'home minutes']\n",
      "--------------------------------------------------\n",
      "CLUSTER 3:\n",
      "Some similar twitts: ['feeling good anymore ride', 'feeling good really lazy sunday today', 'sicknot feeling good']\n",
      "--------------------------------------------------\n",
      "====================================================================================================\n",
      "CLUSTER 0:\n",
      "Some similar twitts: ['ksammm omg yessss im watching th one definitely cried brought cedricks body back', 'buildingwalls ive change thrown times sq riding bike tend avoid area days', 'geeksyndicate posted review site hope tis shite', 'favorite party last night getting attention guys sat watched', 'angesbiz mothers day chillaxed', 'andrewmoriarty tweet made laugh much', 'bronzin body poolside', 'way home movie anyone coming', 'donniewahlberg thanks much reminding live life kinda stagnant till came back thank xx', 'ddlovato hey demi say hi pleasejust hi day colorfull yesterday', 'erethfamily hehe theres always someone celebrating somthing family', 'finethere many movies anticipateespecially quotharry potter quotcause thats shown birthmonthwooot', 'beckyfearns hahaha okay hopeee loooose oh pre orderd new jb album burnin book rolling stone posterr x', 'trackies day woop im chaving', 'itsmrth nothing', 'bethenny omg always gowowim exhausted following u twitter atta girl', 'zaxonate kaathaala romba bore adichathu athan hws hot hot weekend', 'martinamis quotits perfect way isquot got wrong joke', 'mmitchelldaviss httpbitljpu might like', 'colinbaylen guys']\n",
      "--------------------------------------------------\n",
      "CLUSTER 1:\n",
      "Some similar twitts: ['bethofalltrades httptwitpiccombs happy birthday', 'waynebrady happy birthday hope awesome day', 'kingcho happy birthday', 'mcflymusic say happy birthday nanda nandamarinho please']\n",
      "--------------------------------------------------\n",
      "CLUSTER 2:\n",
      "Some similar twitts: ['minutes', 'away minutes lunch hehe x', 'home minutes']\n",
      "--------------------------------------------------\n",
      "CLUSTER 3:\n",
      "Some similar twitts: ['feeling good anymore ride', 'feeling good really lazy sunday today', 'sicknot feeling good']\n",
      "--------------------------------------------------\n",
      "CLUSTER 4:\n",
      "Some similar twitts: ['bored', 'bored', 'working bored']\n",
      "--------------------------------------------------\n",
      "====================================================================================================\n",
      "CLUSTER 0:\n",
      "Some similar twitts: ['ksammm omg yessss im watching th one definitely cried brought cedricks body back', 'geeksyndicate posted review site hope tis shite', 'favorite party last night getting attention guys sat watched', 'angesbiz mothers day chillaxed', 'andrewmoriarty tweet made laugh much', 'buildingwalls ive change thrown times sq riding bike tend avoid area days', 'way home movie anyone coming', 'donniewahlberg thanks much reminding live life kinda stagnant till came back thank xx', 'ddlovato hey demi say hi pleasejust hi day colorfull yesterday', 'erethfamily hehe theres always someone celebrating somthing family', 'finethere many movies anticipateespecially quotharry potter quotcause thats shown birthmonthwooot', 'trackies day woop im chaving', 'itsmrth nothing', 'bronzin body poolside', 'bethenny omg always gowowim exhausted following u twitter atta girl', 'nemoniknemonik time', 'martinamis quotits perfect way isquot got wrong joke', 'mmitchelldaviss httpbitljpu might like', 'colinbaylen guys', 'fatgenius btw change converting let know try kde']\n",
      "--------------------------------------------------\n",
      "CLUSTER 1:\n",
      "Some similar twitts: ['mcflymusic say happy birthday nanda nandamarinho please', 'bethofalltrades httptwitpiccombs happy birthday', 'kingcho happy birthday', 'waynebrady happy birthday hope awesome day']\n",
      "--------------------------------------------------\n",
      "CLUSTER 2:\n",
      "Some similar twitts: ['minutes', 'away minutes lunch hehe x', 'home minutes']\n",
      "--------------------------------------------------\n",
      "CLUSTER 3:\n",
      "Some similar twitts: ['feeling good anymore ride', 'feeling good really lazy sunday today', 'sicknot feeling good']\n",
      "--------------------------------------------------\n",
      "CLUSTER 4:\n",
      "Some similar twitts: ['bored', 'bored', 'working bored']\n",
      "--------------------------------------------------\n",
      "CLUSTER 5:\n",
      "Some similar twitts: ['caldjr aw hope feel better soon', 'headscan shame take care hope feel better tomorrow', 'padsandpaws hope feel better']\n",
      "--------------------------------------------------\n",
      "====================================================================================================\n",
      "CLUSTER 0:\n",
      "Some similar twitts: ['andrewmoriarty tweet made laugh much', 'buildingwalls ive change thrown times sq riding bike tend avoid area days', 'bronzin body poolside', 'way home movie anyone coming', 'donniewahlberg thanks much reminding live life kinda stagnant till came back thank xx', 'favorite party last night getting attention guys sat watched', 'geeksyndicate posted review site hope tis shite', 'trackies day woop im chaving', 'ddlovato hey demi say hi pleasejust hi day colorfull yesterday', 'erethfamily hehe theres always someone celebrating somthing family', 'angesbiz mothers day chillaxed', 'itsmrth nothing', 'bethenny omg always gowowim exhausted following u twitter atta girl', 'beckyfearns hahaha okay hopeee loooose oh pre orderd new jb album burnin book rolling stone posterr x', 'martinamis quotits perfect way isquot got wrong joke', 'mmitchelldaviss httpbitljpu might like', 'colinbaylen guys', 'fatgenius btw change converting let know try kde', 'today looking like repeat yesterday im okay days', 'beautiful stockholm sun making broown like']\n",
      "--------------------------------------------------\n",
      "CLUSTER 1:\n",
      "Some similar twitts: ['mcflymusic say happy birthday nanda nandamarinho please', 'bethofalltrades httptwitpiccombs happy birthday', 'waynebrady happy birthday hope awesome day', 'kingcho happy birthday']\n",
      "--------------------------------------------------\n",
      "CLUSTER 2:\n",
      "Some similar twitts: ['minutes', 'away minutes lunch hehe x', 'home minutes']\n",
      "--------------------------------------------------\n",
      "CLUSTER 3:\n",
      "Some similar twitts: ['feeling good really lazy sunday today', 'feeling good anymore ride', 'sicknot feeling good']\n",
      "--------------------------------------------------\n",
      "CLUSTER 4:\n",
      "Some similar twitts: ['bored', 'bored', 'working bored']\n",
      "--------------------------------------------------\n",
      "CLUSTER 5:\n",
      "Some similar twitts: ['headscan shame take care hope feel better tomorrow', 'padsandpaws hope feel better', 'caldjr aw hope feel better soon']\n",
      "--------------------------------------------------\n",
      "CLUSTER 6:\n",
      "Some similar twitts: ['last day school day wast time going', 'last day vermont', 'morning last day']\n",
      "--------------------------------------------------\n",
      "====================================================================================================\n",
      "CLUSTER 0:\n",
      "Some similar twitts: ['today looking like repeat yesterday im okay days', 'fatgenius btw change converting let know try kde', 'finethere many movies anticipateespecially quotharry potter quotcause thats shown birthmonthwooot', 'erethfamily hehe theres always someone celebrating somthing family', 'ddlovato hey demi say hi pleasejust hi day colorfull yesterday', 'donniewahlberg thanks much reminding live life kinda stagnant till came back thank xx', 'bobbyedner lol bobby dont need girlfriend lmao need yurself haha ill yur bestie ya want', 'way home movie anyone coming', 'andrewmoriarty tweet made laugh much', 'buildingwalls ive change thrown times sq riding bike tend avoid area days', 'angesbiz mothers day chillaxed', 'favorite party last night getting attention guys sat watched', 'wearing spidey boxers', 'camera shopping today', 'geeksyndicate posted review site hope tis shite', 'philwill target speed quotracequot revised accordingly', 'trackies day woop im chaving', 'bronzin body poolside', 'nemoniknemonik time', 'bethenny omg always gowowim exhausted following u twitter atta girl']\n",
      "--------------------------------------------------\n",
      "CLUSTER 1:\n",
      "Some similar twitts: ['kingcho happy birthday', 'bethofalltrades httptwitpiccombs happy birthday', 'waynebrady happy birthday hope awesome day', 'mcflymusic say happy birthday nanda nandamarinho please']\n",
      "--------------------------------------------------\n",
      "CLUSTER 2:\n",
      "Some similar twitts: ['minutes', 'away minutes lunch hehe x', 'home minutes']\n",
      "--------------------------------------------------\n",
      "CLUSTER 3:\n",
      "Some similar twitts: ['feeling good really lazy sunday today', 'feeling good anymore ride', 'sicknot feeling good']\n",
      "--------------------------------------------------\n",
      "CLUSTER 4:\n",
      "Some similar twitts: ['bored', 'bored', 'working bored']\n",
      "--------------------------------------------------\n",
      "CLUSTER 5:\n",
      "Some similar twitts: ['headscan shame take care hope feel better tomorrow', 'caldjr aw hope feel better soon', 'padsandpaws hope feel better']\n",
      "--------------------------------------------------\n",
      "CLUSTER 6:\n",
      "Some similar twitts: ['last day school day wast time going', 'last day vermont', 'morning last day']\n",
      "--------------------------------------------------\n",
      "CLUSTER 7:\n",
      "Some similar twitts: ['csingerever lost please help find good home', 'stevestucker lost please help find good home', 'thediner lost please help find good home']\n",
      "--------------------------------------------------\n",
      "====================================================================================================\n",
      "CLUSTER 0:\n",
      "Some similar twitts: ['donniewahlberg thanks much reminding live life kinda stagnant till came back thank xx', 'way home movie anyone coming', 'andrewmoriarty tweet made laugh much', 'buildingwalls ive change thrown times sq riding bike tend avoid area days', 'ddlovato hey demi say hi pleasejust hi day colorfull yesterday', 'angesbiz mothers day chillaxed', 'favorite party last night getting attention guys sat watched', 'geeksyndicate posted review site hope tis shite', 'erethfamily hehe theres always someone celebrating somthing family', 'bronzin body poolside', 'trackies day woop im chaving', 'beckyfearns hahaha okay hopeee loooose oh pre orderd new jb album burnin book rolling stone posterr x', 'bethenny omg always gowowim exhausted following u twitter atta girl', 'itsmrth nothing', 'martinamis quotits perfect way isquot got wrong joke', 'mmitchelldaviss httpbitljpu might like', 'colinbaylen guys', 'fatgenius btw change converting let know try kde', 'today looking like repeat yesterday im okay days', 'beautiful stockholm sun making broown like']\n",
      "--------------------------------------------------\n",
      "CLUSTER 1:\n",
      "Some similar twitts: ['bethofalltrades httptwitpiccombs happy birthday', 'kingcho happy birthday', 'waynebrady happy birthday hope awesome day', 'mcflymusic say happy birthday nanda nandamarinho please']\n",
      "--------------------------------------------------\n",
      "CLUSTER 2:\n",
      "Some similar twitts: ['minutes', 'away minutes lunch hehe x', 'home minutes']\n",
      "--------------------------------------------------\n",
      "CLUSTER 3:\n",
      "Some similar twitts: ['feeling good anymore ride', 'feeling good really lazy sunday today', 'sicknot feeling good']\n",
      "--------------------------------------------------\n",
      "CLUSTER 4:\n",
      "Some similar twitts: ['bored', 'bored', 'working bored']\n",
      "--------------------------------------------------\n",
      "CLUSTER 5:\n",
      "Some similar twitts: ['headscan shame take care hope feel better tomorrow', 'caldjr aw hope feel better soon', 'padsandpaws hope feel better']\n",
      "--------------------------------------------------\n",
      "CLUSTER 6:\n",
      "Some similar twitts: ['last day vermont', 'morning last day', 'last day school day wast time going']\n",
      "--------------------------------------------------\n",
      "CLUSTER 7:\n",
      "Some similar twitts: ['csingerever lost please help find good home', 'thediner lost please help find good home', 'stevestucker lost please help find good home']\n",
      "--------------------------------------------------\n",
      "CLUSTER 8:\n",
      "Some similar twitts: ['lizwicker awake yes know irs early cant sleep', 'cant sleep', 'cant sleep could think']\n",
      "--------------------------------------------------\n",
      "====================================================================================================\n",
      "CLUSTER 0:\n",
      "Some similar twitts: ['geeksyndicate posted review site hope tis shite', 'favorite party last night getting attention guys sat watched', 'ksammm omg yessss im watching th one definitely cried brought cedricks body back', 'angesbiz mothers day chillaxed', 'andrewmoriarty tweet made laugh much', 'way home movie anyone coming', 'donniewahlberg thanks much reminding live life kinda stagnant till came back thank xx', 'ddlovato hey demi say hi pleasejust hi day colorfull yesterday', 'buildingwalls ive change thrown times sq riding bike tend avoid area days', 'bethenny omg always gowowim exhausted following u twitter atta girl', 'trackies day woop im chaving', 'bronzin body poolside', 'finethere many movies anticipateespecially quotharry potter quotcause thats shown birthmonthwooot', 'itsmrth nothing', 'martinamis quotits perfect way isquot got wrong joke', 'mmitchelldaviss httpbitljpu might like', 'colinbaylen guys', 'fatgenius btw change converting let know try kde', 'today looking like repeat yesterday im okay days', 'beautiful stockholm sun making broown like']\n",
      "--------------------------------------------------\n",
      "CLUSTER 1:\n",
      "Some similar twitts: ['kingcho happy birthday', 'bethofalltrades httptwitpiccombs happy birthday', 'waynebrady happy birthday hope awesome day', 'mcflymusic say happy birthday nanda nandamarinho please']\n",
      "--------------------------------------------------\n",
      "CLUSTER 2:\n",
      "Some similar twitts: ['minutes', 'away minutes lunch hehe x', 'home minutes']\n",
      "--------------------------------------------------\n",
      "CLUSTER 3:\n",
      "Some similar twitts: ['feeling good anymore ride', 'feeling good really lazy sunday today', 'sicknot feeling good']\n",
      "--------------------------------------------------\n",
      "CLUSTER 4:\n",
      "Some similar twitts: ['bored', 'bored', 'working bored']\n",
      "--------------------------------------------------\n",
      "CLUSTER 5:\n",
      "Some similar twitts: ['headscan shame take care hope feel better tomorrow', 'caldjr aw hope feel better soon', 'padsandpaws hope feel better']\n",
      "--------------------------------------------------\n",
      "CLUSTER 6:\n",
      "Some similar twitts: ['last day school day wast time going', 'morning last day', 'last day vermont']\n",
      "--------------------------------------------------\n",
      "CLUSTER 7:\n",
      "Some similar twitts: ['csingerever lost please help find good home', 'thediner lost please help find good home', 'stevestucker lost please help find good home']\n",
      "--------------------------------------------------\n",
      "CLUSTER 8:\n",
      "Some similar twitts: ['lizwicker awake yes know irs early cant sleep', 'cant sleep could think', 'cant sleep']\n",
      "--------------------------------------------------\n",
      "CLUSTER 9:\n",
      "Some similar twitts: ['eating', 'eating gateway', 'eating favorite cereal']\n",
      "--------------------------------------------------\n",
      "====================================================================================================\n",
      "CLUSTER 0:\n",
      "Some similar twitts: ['bethenny omg always gowowim exhausted following u twitter atta girl', 'erethfamily hehe theres always someone celebrating somthing family', 'camera shopping today', 'ddlovato hey demi say hi pleasejust hi day colorfull yesterday', 'donniewahlberg thanks much reminding live life kinda stagnant till came back thank xx', 'way home movie anyone coming', 'philwill target speed quotracequot revised accordingly', 'andrewmoriarty tweet made laugh much', 'buildingwalls ive change thrown times sq riding bike tend avoid area days', 'beautiful stockholm sun making broown like', 'angesbiz mothers day chillaxed', 'today looking like repeat yesterday im okay days', 'fatgenius btw change converting let know try kde', 'colinbaylen guys', 'mmitchelldaviss httpbitljpu might like', 'favorite party last night getting attention guys sat watched', 'martinamis quotits perfect way isquot got wrong joke', 'geeksyndicate posted review site hope tis shite', 'itsmrth nothing', 'trackies day woop im chaving']\n",
      "--------------------------------------------------\n",
      "CLUSTER 1:\n",
      "Some similar twitts: ['mcflymusic say happy birthday nanda nandamarinho please', 'kingcho happy birthday', 'bethofalltrades httptwitpiccombs happy birthday', 'waynebrady happy birthday hope awesome day']\n",
      "--------------------------------------------------\n",
      "CLUSTER 2:\n",
      "Some similar twitts: ['away minutes lunch hehe x', 'minutes', 'home minutes']\n",
      "--------------------------------------------------\n",
      "CLUSTER 3:\n",
      "Some similar twitts: ['feeling good anymore ride', 'sicknot feeling good', 'feeling good really lazy sunday today']\n",
      "--------------------------------------------------\n",
      "CLUSTER 4:\n",
      "Some similar twitts: ['working bored', 'bored', 'bored']\n",
      "--------------------------------------------------\n",
      "CLUSTER 5:\n",
      "Some similar twitts: ['headscan shame take care hope feel better tomorrow', 'padsandpaws hope feel better', 'caldjr aw hope feel better soon']\n",
      "--------------------------------------------------\n",
      "CLUSTER 6:\n",
      "Some similar twitts: ['last day school day wast time going', 'morning last day', 'last day vermont']\n",
      "--------------------------------------------------\n",
      "CLUSTER 7:\n",
      "Some similar twitts: ['stevestucker lost please help find good home', 'csingerever lost please help find good home', 'thediner lost please help find good home']\n",
      "--------------------------------------------------\n",
      "CLUSTER 8:\n",
      "Some similar twitts: ['cant sleep', 'cant sleep could think', 'lizwicker awake yes know irs early cant sleep']\n",
      "--------------------------------------------------\n",
      "CLUSTER 9:\n",
      "Some similar twitts: ['eating favorite cereal', 'eating gateway', 'eating']\n",
      "--------------------------------------------------\n",
      "CLUSTER 10:\n",
      "Some similar twitts: ['douglaspaul hey thanks', 'joycelyn hey thanks retweet', 'hey']\n",
      "--------------------------------------------------\n",
      "====================================================================================================\n",
      "CLUSTER 0:\n",
      "Some similar twitts: ['ddlovato hey demi say hi pleasejust hi day colorfull yesterday', 'buildingwalls ive change thrown times sq riding bike tend avoid area days', 'favorite party last night getting attention guys sat watched', 'andrewmoriarty tweet made laugh much', 'way home movie anyone coming', 'geeksyndicate posted review site hope tis shite', 'donniewahlberg thanks much reminding live life kinda stagnant till came back thank xx', 'angesbiz mothers day chillaxed', 'ksammm omg yessss im watching th one definitely cried brought cedricks body back', 'trackies day woop im chaving', 'bronzin body poolside', 'finethere many movies anticipateespecially quotharry potter quotcause thats shown birthmonthwooot', 'bethenny omg always gowowim exhausted following u twitter atta girl', 'itsmrth nothing', 'martinamis quotits perfect way isquot got wrong joke', 'mmitchelldaviss httpbitljpu might like', 'colinbaylen guys', 'fatgenius btw change converting let know try kde', 'today looking like repeat yesterday im okay days', 'beautiful stockholm sun making broown like']\n",
      "--------------------------------------------------\n",
      "CLUSTER 1:\n",
      "Some similar twitts: ['mcflymusic say happy birthday nanda nandamarinho please', 'bethofalltrades httptwitpiccombs happy birthday', 'waynebrady happy birthday hope awesome day', 'kingcho happy birthday']\n",
      "--------------------------------------------------\n",
      "CLUSTER 2:\n",
      "Some similar twitts: ['away minutes lunch hehe x', 'minutes', 'home minutes']\n",
      "--------------------------------------------------\n",
      "CLUSTER 3:\n",
      "Some similar twitts: ['feeling good anymore ride', 'sicknot feeling good', 'feeling good really lazy sunday today']\n",
      "--------------------------------------------------\n",
      "CLUSTER 4:\n",
      "Some similar twitts: ['working bored', 'bored', 'bored']\n",
      "--------------------------------------------------\n",
      "CLUSTER 5:\n",
      "Some similar twitts: ['headscan shame take care hope feel better tomorrow', 'padsandpaws hope feel better', 'caldjr aw hope feel better soon']\n",
      "--------------------------------------------------\n",
      "CLUSTER 6:\n",
      "Some similar twitts: ['last day school day wast time going', 'morning last day', 'last day vermont']\n",
      "--------------------------------------------------\n",
      "CLUSTER 7:\n",
      "Some similar twitts: ['stevestucker lost please help find good home', 'thediner lost please help find good home', 'csingerever lost please help find good home']\n",
      "--------------------------------------------------\n",
      "CLUSTER 8:\n",
      "Some similar twitts: ['cant sleep', 'lizwicker awake yes know irs early cant sleep', 'cant sleep could think']\n",
      "--------------------------------------------------\n",
      "CLUSTER 9:\n",
      "Some similar twitts: ['eating', 'eating gateway', 'eating favorite cereal']\n",
      "--------------------------------------------------\n",
      "CLUSTER 10:\n",
      "Some similar twitts: ['hey', 'joycelyn hey thanks retweet', 'douglaspaul hey thanks']\n",
      "--------------------------------------------------\n",
      "CLUSTER 11:\n",
      "Some similar twitts: ['im soooo bored right', 'one bored right']\n",
      "--------------------------------------------------\n",
      "====================================================================================================\n"
     ]
    }
   ],
   "source": [
    "df['cluster_label'] = ap.labels_\n",
    "for num_clusters in range(1,13):\n",
    "  filtered_clusters = [item[0] for item in res.most_common(num_clusters)]\n",
    "  filtered_df = df[df['cluster_label'].isin(filtered_clusters)]\n",
    "  twitter_clusters = (filtered_df[['text', 'cluster_label']]\n",
    "                    .sort_values(by=['cluster_label'], \n",
    "                                ascending=False)\n",
    "                    .groupby('cluster_label').head(20))\n",
    "  twitter_clusters = twitter_clusters.copy(deep=True)\n",
    "\n",
    "  # get key features for each cluster\n",
    "  # get twetts belonging to each cluster\n",
    "  for cluster_num in range(len(filtered_clusters)):\n",
    "      twitts = twitter_clusters[twitter_clusters['cluster_label'] == filtered_clusters[cluster_num]]['text'].values.tolist()\n",
    "      print('CLUSTER '+str(cluster_num)+':')\n",
    "      print('Some similar twitts:', twitts)\n",
    "      print('-'*50)\n",
    "  print('='*100)"
   ]
  }
 ],
 "metadata": {
  "kernelspec": {
   "display_name": "base",
   "language": "python",
   "name": "python3"
  },
  "language_info": {
   "codemirror_mode": {
    "name": "ipython",
    "version": 3
   },
   "file_extension": ".py",
   "mimetype": "text/x-python",
   "name": "python",
   "nbconvert_exporter": "python",
   "pygments_lexer": "ipython3",
   "version": "3.9.13"
  },
  "orig_nbformat": 4
 },
 "nbformat": 4,
 "nbformat_minor": 2
}
